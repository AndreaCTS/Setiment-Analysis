{
  "cells": [
    {
      "cell_type": "markdown",
      "metadata": {
        "id": "K_VdNQ9cbfoK"
      },
      "source": [
        "# Import"
      ]
    },
    {
      "cell_type": "code",
      "execution_count": 1,
      "metadata": {},
      "outputs": [
        {
          "name": "stdout",
          "output_type": "stream",
          "text": [
            "Requirement already satisfied: joblib==1.2.0 in c:\\users\\andre\\anaconda3\\envs\\pycaret_env\\lib\\site-packages (1.2.0)\n",
            "Note: you may need to restart the kernel to use updated packages.\n",
            "Requirement already satisfied: pycaret in c:\\users\\andre\\anaconda3\\envs\\pycaret_env\\lib\\site-packages (3.2.0)Note: you may need to restart the kernel to use updated packages.\n",
            "\n",
            "Requirement already satisfied: category-encoders>=2.4.0 in c:\\users\\andre\\anaconda3\\envs\\pycaret_env\\lib\\site-packages (from pycaret) (2.6.4)\n",
            "Requirement already satisfied: cloudpickle in c:\\users\\andre\\anaconda3\\envs\\pycaret_env\\lib\\site-packages (from pycaret) (3.1.1)\n",
            "Requirement already satisfied: deprecation>=2.1.0 in c:\\users\\andre\\anaconda3\\envs\\pycaret_env\\lib\\site-packages (from pycaret) (2.1.0)\n",
            "Requirement already satisfied: imbalanced-learn>=0.8.1 in c:\\users\\andre\\anaconda3\\envs\\pycaret_env\\lib\\site-packages (from pycaret) (0.12.4)\n",
            "Requirement already satisfied: importlib-metadata>=4.12.0 in c:\\users\\andre\\anaconda3\\envs\\pycaret_env\\lib\\site-packages (from pycaret) (7.0.1)\n",
            "Requirement already satisfied: ipython>=5.5.0 in c:\\users\\andre\\anaconda3\\envs\\pycaret_env\\lib\\site-packages (from pycaret) (8.12.2)\n",
            "Requirement already satisfied: ipywidgets>=7.6.5 in c:\\users\\andre\\anaconda3\\envs\\pycaret_env\\lib\\site-packages (from pycaret) (8.1.5)\n",
            "Requirement already satisfied: jinja2>=1.2 in c:\\users\\andre\\anaconda3\\envs\\pycaret_env\\lib\\site-packages (from pycaret) (3.1.5)\n",
            "Requirement already satisfied: joblib>=1.2.0 in c:\\users\\andre\\anaconda3\\envs\\pycaret_env\\lib\\site-packages (from pycaret) (1.2.0)\n",
            "Requirement already satisfied: kaleido>=0.2.1 in c:\\users\\andre\\anaconda3\\envs\\pycaret_env\\lib\\site-packages (from pycaret) (0.2.1)\n",
            "Requirement already satisfied: lightgbm>=3.0.0 in c:\\users\\andre\\anaconda3\\envs\\pycaret_env\\lib\\site-packages (from pycaret) (4.5.0)\n",
            "Requirement already satisfied: markupsafe>=2.0.1 in c:\\users\\andre\\anaconda3\\envs\\pycaret_env\\lib\\site-packages (from pycaret) (2.1.5)\n",
            "Requirement already satisfied: matplotlib<=3.6,>=3.3.0 in c:\\users\\andre\\anaconda3\\envs\\pycaret_env\\lib\\site-packages (from pycaret) (3.6.0)\n",
            "Requirement already satisfied: nbformat>=4.2.0 in c:\\users\\andre\\anaconda3\\envs\\pycaret_env\\lib\\site-packages (from pycaret) (5.10.4)\n",
            "Requirement already satisfied: numba>=0.55.0 in c:\\users\\andre\\anaconda3\\envs\\pycaret_env\\lib\\site-packages (from pycaret) (0.58.1)\n",
            "Requirement already satisfied: numpy<1.27,>=1.21 in c:\\users\\andre\\anaconda3\\envs\\pycaret_env\\lib\\site-packages (from pycaret) (1.24.4)\n",
            "Requirement already satisfied: pandas<2.0.0,>=1.3.0 in c:\\users\\andre\\anaconda3\\envs\\pycaret_env\\lib\\site-packages (from pycaret) (1.5.3)\n",
            "Requirement already satisfied: plotly-resampler>=0.8.3.1 in c:\\users\\andre\\anaconda3\\envs\\pycaret_env\\lib\\site-packages (from pycaret) (0.10.0)\n",
            "Requirement already satisfied: plotly>=5.0.0 in c:\\users\\andre\\anaconda3\\envs\\pycaret_env\\lib\\site-packages (from pycaret) (5.24.1)\n",
            "Requirement already satisfied: pmdarima!=1.8.1,<3.0.0,>=1.8.0 in c:\\users\\andre\\anaconda3\\envs\\pycaret_env\\lib\\site-packages (from pycaret) (2.0.4)\n",
            "Requirement already satisfied: psutil>=5.9.0 in c:\\users\\andre\\anaconda3\\envs\\pycaret_env\\lib\\site-packages (from pycaret) (5.9.0)\n",
            "Requirement already satisfied: pyod>=1.0.8 in c:\\users\\andre\\anaconda3\\envs\\pycaret_env\\lib\\site-packages (from pycaret) (2.0.3)\n",
            "Requirement already satisfied: requests>=2.27.1 in c:\\users\\andre\\anaconda3\\envs\\pycaret_env\\lib\\site-packages (from pycaret) (2.32.3)\n",
            "Requirement already satisfied: schemdraw==0.15 in c:\\users\\andre\\anaconda3\\envs\\pycaret_env\\lib\\site-packages (from pycaret) (0.15)\n",
            "Requirement already satisfied: scikit-learn<1.3.0,>=1.0 in c:\\users\\andre\\anaconda3\\envs\\pycaret_env\\lib\\site-packages (from pycaret) (1.2.2)\n",
            "Requirement already satisfied: scikit-plot>=0.3.7 in c:\\users\\andre\\anaconda3\\envs\\pycaret_env\\lib\\site-packages (from pycaret) (0.3.7)\n",
            "Requirement already satisfied: scipy~=1.10.1 in c:\\users\\andre\\anaconda3\\envs\\pycaret_env\\lib\\site-packages (from pycaret) (1.10.1)\n",
            "Requirement already satisfied: sktime!=0.17.1,!=0.17.2,!=0.18.0,<0.22.0,>=0.16.1 in c:\\users\\andre\\anaconda3\\envs\\pycaret_env\\lib\\site-packages (from pycaret) (0.21.1)\n",
            "Requirement already satisfied: statsmodels>=0.12.1 in c:\\users\\andre\\anaconda3\\envs\\pycaret_env\\lib\\site-packages (from pycaret) (0.14.1)\n",
            "Requirement already satisfied: tbats>=1.1.3 in c:\\users\\andre\\anaconda3\\envs\\pycaret_env\\lib\\site-packages (from pycaret) (1.1.3)\n",
            "Requirement already satisfied: tqdm>=4.62.0 in c:\\users\\andre\\anaconda3\\envs\\pycaret_env\\lib\\site-packages (from pycaret) (4.67.1)\n",
            "Requirement already satisfied: xxhash in c:\\users\\andre\\anaconda3\\envs\\pycaret_env\\lib\\site-packages (from pycaret) (3.5.0)\n",
            "Requirement already satisfied: yellowbrick>=1.4 in c:\\users\\andre\\anaconda3\\envs\\pycaret_env\\lib\\site-packages (from pycaret) (1.5)\n",
            "Requirement already satisfied: patsy>=0.5.1 in c:\\users\\andre\\anaconda3\\envs\\pycaret_env\\lib\\site-packages (from category-encoders>=2.4.0->pycaret) (1.0.1)\n",
            "Requirement already satisfied: importlib-resources in c:\\users\\andre\\anaconda3\\envs\\pycaret_env\\lib\\site-packages (from category-encoders>=2.4.0->pycaret) (6.4.5)\n",
            "Requirement already satisfied: packaging in c:\\users\\andre\\anaconda3\\envs\\pycaret_env\\lib\\site-packages (from deprecation>=2.1.0->pycaret) (24.1)\n",
            "Requirement already satisfied: threadpoolctl>=2.0.0 in c:\\users\\andre\\anaconda3\\envs\\pycaret_env\\lib\\site-packages (from imbalanced-learn>=0.8.1->pycaret) (3.5.0)\n",
            "Requirement already satisfied: zipp>=0.5 in c:\\users\\andre\\anaconda3\\envs\\pycaret_env\\lib\\site-packages (from importlib-metadata>=4.12.0->pycaret) (3.20.2)\n",
            "Requirement already satisfied: backcall in c:\\users\\andre\\anaconda3\\envs\\pycaret_env\\lib\\site-packages (from ipython>=5.5.0->pycaret) (0.2.0)\n",
            "Requirement already satisfied: decorator in c:\\users\\andre\\anaconda3\\envs\\pycaret_env\\lib\\site-packages (from ipython>=5.5.0->pycaret) (5.1.1)\n",
            "Requirement already satisfied: jedi>=0.16 in c:\\users\\andre\\anaconda3\\envs\\pycaret_env\\lib\\site-packages (from ipython>=5.5.0->pycaret) (0.19.1)\n",
            "Requirement already satisfied: matplotlib-inline in c:\\users\\andre\\anaconda3\\envs\\pycaret_env\\lib\\site-packages (from ipython>=5.5.0->pycaret) (0.1.6)\n",
            "Requirement already satisfied: pickleshare in c:\\users\\andre\\anaconda3\\envs\\pycaret_env\\lib\\site-packages (from ipython>=5.5.0->pycaret) (0.7.5)\n",
            "Requirement already satisfied: prompt-toolkit!=3.0.37,<3.1.0,>=3.0.30 in c:\\users\\andre\\anaconda3\\envs\\pycaret_env\\lib\\site-packages (from ipython>=5.5.0->pycaret) (3.0.43)\n",
            "Requirement already satisfied: pygments>=2.4.0 in c:\\users\\andre\\anaconda3\\envs\\pycaret_env\\lib\\site-packages (from ipython>=5.5.0->pycaret) (2.15.1)\n",
            "Requirement already satisfied: stack-data in c:\\users\\andre\\anaconda3\\envs\\pycaret_env\\lib\\site-packages (from ipython>=5.5.0->pycaret) (0.2.0)\n",
            "Requirement already satisfied: traitlets>=5 in c:\\users\\andre\\anaconda3\\envs\\pycaret_env\\lib\\site-packages (from ipython>=5.5.0->pycaret) (5.14.3)\n",
            "Requirement already satisfied: typing-extensions in c:\\users\\andre\\anaconda3\\envs\\pycaret_env\\lib\\site-packages (from ipython>=5.5.0->pycaret) (4.11.0)\n",
            "Requirement already satisfied: colorama in c:\\users\\andre\\anaconda3\\envs\\pycaret_env\\lib\\site-packages (from ipython>=5.5.0->pycaret) (0.4.6)\n",
            "Requirement already satisfied: comm>=0.1.3 in c:\\users\\andre\\anaconda3\\envs\\pycaret_env\\lib\\site-packages (from ipywidgets>=7.6.5->pycaret) (0.2.1)\n",
            "Requirement already satisfied: widgetsnbextension~=4.0.12 in c:\\users\\andre\\anaconda3\\envs\\pycaret_env\\lib\\site-packages (from ipywidgets>=7.6.5->pycaret) (4.0.13)\n",
            "Requirement already satisfied: jupyterlab-widgets~=3.0.12 in c:\\users\\andre\\anaconda3\\envs\\pycaret_env\\lib\\site-packages (from ipywidgets>=7.6.5->pycaret) (3.0.13)\n",
            "Requirement already satisfied: contourpy>=1.0.1 in c:\\users\\andre\\anaconda3\\envs\\pycaret_env\\lib\\site-packages (from matplotlib<=3.6,>=3.3.0->pycaret) (1.1.1)\n",
            "Requirement already satisfied: cycler>=0.10 in c:\\users\\andre\\anaconda3\\envs\\pycaret_env\\lib\\site-packages (from matplotlib<=3.6,>=3.3.0->pycaret) (0.12.1)\n",
            "Requirement already satisfied: fonttools>=4.22.0 in c:\\users\\andre\\anaconda3\\envs\\pycaret_env\\lib\\site-packages (from matplotlib<=3.6,>=3.3.0->pycaret) (4.56.0)\n",
            "Requirement already satisfied: kiwisolver>=1.0.1 in c:\\users\\andre\\anaconda3\\envs\\pycaret_env\\lib\\site-packages (from matplotlib<=3.6,>=3.3.0->pycaret) (1.4.7)\n",
            "Requirement already satisfied: pillow>=6.2.0 in c:\\users\\andre\\anaconda3\\envs\\pycaret_env\\lib\\site-packages (from matplotlib<=3.6,>=3.3.0->pycaret) (10.4.0)\n",
            "Requirement already satisfied: pyparsing>=2.2.1 in c:\\users\\andre\\anaconda3\\envs\\pycaret_env\\lib\\site-packages (from matplotlib<=3.6,>=3.3.0->pycaret) (3.1.4)\n",
            "Requirement already satisfied: python-dateutil>=2.7 in c:\\users\\andre\\anaconda3\\envs\\pycaret_env\\lib\\site-packages (from matplotlib<=3.6,>=3.3.0->pycaret) (2.9.0.post0)\n",
            "Requirement already satisfied: fastjsonschema>=2.15 in c:\\users\\andre\\anaconda3\\envs\\pycaret_env\\lib\\site-packages (from nbformat>=4.2.0->pycaret) (2.21.1)\n",
            "Requirement already satisfied: jsonschema>=2.6 in c:\\users\\andre\\anaconda3\\envs\\pycaret_env\\lib\\site-packages (from nbformat>=4.2.0->pycaret) (4.23.0)\n",
            "Requirement already satisfied: jupyter-core!=5.0.*,>=4.12 in c:\\users\\andre\\anaconda3\\envs\\pycaret_env\\lib\\site-packages (from nbformat>=4.2.0->pycaret) (5.7.2)\n",
            "Requirement already satisfied: llvmlite<0.42,>=0.41.0dev0 in c:\\users\\andre\\anaconda3\\envs\\pycaret_env\\lib\\site-packages (from numba>=0.55.0->pycaret) (0.41.1)\n",
            "Requirement already satisfied: pytz>=2020.1 in c:\\users\\andre\\anaconda3\\envs\\pycaret_env\\lib\\site-packages (from pandas<2.0.0,>=1.3.0->pycaret) (2025.1)\n",
            "Requirement already satisfied: tenacity>=6.2.0 in c:\\users\\andre\\anaconda3\\envs\\pycaret_env\\lib\\site-packages (from plotly>=5.0.0->pycaret) (9.0.0)\n",
            "Requirement already satisfied: dash>=2.9.0 in c:\\users\\andre\\anaconda3\\envs\\pycaret_env\\lib\\site-packages (from plotly-resampler>=0.8.3.1->pycaret) (2.18.2)\n",
            "Requirement already satisfied: orjson<4.0.0,>=3.8.0 in c:\\users\\andre\\anaconda3\\envs\\pycaret_env\\lib\\site-packages (from plotly-resampler>=0.8.3.1->pycaret) (3.10.15)\n",
            "Requirement already satisfied: tsdownsample>=0.1.3 in c:\\users\\andre\\anaconda3\\envs\\pycaret_env\\lib\\site-packages (from plotly-resampler>=0.8.3.1->pycaret) (0.1.4.1)\n",
            "Requirement already satisfied: Cython!=0.29.18,!=0.29.31,>=0.29 in c:\\users\\andre\\anaconda3\\envs\\pycaret_env\\lib\\site-packages (from pmdarima!=1.8.1,<3.0.0,>=1.8.0->pycaret) (3.0.12)\n",
            "Requirement already satisfied: urllib3 in c:\\users\\andre\\anaconda3\\envs\\pycaret_env\\lib\\site-packages (from pmdarima!=1.8.1,<3.0.0,>=1.8.0->pycaret) (2.2.3)\n",
            "Requirement already satisfied: setuptools!=50.0.0,>=38.6.0 in c:\\users\\andre\\anaconda3\\envs\\pycaret_env\\lib\\site-packages (from pmdarima!=1.8.1,<3.0.0,>=1.8.0->pycaret) (75.1.0)\n",
            "Requirement already satisfied: charset-normalizer<4,>=2 in c:\\users\\andre\\anaconda3\\envs\\pycaret_env\\lib\\site-packages (from requests>=2.27.1->pycaret) (3.4.1)\n",
            "Requirement already satisfied: idna<4,>=2.5 in c:\\users\\andre\\anaconda3\\envs\\pycaret_env\\lib\\site-packages (from requests>=2.27.1->pycaret) (3.10)\n",
            "Requirement already satisfied: certifi>=2017.4.17 in c:\\users\\andre\\anaconda3\\envs\\pycaret_env\\lib\\site-packages (from requests>=2.27.1->pycaret) (2025.1.31)\n",
            "Requirement already satisfied: deprecated>=1.2.13 in c:\\users\\andre\\anaconda3\\envs\\pycaret_env\\lib\\site-packages (from sktime!=0.17.1,!=0.17.2,!=0.18.0,<0.22.0,>=0.16.1->pycaret) (1.2.18)\n",
            "Requirement already satisfied: scikit-base<0.6.0 in c:\\users\\andre\\anaconda3\\envs\\pycaret_env\\lib\\site-packages (from sktime!=0.17.1,!=0.17.2,!=0.18.0,<0.22.0,>=0.16.1->pycaret) (0.5.2)\n",
            "Requirement already satisfied: Flask<3.1,>=1.0.4 in c:\\users\\andre\\anaconda3\\envs\\pycaret_env\\lib\\site-packages (from dash>=2.9.0->plotly-resampler>=0.8.3.1->pycaret) (3.0.3)\n",
            "Requirement already satisfied: Werkzeug<3.1 in c:\\users\\andre\\anaconda3\\envs\\pycaret_env\\lib\\site-packages (from dash>=2.9.0->plotly-resampler>=0.8.3.1->pycaret) (3.0.6)\n",
            "Requirement already satisfied: dash-html-components==2.0.0 in c:\\users\\andre\\anaconda3\\envs\\pycaret_env\\lib\\site-packages (from dash>=2.9.0->plotly-resampler>=0.8.3.1->pycaret) (2.0.0)\n",
            "Requirement already satisfied: dash-core-components==2.0.0 in c:\\users\\andre\\anaconda3\\envs\\pycaret_env\\lib\\site-packages (from dash>=2.9.0->plotly-resampler>=0.8.3.1->pycaret) (2.0.0)\n",
            "Requirement already satisfied: dash-table==5.0.0 in c:\\users\\andre\\anaconda3\\envs\\pycaret_env\\lib\\site-packages (from dash>=2.9.0->plotly-resampler>=0.8.3.1->pycaret) (5.0.0)\n",
            "Requirement already satisfied: retrying in c:\\users\\andre\\anaconda3\\envs\\pycaret_env\\lib\\site-packages (from dash>=2.9.0->plotly-resampler>=0.8.3.1->pycaret) (1.3.4)\n",
            "Requirement already satisfied: nest-asyncio in c:\\users\\andre\\anaconda3\\envs\\pycaret_env\\lib\\site-packages (from dash>=2.9.0->plotly-resampler>=0.8.3.1->pycaret) (1.6.0)\n",
            "Requirement already satisfied: wrapt<2,>=1.10 in c:\\users\\andre\\anaconda3\\envs\\pycaret_env\\lib\\site-packages (from deprecated>=1.2.13->sktime!=0.17.1,!=0.17.2,!=0.18.0,<0.22.0,>=0.16.1->pycaret) (1.17.2)\n",
            "Requirement already satisfied: parso<0.9.0,>=0.8.3 in c:\\users\\andre\\anaconda3\\envs\\pycaret_env\\lib\\site-packages (from jedi>=0.16->ipython>=5.5.0->pycaret) (0.8.3)\n",
            "Requirement already satisfied: attrs>=22.2.0 in c:\\users\\andre\\anaconda3\\envs\\pycaret_env\\lib\\site-packages (from jsonschema>=2.6->nbformat>=4.2.0->pycaret) (25.1.0)\n",
            "Requirement already satisfied: jsonschema-specifications>=2023.03.6 in c:\\users\\andre\\anaconda3\\envs\\pycaret_env\\lib\\site-packages (from jsonschema>=2.6->nbformat>=4.2.0->pycaret) (2023.12.1)\n",
            "Requirement already satisfied: pkgutil-resolve-name>=1.3.10 in c:\\users\\andre\\anaconda3\\envs\\pycaret_env\\lib\\site-packages (from jsonschema>=2.6->nbformat>=4.2.0->pycaret) (1.3.10)\n",
            "Requirement already satisfied: referencing>=0.28.4 in c:\\users\\andre\\anaconda3\\envs\\pycaret_env\\lib\\site-packages (from jsonschema>=2.6->nbformat>=4.2.0->pycaret) (0.35.1)\n",
            "Requirement already satisfied: rpds-py>=0.7.1 in c:\\users\\andre\\anaconda3\\envs\\pycaret_env\\lib\\site-packages (from jsonschema>=2.6->nbformat>=4.2.0->pycaret) (0.20.1)\n",
            "Requirement already satisfied: platformdirs>=2.5 in c:\\users\\andre\\anaconda3\\envs\\pycaret_env\\lib\\site-packages (from jupyter-core!=5.0.*,>=4.12->nbformat>=4.2.0->pycaret) (3.10.0)\n",
            "Requirement already satisfied: pywin32>=300 in c:\\users\\andre\\anaconda3\\envs\\pycaret_env\\lib\\site-packages (from jupyter-core!=5.0.*,>=4.12->nbformat>=4.2.0->pycaret) (305.1)\n",
            "Requirement already satisfied: wcwidth in c:\\users\\andre\\anaconda3\\envs\\pycaret_env\\lib\\site-packages (from prompt-toolkit!=3.0.37,<3.1.0,>=3.0.30->ipython>=5.5.0->pycaret) (0.2.5)\n",
            "Requirement already satisfied: six>=1.5 in c:\\users\\andre\\anaconda3\\envs\\pycaret_env\\lib\\site-packages (from python-dateutil>=2.7->matplotlib<=3.6,>=3.3.0->pycaret) (1.16.0)\n",
            "Requirement already satisfied: executing in c:\\users\\andre\\anaconda3\\envs\\pycaret_env\\lib\\site-packages (from stack-data->ipython>=5.5.0->pycaret) (0.8.3)\n",
            "Requirement already satisfied: asttokens in c:\\users\\andre\\anaconda3\\envs\\pycaret_env\\lib\\site-packages (from stack-data->ipython>=5.5.0->pycaret) (2.0.5)\n",
            "Requirement already satisfied: pure-eval in c:\\users\\andre\\anaconda3\\envs\\pycaret_env\\lib\\site-packages (from stack-data->ipython>=5.5.0->pycaret) (0.2.2)\n",
            "Requirement already satisfied: itsdangerous>=2.1.2 in c:\\users\\andre\\anaconda3\\envs\\pycaret_env\\lib\\site-packages (from Flask<3.1,>=1.0.4->dash>=2.9.0->plotly-resampler>=0.8.3.1->pycaret) (2.2.0)\n",
            "Requirement already satisfied: click>=8.1.3 in c:\\users\\andre\\anaconda3\\envs\\pycaret_env\\lib\\site-packages (from Flask<3.1,>=1.0.4->dash>=2.9.0->plotly-resampler>=0.8.3.1->pycaret) (8.1.8)\n",
            "Requirement already satisfied: blinker>=1.6.2 in c:\\users\\andre\\anaconda3\\envs\\pycaret_env\\lib\\site-packages (from Flask<3.1,>=1.0.4->dash>=2.9.0->plotly-resampler>=0.8.3.1->pycaret) (1.8.2)\n",
            "Requirement already satisfied: scikit-learn in c:\\users\\andre\\anaconda3\\envs\\pycaret_env\\lib\\site-packages (1.2.2)\n",
            "Requirement already satisfied: numpy>=1.17.3 in c:\\users\\andre\\anaconda3\\envs\\pycaret_env\\lib\\site-packages (from scikit-learn) (1.24.4)\n",
            "Requirement already satisfied: scipy>=1.3.2 in c:\\users\\andre\\anaconda3\\envs\\pycaret_env\\lib\\site-packages (from scikit-learn) (1.10.1)\n",
            "Requirement already satisfied: joblib>=1.1.1 in c:\\users\\andre\\anaconda3\\envs\\pycaret_env\\lib\\site-packages (from scikit-learn) (1.2.0)\n",
            "Requirement already satisfied: threadpoolctl>=2.0.0 in c:\\users\\andre\\anaconda3\\envs\\pycaret_env\\lib\\site-packages (from scikit-learn) (3.5.0)\n",
            "Note: you may need to restart the kernel to use updated packages.\n",
            "Requirement already satisfied: seaborn in c:\\users\\andre\\anaconda3\\envs\\pycaret_env\\lib\\site-packages (0.13.2)\n",
            "Requirement already satisfied: numpy!=1.24.0,>=1.20 in c:\\users\\andre\\anaconda3\\envs\\pycaret_env\\lib\\site-packages (from seaborn) (1.24.4)\n",
            "Requirement already satisfied: pandas>=1.2 in c:\\users\\andre\\anaconda3\\envs\\pycaret_env\\lib\\site-packages (from seaborn) (1.5.3)\n",
            "Requirement already satisfied: matplotlib!=3.6.1,>=3.4 in c:\\users\\andre\\anaconda3\\envs\\pycaret_env\\lib\\site-packages (from seaborn) (3.6.0)\n",
            "Requirement already satisfied: contourpy>=1.0.1 in c:\\users\\andre\\anaconda3\\envs\\pycaret_env\\lib\\site-packages (from matplotlib!=3.6.1,>=3.4->seaborn) (1.1.1)\n",
            "Requirement already satisfied: cycler>=0.10 in c:\\users\\andre\\anaconda3\\envs\\pycaret_env\\lib\\site-packages (from matplotlib!=3.6.1,>=3.4->seaborn) (0.12.1)\n",
            "Requirement already satisfied: fonttools>=4.22.0 in c:\\users\\andre\\anaconda3\\envs\\pycaret_env\\lib\\site-packages (from matplotlib!=3.6.1,>=3.4->seaborn) (4.56.0)\n",
            "Requirement already satisfied: kiwisolver>=1.0.1 in c:\\users\\andre\\anaconda3\\envs\\pycaret_env\\lib\\site-packages (from matplotlib!=3.6.1,>=3.4->seaborn) (1.4.7)\n",
            "Requirement already satisfied: packaging>=20.0 in c:\\users\\andre\\anaconda3\\envs\\pycaret_env\\lib\\site-packages (from matplotlib!=3.6.1,>=3.4->seaborn) (24.1)\n",
            "Requirement already satisfied: pillow>=6.2.0 in c:\\users\\andre\\anaconda3\\envs\\pycaret_env\\lib\\site-packages (from matplotlib!=3.6.1,>=3.4->seaborn) (10.4.0)\n",
            "Requirement already satisfied: pyparsing>=2.2.1 in c:\\users\\andre\\anaconda3\\envs\\pycaret_env\\lib\\site-packages (from matplotlib!=3.6.1,>=3.4->seaborn) (3.1.4)\n",
            "Requirement already satisfied: python-dateutil>=2.7 in c:\\users\\andre\\anaconda3\\envs\\pycaret_env\\lib\\site-packages (from matplotlib!=3.6.1,>=3.4->seaborn) (2.9.0.post0)\n",
            "Requirement already satisfied: pytz>=2020.1 in c:\\users\\andre\\anaconda3\\envs\\pycaret_env\\lib\\site-packages (from pandas>=1.2->seaborn) (2025.1)\n",
            "Requirement already satisfied: six>=1.5 in c:\\users\\andre\\anaconda3\\envs\\pycaret_env\\lib\\site-packages (from python-dateutil>=2.7->matplotlib!=3.6.1,>=3.4->seaborn) (1.16.0)\n",
            "Note: you may need to restart the kernel to use updated packages.\n",
            "Requirement already satisfied: pytorch-lightning in c:\\users\\andre\\anaconda3\\envs\\pycaret_env\\lib\\site-packages (2.4.0)\n",
            "Requirement already satisfied: torch>=2.1.0 in c:\\users\\andre\\anaconda3\\envs\\pycaret_env\\lib\\site-packages (from pytorch-lightning) (2.4.1)\n",
            "Requirement already satisfied: tqdm>=4.57.0 in c:\\users\\andre\\anaconda3\\envs\\pycaret_env\\lib\\site-packages (from pytorch-lightning) (4.67.1)\n",
            "Requirement already satisfied: PyYAML>=5.4 in c:\\users\\andre\\anaconda3\\envs\\pycaret_env\\lib\\site-packages (from pytorch-lightning) (6.0.2)\n",
            "Requirement already satisfied: fsspec>=2022.5.0 in c:\\users\\andre\\anaconda3\\envs\\pycaret_env\\lib\\site-packages (from fsspec[http]>=2022.5.0->pytorch-lightning) (2025.2.0)\n",
            "Requirement already satisfied: torchmetrics>=0.7.0 in c:\\users\\andre\\anaconda3\\envs\\pycaret_env\\lib\\site-packages (from pytorch-lightning) (1.5.2)\n",
            "Requirement already satisfied: packaging>=20.0 in c:\\users\\andre\\anaconda3\\envs\\pycaret_env\\lib\\site-packages (from pytorch-lightning) (24.1)\n",
            "Requirement already satisfied: typing-extensions>=4.4.0 in c:\\users\\andre\\anaconda3\\envs\\pycaret_env\\lib\\site-packages (from pytorch-lightning) (4.11.0)\n",
            "Requirement already satisfied: lightning-utilities>=0.10.0 in c:\\users\\andre\\anaconda3\\envs\\pycaret_env\\lib\\site-packages (from pytorch-lightning) (0.11.9)\n",
            "Requirement already satisfied: aiohttp!=4.0.0a0,!=4.0.0a1 in c:\\users\\andre\\anaconda3\\envs\\pycaret_env\\lib\\site-packages (from fsspec[http]>=2022.5.0->pytorch-lightning) (3.10.11)\n",
            "Requirement already satisfied: setuptools in c:\\users\\andre\\anaconda3\\envs\\pycaret_env\\lib\\site-packages (from lightning-utilities>=0.10.0->pytorch-lightning) (75.1.0)\n",
            "Requirement already satisfied: filelock in c:\\users\\andre\\anaconda3\\envs\\pycaret_env\\lib\\site-packages (from torch>=2.1.0->pytorch-lightning) (3.16.1)\n",
            "Requirement already satisfied: sympy in c:\\users\\andre\\anaconda3\\envs\\pycaret_env\\lib\\site-packages (from torch>=2.1.0->pytorch-lightning) (1.13.3)\n",
            "Requirement already satisfied: networkx in c:\\users\\andre\\anaconda3\\envs\\pycaret_env\\lib\\site-packages (from torch>=2.1.0->pytorch-lightning) (3.1)\n",
            "Requirement already satisfied: jinja2 in c:\\users\\andre\\anaconda3\\envs\\pycaret_env\\lib\\site-packages (from torch>=2.1.0->pytorch-lightning) (3.1.5)\n",
            "Requirement already satisfied: numpy>1.20.0 in c:\\users\\andre\\anaconda3\\envs\\pycaret_env\\lib\\site-packages (from torchmetrics>=0.7.0->pytorch-lightning) (1.24.4)\n",
            "Requirement already satisfied: colorama in c:\\users\\andre\\anaconda3\\envs\\pycaret_env\\lib\\site-packages (from tqdm>=4.57.0->pytorch-lightning) (0.4.6)\n",
            "Requirement already satisfied: aiohappyeyeballs>=2.3.0 in c:\\users\\andre\\anaconda3\\envs\\pycaret_env\\lib\\site-packages (from aiohttp!=4.0.0a0,!=4.0.0a1->fsspec[http]>=2022.5.0->pytorch-lightning) (2.4.4)\n",
            "Requirement already satisfied: aiosignal>=1.1.2 in c:\\users\\andre\\anaconda3\\envs\\pycaret_env\\lib\\site-packages (from aiohttp!=4.0.0a0,!=4.0.0a1->fsspec[http]>=2022.5.0->pytorch-lightning) (1.3.1)\n",
            "Requirement already satisfied: attrs>=17.3.0 in c:\\users\\andre\\anaconda3\\envs\\pycaret_env\\lib\\site-packages (from aiohttp!=4.0.0a0,!=4.0.0a1->fsspec[http]>=2022.5.0->pytorch-lightning) (25.1.0)\n",
            "Requirement already satisfied: frozenlist>=1.1.1 in c:\\users\\andre\\anaconda3\\envs\\pycaret_env\\lib\\site-packages (from aiohttp!=4.0.0a0,!=4.0.0a1->fsspec[http]>=2022.5.0->pytorch-lightning) (1.5.0)\n",
            "Requirement already satisfied: multidict<7.0,>=4.5 in c:\\users\\andre\\anaconda3\\envs\\pycaret_env\\lib\\site-packages (from aiohttp!=4.0.0a0,!=4.0.0a1->fsspec[http]>=2022.5.0->pytorch-lightning) (6.1.0)\n",
            "Requirement already satisfied: yarl<2.0,>=1.12.0 in c:\\users\\andre\\anaconda3\\envs\\pycaret_env\\lib\\site-packages (from aiohttp!=4.0.0a0,!=4.0.0a1->fsspec[http]>=2022.5.0->pytorch-lightning) (1.15.2)\n",
            "Requirement already satisfied: async-timeout<6.0,>=4.0 in c:\\users\\andre\\anaconda3\\envs\\pycaret_env\\lib\\site-packages (from aiohttp!=4.0.0a0,!=4.0.0a1->fsspec[http]>=2022.5.0->pytorch-lightning) (5.0.1)\n",
            "Requirement already satisfied: MarkupSafe>=2.0 in c:\\users\\andre\\anaconda3\\envs\\pycaret_env\\lib\\site-packages (from jinja2->torch>=2.1.0->pytorch-lightning) (2.1.5)\n",
            "Requirement already satisfied: mpmath<1.4,>=1.1.0 in c:\\users\\andre\\anaconda3\\envs\\pycaret_env\\lib\\site-packages (from sympy->torch>=2.1.0->pytorch-lightning) (1.3.0)\n",
            "Requirement already satisfied: idna>=2.0 in c:\\users\\andre\\anaconda3\\envs\\pycaret_env\\lib\\site-packages (from yarl<2.0,>=1.12.0->aiohttp!=4.0.0a0,!=4.0.0a1->fsspec[http]>=2022.5.0->pytorch-lightning) (3.10)\n",
            "Requirement already satisfied: propcache>=0.2.0 in c:\\users\\andre\\anaconda3\\envs\\pycaret_env\\lib\\site-packages (from yarl<2.0,>=1.12.0->aiohttp!=4.0.0a0,!=4.0.0a1->fsspec[http]>=2022.5.0->pytorch-lightning) (0.2.0)\n",
            "Note: you may need to restart the kernel to use updated packages.\n",
            "Requirement already satisfied: plotly in c:\\users\\andre\\anaconda3\\envs\\pycaret_env\\lib\\site-packages (5.24.1)\n",
            "Requirement already satisfied: tenacity>=6.2.0 in c:\\users\\andre\\anaconda3\\envs\\pycaret_env\\lib\\site-packages (from plotly) (9.0.0)\n",
            "Requirement already satisfied: packaging in c:\\users\\andre\\anaconda3\\envs\\pycaret_env\\lib\\site-packages (from plotly) (24.1)\n",
            "Note: you may need to restart the kernel to use updated packages.\n",
            "Requirement already satisfied: nltk in c:\\users\\andre\\anaconda3\\envs\\pycaret_env\\lib\\site-packages (3.9.1)\n",
            "Requirement already satisfied: click in c:\\users\\andre\\anaconda3\\envs\\pycaret_env\\lib\\site-packages (from nltk) (8.1.8)\n",
            "Requirement already satisfied: joblib in c:\\users\\andre\\anaconda3\\envs\\pycaret_env\\lib\\site-packages (from nltk) (1.2.0)\n",
            "Requirement already satisfied: regex>=2021.8.3 in c:\\users\\andre\\anaconda3\\envs\\pycaret_env\\lib\\site-packages (from nltk) (2024.11.6)\n",
            "Requirement already satisfied: tqdm in c:\\users\\andre\\anaconda3\\envs\\pycaret_env\\lib\\site-packages (from nltk) (4.67.1)\n",
            "Requirement already satisfied: colorama in c:\\users\\andre\\anaconda3\\envs\\pycaret_env\\lib\\site-packages (from click->nltk) (0.4.6)\n",
            "Note: you may need to restart the kernel to use updated packages.\n",
            "Requirement already satisfied: unidecode in c:\\users\\andre\\anaconda3\\envs\\pycaret_env\\lib\\site-packages (1.3.8)\n",
            "Note: you may need to restart the kernel to use updated packages.\n"
          ]
        }
      ],
      "source": [
        "import sys\n",
        "\n",
        "%pip install joblib==1.2.0\n",
        "%pip install  pycaret\n",
        "%pip install scikit-learn\n",
        "\n",
        "%pip install seaborn\n",
        "\n",
        "%pip install pytorch-lightning\n",
        "\n",
        "%pip install plotly\n",
        "\n",
        "%pip install nltk\n",
        "\n",
        "%pip install unidecode\n",
        "\n"
      ]
    },
    {
      "cell_type": "code",
      "execution_count": 2,
      "metadata": {
        "colab": {
          "base_uri": "https://localhost:8080/"
        },
        "id": "hi0-cuvBY0vn",
        "outputId": "cc9bab91-faaa-4ada-f151-2aebbcc4e004"
      },
      "outputs": [],
      "source": [
        "\n",
        "import pandas as pd\n",
        "import numpy as np\n",
        "import statistics\n",
        "import json\n",
        "import torch\n",
        "import pytorch_lightning as pl\n",
        "import re, nltk\n",
        "import torch\n",
        "import joblib\n",
        "import seaborn as sns\n",
        "import matplotlib.pyplot as plt\n",
        "import matplotlib\n",
        "import plotly.express as px\n",
        "import plotly.graph_objects as go\n",
        "\n",
        "from pycaret.classification import  *\n",
        "\n",
        "from statistics import mode\n",
        "from unidecode import unidecode\n",
        "\n",
        "from nltk.corpus import stopwords\n",
        "from nltk.tokenize import word_tokenize\n",
        "\n",
        "from torch import Tensor\n",
        "\n",
        "from torch.nn import Module, Linear, Dropout, Sequential\n",
        "from torch.nn.functional import cross_entropy, relu, sigmoid, binary_cross_entropy\n",
        "\n",
        "from torch.optim import Adam, Optimizer\n",
        "from torch.utils.data import Dataset, DataLoader, random_split\n",
        "\n",
        "from pytorch_lightning import LightningModule, Trainer\n",
        "from pytorch_lightning.loggers import CSVLogger\n",
        "from pytorch_lightning.callbacks.early_stopping import EarlyStopping\n",
        "\n",
        "\n",
        "from typing import Tuple, List, Callable\n",
        "\n",
        "from numpy import nan, percentile, asarray\n",
        "from numpy.typing import ArrayLike\n",
        "from numpy.random import randn\n",
        "\n",
        "\n",
        "from sklearn.preprocessing import OneHotEncoder, StandardScaler\n",
        "from sklearn.feature_extraction.text import TfidfVectorizer\n",
        "from sklearn.feature_extraction.text import TfidfVectorizer\n",
        "from sklearn.decomposition import TruncatedSVD\n",
        "\n"
      ]
    },
    {
      "cell_type": "markdown",
      "metadata": {
        "id": "oKpsmF3pokbb"
      },
      "source": [
        "# Carga de Datos"
      ]
    },
    {
      "cell_type": "code",
      "execution_count": 3,
      "metadata": {
        "colab": {
          "base_uri": "https://localhost:8080/",
          "height": 591
        },
        "id": "xM_kM9urqMQC",
        "outputId": "434818a7-bd4d-410d-c7bd-e77aa23eaf77"
      },
      "outputs": [
        {
          "data": {
            "text/html": [
              "<div>\n",
              "<style scoped>\n",
              "    .dataframe tbody tr th:only-of-type {\n",
              "        vertical-align: middle;\n",
              "    }\n",
              "\n",
              "    .dataframe tbody tr th {\n",
              "        vertical-align: top;\n",
              "    }\n",
              "\n",
              "    .dataframe thead th {\n",
              "        text-align: right;\n",
              "    }\n",
              "</style>\n",
              "<table border=\"1\" class=\"dataframe\">\n",
              "  <thead>\n",
              "    <tr style=\"text-align: right;\">\n",
              "      <th></th>\n",
              "      <th>Idioma</th>\n",
              "      <th>lyrics_state</th>\n",
              "      <th>hasLetra</th>\n",
              "      <th>Lyrics</th>\n",
              "      <th>Lyrics_proces</th>\n",
              "      <th>songId</th>\n",
              "      <th>track_uri</th>\n",
              "      <th>track_name</th>\n",
              "      <th>artist_uri</th>\n",
              "      <th>artist_info</th>\n",
              "      <th>...</th>\n",
              "      <th>dominance_tags</th>\n",
              "      <th>mbid</th>\n",
              "      <th>spotify_id</th>\n",
              "      <th>genre</th>\n",
              "      <th>cuadrante</th>\n",
              "      <th>cuadReal</th>\n",
              "      <th>lexicones</th>\n",
              "      <th>emociones</th>\n",
              "      <th>emocionesLetra</th>\n",
              "      <th>emocion_mas_comun</th>\n",
              "    </tr>\n",
              "    <tr>\n",
              "      <th>Letra</th>\n",
              "      <th></th>\n",
              "      <th></th>\n",
              "      <th></th>\n",
              "      <th></th>\n",
              "      <th></th>\n",
              "      <th></th>\n",
              "      <th></th>\n",
              "      <th></th>\n",
              "      <th></th>\n",
              "      <th></th>\n",
              "      <th></th>\n",
              "      <th></th>\n",
              "      <th></th>\n",
              "      <th></th>\n",
              "      <th></th>\n",
              "      <th></th>\n",
              "      <th></th>\n",
              "      <th></th>\n",
              "      <th></th>\n",
              "      <th></th>\n",
              "      <th></th>\n",
              "    </tr>\n",
              "  </thead>\n",
              "  <tbody>\n",
              "    <tr>\n",
              "      <th>Data/Letras/1-'Till-I-Collapse-Eminem.txt</th>\n",
              "      <td>en</td>\n",
              "      <td>complete</td>\n",
              "      <td>1.0</td>\n",
              "      <td>TranslationsEspañolTürkçePortuguêsItalianoहिन्...</td>\n",
              "      <td>cause feel tired left left feel weak feel weak...</td>\n",
              "      <td>till-i-collapse-eminem.txt</td>\n",
              "      <td>spotify:track:4xkOaSrkexMciUUogZKVTS</td>\n",
              "      <td>Till I Collapse</td>\n",
              "      <td>spotify:artist:7dGJo4pcD2V6oG8kP0tJRR</td>\n",
              "      <td>{'external_urls': {'spotify': 'https://open.sp...</td>\n",
              "      <td>...</td>\n",
              "      <td>5.690625</td>\n",
              "      <td>cab93def-26c5-4fb0-bedd-26ec4c1619e1</td>\n",
              "      <td>4xkOaSrkexMciUUogZKVTS</td>\n",
              "      <td>rap</td>\n",
              "      <td>3</td>\n",
              "      <td>2</td>\n",
              "      <td>[0. 2. 0. 0. 0. 2. 6. 0. 0. 2.]</td>\n",
              "      <td>['anticipation', 'negative', 'positive', 'trust']</td>\n",
              "      <td>['3', '2', '1', '3']</td>\n",
              "      <td>3</td>\n",
              "    </tr>\n",
              "    <tr>\n",
              "      <th>Data/Letras/2-St.-Anger-Metallica.txt</th>\n",
              "      <td>en</td>\n",
              "      <td>complete</td>\n",
              "      <td>1.0</td>\n",
              "      <td>St. Anger Lyrics[Verse]\\nSaint Anger 'round my...</td>\n",
              "      <td>saint anger round neck saint anger round neck ...</td>\n",
              "      <td>st.-anger-metallica.txt</td>\n",
              "      <td>spotify:track:3fOc9x06lKJBhz435mInlH</td>\n",
              "      <td>St. Anger</td>\n",
              "      <td>spotify:artist:2ye2Wgw4gimLv2eAKyk1NB</td>\n",
              "      <td>{'external_urls': {'spotify': 'https://open.sp...</td>\n",
              "      <td>...</td>\n",
              "      <td>5.427250</td>\n",
              "      <td>727a2529-7ee8-4860-aef6-7959884895cb</td>\n",
              "      <td>3fOc9x06lKJBhz435mInlH</td>\n",
              "      <td>metal</td>\n",
              "      <td>3</td>\n",
              "      <td>2</td>\n",
              "      <td>[0. 6. 0. 0. 0. 6. 0. 0. 0. 0.]</td>\n",
              "      <td>['anticipation', 'negative']</td>\n",
              "      <td>['3', '2']</td>\n",
              "      <td>3</td>\n",
              "    </tr>\n",
              "    <tr>\n",
              "      <th>Data/Letras/3-Speedin'-Rick-Ross.txt</th>\n",
              "      <td>en</td>\n",
              "      <td>complete</td>\n",
              "      <td>1.0</td>\n",
              "      <td>Speedin’ Lyrics[Intro: Rick Ross]\\nLegendary\\n...</td>\n",
              "      <td>legendary runners know trilla dollar count acc...</td>\n",
              "      <td>speedin-rick-ross.txt</td>\n",
              "      <td>spotify:track:3Y96xd4Ce0J47dcalLrEC8</td>\n",
              "      <td>Speedin'</td>\n",
              "      <td>spotify:artist:1sBkRIssrMs1AbVkOJbc7a</td>\n",
              "      <td>{'external_urls': {'spotify': 'https://open.sp...</td>\n",
              "      <td>...</td>\n",
              "      <td>5.490000</td>\n",
              "      <td>NaN</td>\n",
              "      <td>3Y96xd4Ce0J47dcalLrEC8</td>\n",
              "      <td>rap</td>\n",
              "      <td>3</td>\n",
              "      <td>2</td>\n",
              "      <td>[0. 2. 0. 0. 0. 2. 0. 0. 0. 0.]</td>\n",
              "      <td>['anticipation', 'negative']</td>\n",
              "      <td>['3', '2']</td>\n",
              "      <td>3</td>\n",
              "    </tr>\n",
              "    <tr>\n",
              "      <th>Data/Letras/4-Bamboo-Banga-M.I.A..txt</th>\n",
              "      <td>en</td>\n",
              "      <td>complete</td>\n",
              "      <td>1.0</td>\n",
              "      <td>Bamboo Banga Lyrics[Intro]\\nRoad runner, road ...</td>\n",
              "      <td>road runner road runner going miles hour road ...</td>\n",
              "      <td>bamboo-banga-m.i.a..txt</td>\n",
              "      <td>spotify:track:6tqFC1DIOphJkCwrjVzPmg</td>\n",
              "      <td>Bamboo Banga</td>\n",
              "      <td>spotify:artist:0QJIPDAEDILuo8AIq3pMuU</td>\n",
              "      <td>{'external_urls': {'spotify': 'https://open.sp...</td>\n",
              "      <td>...</td>\n",
              "      <td>5.691357</td>\n",
              "      <td>99dd2c8c-e7c1-413e-8ea4-4497a00ffa18</td>\n",
              "      <td>6tqFC1DIOphJkCwrjVzPmg</td>\n",
              "      <td>hip-hop</td>\n",
              "      <td>3</td>\n",
              "      <td>1</td>\n",
              "      <td>[0. 0. 0. 0. 0. 0. 4. 0. 0. 0.]</td>\n",
              "      <td>['positive']</td>\n",
              "      <td>['1']</td>\n",
              "      <td>1</td>\n",
              "    </tr>\n",
              "    <tr>\n",
              "      <th>Data/Letras/5-Die-MF-Die-Dope.txt</th>\n",
              "      <td>en</td>\n",
              "      <td>complete</td>\n",
              "      <td>1.0</td>\n",
              "      <td>Die MF Die Lyrics[Intro]\\nDie!\\n\\n[Verse 1]\\nI...</td>\n",
              "      <td>die need forgiveness need hate need acceptance...</td>\n",
              "      <td>die-mf-die-dope.txt</td>\n",
              "      <td>spotify:track:5bU4KX47KqtDKKaLM4QCzh</td>\n",
              "      <td>Die MF Die</td>\n",
              "      <td>spotify:artist:7fWgqc4HJi3pcHhK8hKg2p</td>\n",
              "      <td>{'external_urls': {'spotify': 'https://open.sp...</td>\n",
              "      <td>...</td>\n",
              "      <td>5.441765</td>\n",
              "      <td>b9eb3484-5e0e-4690-ab5a-ca91937032a5</td>\n",
              "      <td>5bU4KX47KqtDKKaLM4QCzh</td>\n",
              "      <td>metal</td>\n",
              "      <td>3</td>\n",
              "      <td>1</td>\n",
              "      <td>[0. 1. 0. 0. 0. 1. 0. 0. 0. 0.]</td>\n",
              "      <td>['anticipation', 'negative']</td>\n",
              "      <td>['3', '2']</td>\n",
              "      <td>3</td>\n",
              "    </tr>\n",
              "  </tbody>\n",
              "</table>\n",
              "<p>5 rows × 49 columns</p>\n",
              "</div>"
            ],
            "text/plain": [
              "                                          Idioma lyrics_state  hasLetra  \\\n",
              "Letra                                                                     \n",
              "Data/Letras/1-'Till-I-Collapse-Eminem.txt     en     complete       1.0   \n",
              "Data/Letras/2-St.-Anger-Metallica.txt         en     complete       1.0   \n",
              "Data/Letras/3-Speedin'-Rick-Ross.txt          en     complete       1.0   \n",
              "Data/Letras/4-Bamboo-Banga-M.I.A..txt         en     complete       1.0   \n",
              "Data/Letras/5-Die-MF-Die-Dope.txt             en     complete       1.0   \n",
              "\n",
              "                                                                                      Lyrics  \\\n",
              "Letra                                                                                          \n",
              "Data/Letras/1-'Till-I-Collapse-Eminem.txt  TranslationsEspañolTürkçePortuguêsItalianoहिन्...   \n",
              "Data/Letras/2-St.-Anger-Metallica.txt      St. Anger Lyrics[Verse]\\nSaint Anger 'round my...   \n",
              "Data/Letras/3-Speedin'-Rick-Ross.txt       Speedin’ Lyrics[Intro: Rick Ross]\\nLegendary\\n...   \n",
              "Data/Letras/4-Bamboo-Banga-M.I.A..txt      Bamboo Banga Lyrics[Intro]\\nRoad runner, road ...   \n",
              "Data/Letras/5-Die-MF-Die-Dope.txt          Die MF Die Lyrics[Intro]\\nDie!\\n\\n[Verse 1]\\nI...   \n",
              "\n",
              "                                                                               Lyrics_proces  \\\n",
              "Letra                                                                                          \n",
              "Data/Letras/1-'Till-I-Collapse-Eminem.txt  cause feel tired left left feel weak feel weak...   \n",
              "Data/Letras/2-St.-Anger-Metallica.txt      saint anger round neck saint anger round neck ...   \n",
              "Data/Letras/3-Speedin'-Rick-Ross.txt       legendary runners know trilla dollar count acc...   \n",
              "Data/Letras/4-Bamboo-Banga-M.I.A..txt      road runner road runner going miles hour road ...   \n",
              "Data/Letras/5-Die-MF-Die-Dope.txt          die need forgiveness need hate need acceptance...   \n",
              "\n",
              "                                                               songId  \\\n",
              "Letra                                                                   \n",
              "Data/Letras/1-'Till-I-Collapse-Eminem.txt  till-i-collapse-eminem.txt   \n",
              "Data/Letras/2-St.-Anger-Metallica.txt         st.-anger-metallica.txt   \n",
              "Data/Letras/3-Speedin'-Rick-Ross.txt            speedin-rick-ross.txt   \n",
              "Data/Letras/4-Bamboo-Banga-M.I.A..txt         bamboo-banga-m.i.a..txt   \n",
              "Data/Letras/5-Die-MF-Die-Dope.txt                 die-mf-die-dope.txt   \n",
              "\n",
              "                                                                      track_uri  \\\n",
              "Letra                                                                             \n",
              "Data/Letras/1-'Till-I-Collapse-Eminem.txt  spotify:track:4xkOaSrkexMciUUogZKVTS   \n",
              "Data/Letras/2-St.-Anger-Metallica.txt      spotify:track:3fOc9x06lKJBhz435mInlH   \n",
              "Data/Letras/3-Speedin'-Rick-Ross.txt       spotify:track:3Y96xd4Ce0J47dcalLrEC8   \n",
              "Data/Letras/4-Bamboo-Banga-M.I.A..txt      spotify:track:6tqFC1DIOphJkCwrjVzPmg   \n",
              "Data/Letras/5-Die-MF-Die-Dope.txt          spotify:track:5bU4KX47KqtDKKaLM4QCzh   \n",
              "\n",
              "                                                track_name  \\\n",
              "Letra                                                        \n",
              "Data/Letras/1-'Till-I-Collapse-Eminem.txt  Till I Collapse   \n",
              "Data/Letras/2-St.-Anger-Metallica.txt            St. Anger   \n",
              "Data/Letras/3-Speedin'-Rick-Ross.txt              Speedin'   \n",
              "Data/Letras/4-Bamboo-Banga-M.I.A..txt         Bamboo Banga   \n",
              "Data/Letras/5-Die-MF-Die-Dope.txt               Die MF Die   \n",
              "\n",
              "                                                                      artist_uri  \\\n",
              "Letra                                                                              \n",
              "Data/Letras/1-'Till-I-Collapse-Eminem.txt  spotify:artist:7dGJo4pcD2V6oG8kP0tJRR   \n",
              "Data/Letras/2-St.-Anger-Metallica.txt      spotify:artist:2ye2Wgw4gimLv2eAKyk1NB   \n",
              "Data/Letras/3-Speedin'-Rick-Ross.txt       spotify:artist:1sBkRIssrMs1AbVkOJbc7a   \n",
              "Data/Letras/4-Bamboo-Banga-M.I.A..txt      spotify:artist:0QJIPDAEDILuo8AIq3pMuU   \n",
              "Data/Letras/5-Die-MF-Die-Dope.txt          spotify:artist:7fWgqc4HJi3pcHhK8hKg2p   \n",
              "\n",
              "                                                                                 artist_info  \\\n",
              "Letra                                                                                          \n",
              "Data/Letras/1-'Till-I-Collapse-Eminem.txt  {'external_urls': {'spotify': 'https://open.sp...   \n",
              "Data/Letras/2-St.-Anger-Metallica.txt      {'external_urls': {'spotify': 'https://open.sp...   \n",
              "Data/Letras/3-Speedin'-Rick-Ross.txt       {'external_urls': {'spotify': 'https://open.sp...   \n",
              "Data/Letras/4-Bamboo-Banga-M.I.A..txt      {'external_urls': {'spotify': 'https://open.sp...   \n",
              "Data/Letras/5-Die-MF-Die-Dope.txt          {'external_urls': {'spotify': 'https://open.sp...   \n",
              "\n",
              "                                           ... dominance_tags  \\\n",
              "Letra                                      ...                  \n",
              "Data/Letras/1-'Till-I-Collapse-Eminem.txt  ...       5.690625   \n",
              "Data/Letras/2-St.-Anger-Metallica.txt      ...       5.427250   \n",
              "Data/Letras/3-Speedin'-Rick-Ross.txt       ...       5.490000   \n",
              "Data/Letras/4-Bamboo-Banga-M.I.A..txt      ...       5.691357   \n",
              "Data/Letras/5-Die-MF-Die-Dope.txt          ...       5.441765   \n",
              "\n",
              "                                                                           mbid  \\\n",
              "Letra                                                                             \n",
              "Data/Letras/1-'Till-I-Collapse-Eminem.txt  cab93def-26c5-4fb0-bedd-26ec4c1619e1   \n",
              "Data/Letras/2-St.-Anger-Metallica.txt      727a2529-7ee8-4860-aef6-7959884895cb   \n",
              "Data/Letras/3-Speedin'-Rick-Ross.txt                                        NaN   \n",
              "Data/Letras/4-Bamboo-Banga-M.I.A..txt      99dd2c8c-e7c1-413e-8ea4-4497a00ffa18   \n",
              "Data/Letras/5-Die-MF-Die-Dope.txt          b9eb3484-5e0e-4690-ab5a-ca91937032a5   \n",
              "\n",
              "                                                       spotify_id    genre  \\\n",
              "Letra                                                                        \n",
              "Data/Letras/1-'Till-I-Collapse-Eminem.txt  4xkOaSrkexMciUUogZKVTS      rap   \n",
              "Data/Letras/2-St.-Anger-Metallica.txt      3fOc9x06lKJBhz435mInlH    metal   \n",
              "Data/Letras/3-Speedin'-Rick-Ross.txt       3Y96xd4Ce0J47dcalLrEC8      rap   \n",
              "Data/Letras/4-Bamboo-Banga-M.I.A..txt      6tqFC1DIOphJkCwrjVzPmg  hip-hop   \n",
              "Data/Letras/5-Die-MF-Die-Dope.txt          5bU4KX47KqtDKKaLM4QCzh    metal   \n",
              "\n",
              "                                           cuadrante  cuadReal  \\\n",
              "Letra                                                            \n",
              "Data/Letras/1-'Till-I-Collapse-Eminem.txt          3         2   \n",
              "Data/Letras/2-St.-Anger-Metallica.txt              3         2   \n",
              "Data/Letras/3-Speedin'-Rick-Ross.txt               3         2   \n",
              "Data/Letras/4-Bamboo-Banga-M.I.A..txt              3         1   \n",
              "Data/Letras/5-Die-MF-Die-Dope.txt                  3         1   \n",
              "\n",
              "                                                                 lexicones  \\\n",
              "Letra                                                                        \n",
              "Data/Letras/1-'Till-I-Collapse-Eminem.txt  [0. 2. 0. 0. 0. 2. 6. 0. 0. 2.]   \n",
              "Data/Letras/2-St.-Anger-Metallica.txt      [0. 6. 0. 0. 0. 6. 0. 0. 0. 0.]   \n",
              "Data/Letras/3-Speedin'-Rick-Ross.txt       [0. 2. 0. 0. 0. 2. 0. 0. 0. 0.]   \n",
              "Data/Letras/4-Bamboo-Banga-M.I.A..txt      [0. 0. 0. 0. 0. 0. 4. 0. 0. 0.]   \n",
              "Data/Letras/5-Die-MF-Die-Dope.txt          [0. 1. 0. 0. 0. 1. 0. 0. 0. 0.]   \n",
              "\n",
              "                                                                                   emociones  \\\n",
              "Letra                                                                                          \n",
              "Data/Letras/1-'Till-I-Collapse-Eminem.txt  ['anticipation', 'negative', 'positive', 'trust']   \n",
              "Data/Letras/2-St.-Anger-Metallica.txt                           ['anticipation', 'negative']   \n",
              "Data/Letras/3-Speedin'-Rick-Ross.txt                            ['anticipation', 'negative']   \n",
              "Data/Letras/4-Bamboo-Banga-M.I.A..txt                                           ['positive']   \n",
              "Data/Letras/5-Die-MF-Die-Dope.txt                               ['anticipation', 'negative']   \n",
              "\n",
              "                                                 emocionesLetra  \\\n",
              "Letra                                                             \n",
              "Data/Letras/1-'Till-I-Collapse-Eminem.txt  ['3', '2', '1', '3']   \n",
              "Data/Letras/2-St.-Anger-Metallica.txt                ['3', '2']   \n",
              "Data/Letras/3-Speedin'-Rick-Ross.txt                 ['3', '2']   \n",
              "Data/Letras/4-Bamboo-Banga-M.I.A..txt                     ['1']   \n",
              "Data/Letras/5-Die-MF-Die-Dope.txt                    ['3', '2']   \n",
              "\n",
              "                                           emocion_mas_comun  \n",
              "Letra                                                         \n",
              "Data/Letras/1-'Till-I-Collapse-Eminem.txt                  3  \n",
              "Data/Letras/2-St.-Anger-Metallica.txt                      3  \n",
              "Data/Letras/3-Speedin'-Rick-Ross.txt                       3  \n",
              "Data/Letras/4-Bamboo-Banga-M.I.A..txt                      1  \n",
              "Data/Letras/5-Die-MF-Die-Dope.txt                          3  \n",
              "\n",
              "[5 rows x 49 columns]"
            ]
          },
          "execution_count": 3,
          "metadata": {},
          "output_type": "execute_result"
        }
      ],
      "source": [
        "df = pd.read_csv('Data_completa_enrriquecida.csv',  index_col=0)\n",
        "df.head()"
      ]
    },
    {
      "attachments": {},
      "cell_type": "markdown",
      "metadata": {},
      "source": [
        "## preprocesamiento"
      ]
    },
    {
      "cell_type": "code",
      "execution_count": 4,
      "metadata": {
        "id": "mn3QN3Hqokbe"
      },
      "outputs": [],
      "source": [
        "df = df[['Idioma', 'lyrics_state', 'hasLetra', 'Lyrics', 'Lyrics_proces',\n",
        "       'songId', 'track_uri', 'emocion_mas_comun', 'cuadrante',\n",
        "       'cuadReal']]"
      ]
    },
    {
      "cell_type": "code",
      "execution_count": 5,
      "metadata": {
        "colab": {
          "base_uri": "https://localhost:8080/"
        },
        "id": "q0RZ0cO3HkZ_",
        "outputId": "8601e368-45ae-4e4d-9d49-27911eb6490d"
      },
      "outputs": [
        {
          "data": {
            "text/plain": [
              "en              23460\n",
              "es                387\n",
              "fr                239\n",
              "pt                214\n",
              "de                183\n",
              "it                102\n",
              "sv                 36\n",
              "nl                 36\n",
              "la                 34\n",
              "pl                 28\n",
              "da                 19\n",
              "no                 15\n",
              "romanization       10\n",
              "ko                  9\n",
              "tr                  6\n",
              "id                  6\n",
              "ja                  4\n",
              "ca                  3\n",
              "ro                  3\n",
              "hr                  3\n",
              "ar                  3\n",
              "fi                  3\n",
              "xh                  2\n",
              "sq                  2\n",
              "eu                  2\n",
              "af                  2\n",
              "sw                  2\n",
              "ln                  2\n",
              "gd                  2\n",
              "ga                  2\n",
              "ru                  2\n",
              "ia                  1\n",
              "el                  1\n",
              "sco                 1\n",
              "zu                  1\n",
              "ms                  1\n",
              "ss                  1\n",
              "ak                  1\n",
              "lv                  1\n",
              "tl                  1\n",
              "gl                  1\n",
              "bs                  1\n",
              "wo                  1\n",
              "ve                  1\n",
              "yo                  1\n",
              "sm                  1\n",
              "eo                  1\n",
              "fy                  1\n",
              "lb                  1\n",
              "is                  1\n",
              "et                  1\n",
              "su                  1\n",
              "co                  1\n",
              "lt                  1\n",
              "war                 1\n",
              "hu                  1\n",
              "sk                  1\n",
              "sl                  1\n",
              "Name: Idioma, dtype: int64"
            ]
          },
          "execution_count": 5,
          "metadata": {},
          "output_type": "execute_result"
        }
      ],
      "source": [
        "df.Idioma.value_counts()"
      ]
    },
    {
      "cell_type": "code",
      "execution_count": 6,
      "metadata": {
        "id": "bObfj9QF0o4D"
      },
      "outputs": [],
      "source": [
        "df = df[df[\"Idioma\"]=='en']"
      ]
    },
    {
      "cell_type": "code",
      "execution_count": 7,
      "metadata": {
        "id": "OQAu9r11okbf"
      },
      "outputs": [],
      "source": [
        "corpus = df.Lyrics_proces"
      ]
    },
    {
      "cell_type": "code",
      "execution_count": 8,
      "metadata": {},
      "outputs": [
        {
          "data": {
            "text/plain": [
              "(23460, 10)"
            ]
          },
          "execution_count": 8,
          "metadata": {},
          "output_type": "execute_result"
        }
      ],
      "source": [
        "df.shape"
      ]
    },
    {
      "cell_type": "markdown",
      "metadata": {
        "id": "GYLEi7Swokbf"
      },
      "source": [
        "# Extracción de Características"
      ]
    },
    {
      "cell_type": "code",
      "execution_count": 9,
      "metadata": {},
      "outputs": [],
      "source": [
        "corpus_df = df[['Lyrics', 'cuadReal']]\n",
        "corpus_df = corpus_df.drop_duplicates()\n",
        "corpus_df = corpus_df.reset_index()\n",
        "corpus_df = corpus_df[['Lyrics', 'cuadReal']]\n"
      ]
    },
    {
      "cell_type": "code",
      "execution_count": null,
      "metadata": {},
      "outputs": [],
      "source": [
        "s = setup(corpus_df, \n",
        "\ttarget = 'cuadReal', \n",
        "\tsession_id = 123, \n",
        "\ttext_features_method= 'tf-idf', \n",
        "\ttext_features = ['Lyrics'], \n",
        "\tignore_features = ['Letra'],\n",
        "\tfix_imbalance = True\n",
        ")"
      ]
    },
    {
      "attachments": {},
      "cell_type": "markdown",
      "metadata": {},
      "source": [
        "## Tfidf"
      ]
    },
    {
      "cell_type": "code",
      "execution_count": 11,
      "metadata": {
        "id": "vsUvNuUvokbf"
      },
      "outputs": [],
      "source": [
        "vectorizer = TfidfVectorizer(\n",
        "    sublinear_tf=True, min_df=70, max_df=0.6\n",
        "    )"
      ]
    },
    {
      "cell_type": "code",
      "execution_count": 12,
      "metadata": {},
      "outputs": [],
      "source": [
        "tfidf_matrix = vectorizer.fit_transform(corpus)"
      ]
    },
    {
      "cell_type": "code",
      "execution_count": 13,
      "metadata": {},
      "outputs": [
        {
          "data": {
            "text/plain": [
              "['vect_tfidf.joblib']"
            ]
          },
          "execution_count": 13,
          "metadata": {},
          "output_type": "execute_result"
        }
      ],
      "source": [
        "joblib.dump(tfidf_matrix, \"vect_tfidf.joblib\")"
      ]
    },
    {
      "cell_type": "code",
      "execution_count": null,
      "metadata": {},
      "outputs": [],
      "source": [
        "tfidf_matrix = joblib.load(\"vect_tfidf.joblib\") "
      ]
    },
    {
      "attachments": {},
      "cell_type": "markdown",
      "metadata": {
        "id": "qeBk4olnIZdc"
      },
      "source": [
        "## LSA"
      ]
    },
    {
      "cell_type": "code",
      "execution_count": null,
      "metadata": {
        "id": "NlK6CFjwokbg"
      },
      "outputs": [],
      "source": [
        "# Aplicar LSA con TruncatedSVD\n",
        "lsa_model = TruncatedSVD(n_components=5)  # Especifica el número de componentes deseados\n",
        "lsa_matrix = lsa_model.fit_transform(tfidf_matrix)"
      ]
    },
    {
      "cell_type": "code",
      "execution_count": null,
      "metadata": {},
      "outputs": [],
      "source": [
        "joblib.dump(lsa_matrix, \"lsa_matrix.joblib\")"
      ]
    },
    {
      "cell_type": "code",
      "execution_count": null,
      "metadata": {},
      "outputs": [],
      "source": [
        "lsa_matrix = joblib.load(\"lsa_matrix.joblib\") "
      ]
    },
    {
      "cell_type": "markdown",
      "metadata": {
        "id": "QOc8W4kQokbg"
      },
      "source": [
        "# Dividir datos"
      ]
    },
    {
      "cell_type": "code",
      "execution_count": null,
      "metadata": {
        "id": "A1qQnmPuokbg"
      },
      "outputs": [],
      "source": [
        "class PersonalityDataset(Dataset):\n",
        "    def __init__(self, features: ArrayLike, labels: ArrayLike):\n",
        "        self.features = torch.tensor(features, dtype=torch.float32)\n",
        "        self.labels = torch.tensor(labels, dtype=torch.int64)\n",
        "\n",
        "    def __len__(self) -> int:\n",
        "        return self.features.shape[0]\n",
        "\n",
        "    def __getitem__(self, idx: int) -> Tuple[Tensor, Tensor]:\n",
        "        return self.features[idx], self.labels[idx]"
      ]
    },
    {
      "cell_type": "code",
      "execution_count": null,
      "metadata": {
        "id": "mWTncDt5okbg"
      },
      "outputs": [],
      "source": [
        "features = vect.transform(corpus).toarray()\n",
        "labels = df.cuadReal.to_numpy()"
      ]
    },
    {
      "cell_type": "code",
      "execution_count": null,
      "metadata": {
        "id": "QI4ncTXy6TgW"
      },
      "outputs": [],
      "source": []
    },
    {
      "cell_type": "code",
      "execution_count": null,
      "metadata": {
        "colab": {
          "base_uri": "https://localhost:8080/"
        },
        "id": "63-PIl8a6RTC",
        "outputId": "6f50179f-f5e1-4994-8572-04ac00e6dcd6"
      },
      "outputs": [],
      "source": [
        "labels.shape"
      ]
    },
    {
      "cell_type": "code",
      "execution_count": null,
      "metadata": {
        "colab": {
          "base_uri": "https://localhost:8080/"
        },
        "id": "sgBA9q3Z6PLb",
        "outputId": "4634057b-de12-4b5b-8af9-f9bf1dfcbd5e"
      },
      "outputs": [],
      "source": [
        "features.shape"
      ]
    },
    {
      "cell_type": "code",
      "execution_count": null,
      "metadata": {
        "id": "DrqWKS4Nokbg"
      },
      "outputs": [],
      "source": [
        "ds = PersonalityDataset(\n",
        "        features = features, labels=labels\n",
        "        ) \n",
        "train_ds, val_ds, test_ds = random_split(ds, [0.6, 0.2, 0.2])"
      ]
    },
    {
      "cell_type": "code",
      "execution_count": null,
      "metadata": {
        "id": "tsl4MRdjokbh"
      },
      "outputs": [],
      "source": [
        "train_dl = DataLoader(train_ds, batch_size=1024) \n",
        "val_dl = DataLoader(val_ds, batch_size=512) \n",
        "test_dl = DataLoader(test_ds, batch_size=512) "
      ]
    },
    {
      "cell_type": "code",
      "execution_count": null,
      "metadata": {
        "colab": {
          "base_uri": "https://localhost:8080/"
        },
        "id": "FciZLILm584d",
        "outputId": "003e98bc-5144-43b3-f60d-308343c2ff6e"
      },
      "outputs": [],
      "source": [
        "(train_ds.dataset.features).shape, train_ds.dataset.labels.shape"
      ]
    },
    {
      "cell_type": "markdown",
      "metadata": {
        "id": "CuCzuuFvokbh"
      },
      "source": [
        "# Modelamiento"
      ]
    },
    {
      "cell_type": "markdown",
      "metadata": {
        "id": "p9IthzpA5Asf"
      },
      "source": [
        "## Random Forest"
      ]
    },
    {
      "cell_type": "code",
      "execution_count": null,
      "metadata": {
        "colab": {
          "base_uri": "https://localhost:8080/"
        },
        "id": "u6jCVSif5DGw",
        "outputId": "80b01bd2-d22a-49b6-c17b-208c04a58cf6"
      },
      "outputs": [],
      "source": [
        "from sklearn.ensemble import RandomForestClassifier\n",
        "\n",
        "model = RandomForestClassifier(max_depth=15, random_state=0)\n",
        "\n",
        "model.fit(train_ds.dataset.features, train_ds.dataset.labels)\n",
        "predicted = model.predict(train_ds.dataset.features)\n",
        "\n",
        "print(f'El score del modelo  es: {model.score(train_ds.dataset.features, train_ds.dataset.labels)}')"
      ]
    },
    {
      "cell_type": "markdown",
      "metadata": {
        "id": "a-KDFmEeChn4"
      },
      "source": [
        "## árboles de decisión"
      ]
    },
    {
      "cell_type": "code",
      "execution_count": null,
      "metadata": {
        "colab": {
          "base_uri": "https://localhost:8080/"
        },
        "id": "9a2J53vmCgPl",
        "outputId": "ba16f989-78d5-44b1-89ac-f86bc13a6036"
      },
      "outputs": [],
      "source": [
        "from sklearn.tree import DecisionTreeClassifier\n",
        "from sklearn import tree\n",
        "\n",
        "model = DecisionTreeClassifier(max_depth=5)\n",
        "\n",
        "clf = model.fit(train_ds.dataset.features, train_ds.dataset.labels) \n",
        "predicted = model.predict(train_ds.dataset.features)\n",
        "\n",
        "print(f'El score del modelo  es: {model.score(train_ds.dataset.features, train_ds.dataset.labels)}')"
      ]
    },
    {
      "cell_type": "markdown",
      "metadata": {
        "id": "NtxH0A4eCpdL"
      },
      "source": [
        "## KNN"
      ]
    },
    {
      "cell_type": "code",
      "execution_count": null,
      "metadata": {
        "colab": {
          "base_uri": "https://localhost:8080/",
          "height": 415
        },
        "id": "8VgB_K-pCocW",
        "outputId": "e9223745-b50c-456d-ce06-d00bf869e5b9"
      },
      "outputs": [],
      "source": [
        "from sklearn.neighbors import KNeighborsClassifier\n",
        "\n",
        "model = KNeighborsClassifier(n_neighbors=10)\n",
        "\n",
        "model.fit(train_ds.dataset.features, train_ds.dataset.labels)\n",
        "predicted = model.predict(train_ds.dataset.features)\n",
        "\n",
        "print(f'El score del modelo  es: {model.score(train_ds.dataset.features, train_ds.dataset.labels)}')"
      ]
    },
    {
      "cell_type": "markdown",
      "metadata": {
        "id": "ElaTgTCi1gE5"
      },
      "source": [
        "## regresión logística"
      ]
    },
    {
      "cell_type": "code",
      "execution_count": null,
      "metadata": {
        "id": "TfTf0XK01jmk"
      },
      "outputs": [],
      "source": [
        "from sklearn.linear_model import LogisticRegression\n",
        "\n",
        "model = LogisticRegression(solver='lbfgs', max_iter=10)\n",
        "\n",
        "model.fit(train_ds.dataset.features, train_ds.dataset.labels)\n",
        "predicted = model.predict(train_ds.dataset.features)\n",
        "\n",
        "print(f'El score del modelo es: {model.score(train_ds.dataset.features, train_ds.dataset.labels)}')"
      ]
    },
    {
      "cell_type": "markdown",
      "metadata": {
        "id": "gC7sI_h4JquS"
      },
      "source": [
        "balancear -> smote (data aumentation)\n",
        "revisar las proporciones de los cuadrantes\n",
        "usar modelo preentrenado\n",
        "probar random forest"
      ]
    },
    {
      "cell_type": "code",
      "execution_count": null,
      "metadata": {
        "colab": {
          "background_save": true
        },
        "id": "6iPCJ50eokbh"
      },
      "outputs": [],
      "source": [
        "Batch = Tuple[Tensor, Tensor]\n",
        "\n",
        "class Dense(Module):\n",
        "    def __init__(\n",
        "        self,\n",
        "        in_features: int,\n",
        "        out_features: int,\n",
        "        activation: Callable,\n",
        "        dropout: float,\n",
        "        ):\n",
        "        super(Dense, self).__init__()\n",
        "        self.layer = Linear(in_features=in_features, out_features=out_features)\n",
        "        self.dropout = Dropout(p=dropout)\n",
        "        self.activation = activation\n",
        "    \n",
        "    def forward(self, x: Tensor) -> Tensor:\n",
        "        return self.activation(self.dropout(self.layer(x)))\n",
        "\n",
        "class MLP(LightningModule):\n",
        "    def __init__(\n",
        "            self, n_units: List[int], activations: List[Callable],\n",
        "            dropout: float\n",
        "            ):\n",
        "        super(MLP, self).__init__()\n",
        "        self.layers = Sequential(\n",
        "            *(\n",
        "                Dense(\n",
        "                    in_features=ins,\n",
        "                    out_features=outs,\n",
        "                    activation=act,\n",
        "                    dropout=dropout\n",
        "                    )\n",
        "                for ins, outs, act in zip(\n",
        "                    n_units,\n",
        "                    n_units[1:],\n",
        "                    activations\n",
        "                )\n",
        "            )\n",
        "        )\n",
        "    \n",
        "    def forward(self, x: Tensor) -> Tensor:\n",
        "        return self.layers(x)\n",
        "\n",
        "    def configure_optimizers(self) -> Optimizer:\n",
        "        return Adam(self.parameters(), lr=1e-4)\n",
        "\n",
        "    def training_step(\n",
        "        self, train_batch: Batch, batch_idx: int\n",
        "        ) -> Tensor:\n",
        "        features, labels = train_batch\n",
        "        y_pred = self.forward(features)\n",
        "        loss_val = cross_entropy(y_pred, labels)\n",
        "        self.log(\"train_loss\", loss_val)\n",
        "        return loss_val\n",
        "    \n",
        "    def validation_step(\n",
        "        self, val_batch: Batch, batch_idx: int\n",
        "        ):\n",
        "        features, labels = val_batch\n",
        "        y_pred = self.forward(features)\n",
        "        loss_val = cross_entropy(y_pred, labels)\n",
        "        self.log(\"val_loss\", loss_val)"
      ]
    },
    {
      "cell_type": "code",
      "execution_count": null,
      "metadata": {
        "colab": {
          "background_save": true
        },
        "id": "0XtxoBKlokbh"
      },
      "outputs": [],
      "source": [
        "logger = CSVLogger(save_dir=\"logs/\", name=\"losses.csv\")\n",
        "trainer = Trainer(\n",
        "    max_epochs=300,\n",
        "    logger=logger, log_every_n_steps=10,\n",
        "    callbacks=[\n",
        "        EarlyStopping(monitor=\"val_loss\", min_delta=1e-4, patience=20),\n",
        "        ]\n",
        ")"
      ]
    },
    {
      "cell_type": "code",
      "execution_count": null,
      "metadata": {
        "colab": {
          "background_save": true
        },
        "id": "PbeTsESBokbi"
      },
      "outputs": [],
      "source": [
        "linear = lambda x: x\n",
        "model = MLP(\n",
        "    n_units=[features.shape[1], 16],\n",
        "    activations=[linear],\n",
        "    dropout=0.0\n",
        "    )"
      ]
    },
    {
      "cell_type": "code",
      "execution_count": null,
      "metadata": {
        "colab": {
          "background_save": true
        },
        "id": "XO_LMne1okbi"
      },
      "outputs": [],
      "source": [
        "trainer.fit(model, train_dl, val_dl)"
      ]
    },
    {
      "cell_type": "markdown",
      "metadata": {
        "id": "lLYSR8kookbi"
      },
      "source": [
        "# Evaluación"
      ]
    },
    {
      "cell_type": "code",
      "execution_count": null,
      "metadata": {
        "colab": {
          "background_save": true
        },
        "id": "0qe6JiYrokbi"
      },
      "outputs": [],
      "source": [
        "df = pd.read_csv(\"logs/losses.csv/version_0/metrics.csv\")\n",
        "df_train = (\n",
        "    df\n",
        "    .filter([\"epoch\", \"train_loss\"])\n",
        "    .dropna()\n",
        "    .groupby(\"epoch\")\n",
        "    .agg({\"train_loss\": \"mean\"})\n",
        ")\n",
        "df_test = (\n",
        "    df\n",
        "    .filter([\"epoch\", \"val_loss\"])\n",
        "    .dropna()\n",
        "    .groupby(\"epoch\")\n",
        "    .agg({\"val_loss\": \"mean\"})\n",
        ")   \n",
        "\n",
        "df = df_train.join(df_test, on=\"epoch\").reset_index()"
      ]
    },
    {
      "cell_type": "code",
      "execution_count": null,
      "metadata": {
        "colab": {
          "background_save": true
        },
        "id": "q9QcGb2Cokbi"
      },
      "outputs": [],
      "source": [
        "fig = (\n",
        "    px.line(df, x=\"epoch\", y=[\"train_loss\", \"val_loss\"])\n",
        ")\n",
        "fig.show()"
      ]
    },
    {
      "cell_type": "code",
      "execution_count": null,
      "metadata": {
        "colab": {
          "background_save": true
        },
        "id": "IPsBW1tQokbi"
      },
      "outputs": [],
      "source": [
        "metric = []\n",
        "for features_batch, labels_batch in test_dl:\n",
        "    y_pred = torch.argmax(model(features_batch), dim=1)\n",
        "    metric.append(y_pred == labels_batch)"
      ]
    },
    {
      "cell_type": "code",
      "execution_count": null,
      "metadata": {
        "colab": {
          "background_save": true
        },
        "id": "P90dzQtqokbi"
      },
      "outputs": [],
      "source": [
        "metric = torch.concat(metric) \n",
        "print(metric.float().mean())"
      ]
    },
    {
      "cell_type": "code",
      "execution_count": null,
      "metadata": {
        "id": "1IE2wMa7okbi"
      },
      "outputs": [],
      "source": []
    },
    {
      "cell_type": "code",
      "execution_count": null,
      "metadata": {
        "id": "2tf62YKVokbi"
      },
      "outputs": [],
      "source": []
    },
    {
      "cell_type": "code",
      "execution_count": null,
      "metadata": {
        "id": "BS0bvAhQokbj"
      },
      "outputs": [],
      "source": []
    }
  ],
  "metadata": {
    "accelerator": "GPU",
    "colab": {
      "gpuType": "T4",
      "provenance": []
    },
    "gpuClass": "standard",
    "kernelspec": {
      "display_name": "pycaret_env",
      "language": "python",
      "name": "python3"
    },
    "language_info": {
      "codemirror_mode": {
        "name": "ipython",
        "version": 3
      },
      "file_extension": ".py",
      "mimetype": "text/x-python",
      "name": "python",
      "nbconvert_exporter": "python",
      "pygments_lexer": "ipython3",
      "version": "3.8.20"
    }
  },
  "nbformat": 4,
  "nbformat_minor": 0
}
