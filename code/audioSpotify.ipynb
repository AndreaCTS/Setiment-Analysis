{
 "cells": [
  {
   "cell_type": "code",
   "execution_count": 1,
   "metadata": {},
   "outputs": [],
   "source": [
    "import os\n",
    "import spotipy\n",
    "from spotipy.oauth2 import SpotifyClientCredentials, SpotifyOAuth\n",
    "import pandas as pd\n",
    "import time"
   ]
  },
  {
   "cell_type": "code",
   "execution_count": 2,
   "metadata": {},
   "outputs": [],
   "source": [
    "df = pd.read_csv(\"Data_completa_enrriquecida.csv\")  "
   ]
  },
  {
   "cell_type": "code",
   "execution_count": 3,
   "metadata": {},
   "outputs": [
    {
     "data": {
      "text/html": [
       "<div>\n",
       "<style scoped>\n",
       "    .dataframe tbody tr th:only-of-type {\n",
       "        vertical-align: middle;\n",
       "    }\n",
       "\n",
       "    .dataframe tbody tr th {\n",
       "        vertical-align: top;\n",
       "    }\n",
       "\n",
       "    .dataframe thead th {\n",
       "        text-align: right;\n",
       "    }\n",
       "</style>\n",
       "<table border=\"1\" class=\"dataframe\">\n",
       "  <thead>\n",
       "    <tr style=\"text-align: right;\">\n",
       "      <th></th>\n",
       "      <th>Letra</th>\n",
       "      <th>Idioma</th>\n",
       "      <th>lyrics_state</th>\n",
       "      <th>hasLetra</th>\n",
       "      <th>Lyrics</th>\n",
       "      <th>Lyrics_proces</th>\n",
       "      <th>songId</th>\n",
       "      <th>track_uri</th>\n",
       "      <th>track_name</th>\n",
       "      <th>artist_uri</th>\n",
       "      <th>...</th>\n",
       "      <th>dominance_tags</th>\n",
       "      <th>mbid</th>\n",
       "      <th>spotify_id</th>\n",
       "      <th>genre</th>\n",
       "      <th>cuadrante</th>\n",
       "      <th>cuadReal</th>\n",
       "      <th>lexicones</th>\n",
       "      <th>emociones</th>\n",
       "      <th>emocionesLetra</th>\n",
       "      <th>emocion_mas_comun</th>\n",
       "    </tr>\n",
       "  </thead>\n",
       "  <tbody>\n",
       "    <tr>\n",
       "      <th>0</th>\n",
       "      <td>Data/Letras/1-'Till-I-Collapse-Eminem.txt</td>\n",
       "      <td>en</td>\n",
       "      <td>complete</td>\n",
       "      <td>1.0</td>\n",
       "      <td>TranslationsEspañolTürkçePortuguêsItalianoहिन्...</td>\n",
       "      <td>cause feel tired left left feel weak feel weak...</td>\n",
       "      <td>till-i-collapse-eminem.txt</td>\n",
       "      <td>spotify:track:4xkOaSrkexMciUUogZKVTS</td>\n",
       "      <td>Till I Collapse</td>\n",
       "      <td>spotify:artist:7dGJo4pcD2V6oG8kP0tJRR</td>\n",
       "      <td>...</td>\n",
       "      <td>5.690625</td>\n",
       "      <td>cab93def-26c5-4fb0-bedd-26ec4c1619e1</td>\n",
       "      <td>4xkOaSrkexMciUUogZKVTS</td>\n",
       "      <td>rap</td>\n",
       "      <td>3</td>\n",
       "      <td>2</td>\n",
       "      <td>[0. 2. 0. 0. 0. 2. 6. 0. 0. 2.]</td>\n",
       "      <td>['anticipation', 'negative', 'positive', 'trust']</td>\n",
       "      <td>['3', '2', '1', '3']</td>\n",
       "      <td>3</td>\n",
       "    </tr>\n",
       "    <tr>\n",
       "      <th>1</th>\n",
       "      <td>Data/Letras/2-St.-Anger-Metallica.txt</td>\n",
       "      <td>en</td>\n",
       "      <td>complete</td>\n",
       "      <td>1.0</td>\n",
       "      <td>St. Anger Lyrics[Verse]\\nSaint Anger 'round my...</td>\n",
       "      <td>saint anger round neck saint anger round neck ...</td>\n",
       "      <td>st.-anger-metallica.txt</td>\n",
       "      <td>spotify:track:3fOc9x06lKJBhz435mInlH</td>\n",
       "      <td>St. Anger</td>\n",
       "      <td>spotify:artist:2ye2Wgw4gimLv2eAKyk1NB</td>\n",
       "      <td>...</td>\n",
       "      <td>5.427250</td>\n",
       "      <td>727a2529-7ee8-4860-aef6-7959884895cb</td>\n",
       "      <td>3fOc9x06lKJBhz435mInlH</td>\n",
       "      <td>metal</td>\n",
       "      <td>3</td>\n",
       "      <td>2</td>\n",
       "      <td>[0. 6. 0. 0. 0. 6. 0. 0. 0. 0.]</td>\n",
       "      <td>['anticipation', 'negative']</td>\n",
       "      <td>['3', '2']</td>\n",
       "      <td>3</td>\n",
       "    </tr>\n",
       "    <tr>\n",
       "      <th>2</th>\n",
       "      <td>Data/Letras/3-Speedin'-Rick-Ross.txt</td>\n",
       "      <td>en</td>\n",
       "      <td>complete</td>\n",
       "      <td>1.0</td>\n",
       "      <td>Speedin’ Lyrics[Intro: Rick Ross]\\nLegendary\\n...</td>\n",
       "      <td>legendary runners know trilla dollar count acc...</td>\n",
       "      <td>speedin-rick-ross.txt</td>\n",
       "      <td>spotify:track:3Y96xd4Ce0J47dcalLrEC8</td>\n",
       "      <td>Speedin'</td>\n",
       "      <td>spotify:artist:1sBkRIssrMs1AbVkOJbc7a</td>\n",
       "      <td>...</td>\n",
       "      <td>5.490000</td>\n",
       "      <td>NaN</td>\n",
       "      <td>3Y96xd4Ce0J47dcalLrEC8</td>\n",
       "      <td>rap</td>\n",
       "      <td>3</td>\n",
       "      <td>2</td>\n",
       "      <td>[0. 2. 0. 0. 0. 2. 0. 0. 0. 0.]</td>\n",
       "      <td>['anticipation', 'negative']</td>\n",
       "      <td>['3', '2']</td>\n",
       "      <td>3</td>\n",
       "    </tr>\n",
       "    <tr>\n",
       "      <th>3</th>\n",
       "      <td>Data/Letras/4-Bamboo-Banga-M.I.A..txt</td>\n",
       "      <td>en</td>\n",
       "      <td>complete</td>\n",
       "      <td>1.0</td>\n",
       "      <td>Bamboo Banga Lyrics[Intro]\\nRoad runner, road ...</td>\n",
       "      <td>road runner road runner going miles hour road ...</td>\n",
       "      <td>bamboo-banga-m.i.a..txt</td>\n",
       "      <td>spotify:track:6tqFC1DIOphJkCwrjVzPmg</td>\n",
       "      <td>Bamboo Banga</td>\n",
       "      <td>spotify:artist:0QJIPDAEDILuo8AIq3pMuU</td>\n",
       "      <td>...</td>\n",
       "      <td>5.691357</td>\n",
       "      <td>99dd2c8c-e7c1-413e-8ea4-4497a00ffa18</td>\n",
       "      <td>6tqFC1DIOphJkCwrjVzPmg</td>\n",
       "      <td>hip-hop</td>\n",
       "      <td>3</td>\n",
       "      <td>1</td>\n",
       "      <td>[0. 0. 0. 0. 0. 0. 4. 0. 0. 0.]</td>\n",
       "      <td>['positive']</td>\n",
       "      <td>['1']</td>\n",
       "      <td>1</td>\n",
       "    </tr>\n",
       "    <tr>\n",
       "      <th>4</th>\n",
       "      <td>Data/Letras/5-Die-MF-Die-Dope.txt</td>\n",
       "      <td>en</td>\n",
       "      <td>complete</td>\n",
       "      <td>1.0</td>\n",
       "      <td>Die MF Die Lyrics[Intro]\\nDie!\\n\\n[Verse 1]\\nI...</td>\n",
       "      <td>die need forgiveness need hate need acceptance...</td>\n",
       "      <td>die-mf-die-dope.txt</td>\n",
       "      <td>spotify:track:5bU4KX47KqtDKKaLM4QCzh</td>\n",
       "      <td>Die MF Die</td>\n",
       "      <td>spotify:artist:7fWgqc4HJi3pcHhK8hKg2p</td>\n",
       "      <td>...</td>\n",
       "      <td>5.441765</td>\n",
       "      <td>b9eb3484-5e0e-4690-ab5a-ca91937032a5</td>\n",
       "      <td>5bU4KX47KqtDKKaLM4QCzh</td>\n",
       "      <td>metal</td>\n",
       "      <td>3</td>\n",
       "      <td>1</td>\n",
       "      <td>[0. 1. 0. 0. 0. 1. 0. 0. 0. 0.]</td>\n",
       "      <td>['anticipation', 'negative']</td>\n",
       "      <td>['3', '2']</td>\n",
       "      <td>3</td>\n",
       "    </tr>\n",
       "  </tbody>\n",
       "</table>\n",
       "<p>5 rows × 50 columns</p>\n",
       "</div>"
      ],
      "text/plain": [
       "                                       Letra Idioma lyrics_state  hasLetra  \\\n",
       "0  Data/Letras/1-'Till-I-Collapse-Eminem.txt     en     complete       1.0   \n",
       "1      Data/Letras/2-St.-Anger-Metallica.txt     en     complete       1.0   \n",
       "2       Data/Letras/3-Speedin'-Rick-Ross.txt     en     complete       1.0   \n",
       "3      Data/Letras/4-Bamboo-Banga-M.I.A..txt     en     complete       1.0   \n",
       "4          Data/Letras/5-Die-MF-Die-Dope.txt     en     complete       1.0   \n",
       "\n",
       "                                              Lyrics  \\\n",
       "0  TranslationsEspañolTürkçePortuguêsItalianoहिन्...   \n",
       "1  St. Anger Lyrics[Verse]\\nSaint Anger 'round my...   \n",
       "2  Speedin’ Lyrics[Intro: Rick Ross]\\nLegendary\\n...   \n",
       "3  Bamboo Banga Lyrics[Intro]\\nRoad runner, road ...   \n",
       "4  Die MF Die Lyrics[Intro]\\nDie!\\n\\n[Verse 1]\\nI...   \n",
       "\n",
       "                                       Lyrics_proces  \\\n",
       "0  cause feel tired left left feel weak feel weak...   \n",
       "1  saint anger round neck saint anger round neck ...   \n",
       "2  legendary runners know trilla dollar count acc...   \n",
       "3  road runner road runner going miles hour road ...   \n",
       "4  die need forgiveness need hate need acceptance...   \n",
       "\n",
       "                       songId                             track_uri  \\\n",
       "0  till-i-collapse-eminem.txt  spotify:track:4xkOaSrkexMciUUogZKVTS   \n",
       "1     st.-anger-metallica.txt  spotify:track:3fOc9x06lKJBhz435mInlH   \n",
       "2       speedin-rick-ross.txt  spotify:track:3Y96xd4Ce0J47dcalLrEC8   \n",
       "3     bamboo-banga-m.i.a..txt  spotify:track:6tqFC1DIOphJkCwrjVzPmg   \n",
       "4         die-mf-die-dope.txt  spotify:track:5bU4KX47KqtDKKaLM4QCzh   \n",
       "\n",
       "        track_name                             artist_uri  ... dominance_tags  \\\n",
       "0  Till I Collapse  spotify:artist:7dGJo4pcD2V6oG8kP0tJRR  ...       5.690625   \n",
       "1        St. Anger  spotify:artist:2ye2Wgw4gimLv2eAKyk1NB  ...       5.427250   \n",
       "2         Speedin'  spotify:artist:1sBkRIssrMs1AbVkOJbc7a  ...       5.490000   \n",
       "3     Bamboo Banga  spotify:artist:0QJIPDAEDILuo8AIq3pMuU  ...       5.691357   \n",
       "4       Die MF Die  spotify:artist:7fWgqc4HJi3pcHhK8hKg2p  ...       5.441765   \n",
       "\n",
       "                                   mbid              spotify_id    genre  \\\n",
       "0  cab93def-26c5-4fb0-bedd-26ec4c1619e1  4xkOaSrkexMciUUogZKVTS      rap   \n",
       "1  727a2529-7ee8-4860-aef6-7959884895cb  3fOc9x06lKJBhz435mInlH    metal   \n",
       "2                                   NaN  3Y96xd4Ce0J47dcalLrEC8      rap   \n",
       "3  99dd2c8c-e7c1-413e-8ea4-4497a00ffa18  6tqFC1DIOphJkCwrjVzPmg  hip-hop   \n",
       "4  b9eb3484-5e0e-4690-ab5a-ca91937032a5  5bU4KX47KqtDKKaLM4QCzh    metal   \n",
       "\n",
       "   cuadrante  cuadReal                        lexicones  \\\n",
       "0          3         2  [0. 2. 0. 0. 0. 2. 6. 0. 0. 2.]   \n",
       "1          3         2  [0. 6. 0. 0. 0. 6. 0. 0. 0. 0.]   \n",
       "2          3         2  [0. 2. 0. 0. 0. 2. 0. 0. 0. 0.]   \n",
       "3          3         1  [0. 0. 0. 0. 0. 0. 4. 0. 0. 0.]   \n",
       "4          3         1  [0. 1. 0. 0. 0. 1. 0. 0. 0. 0.]   \n",
       "\n",
       "                                           emociones        emocionesLetra  \\\n",
       "0  ['anticipation', 'negative', 'positive', 'trust']  ['3', '2', '1', '3']   \n",
       "1                       ['anticipation', 'negative']            ['3', '2']   \n",
       "2                       ['anticipation', 'negative']            ['3', '2']   \n",
       "3                                       ['positive']                 ['1']   \n",
       "4                       ['anticipation', 'negative']            ['3', '2']   \n",
       "\n",
       "   emocion_mas_comun  \n",
       "0                  3  \n",
       "1                  3  \n",
       "2                  3  \n",
       "3                  1  \n",
       "4                  3  \n",
       "\n",
       "[5 rows x 50 columns]"
      ]
     },
     "execution_count": 3,
     "metadata": {},
     "output_type": "execute_result"
    }
   ],
   "source": [
    "df.head(5)"
   ]
  },
  {
   "cell_type": "code",
   "execution_count": 4,
   "metadata": {},
   "outputs": [
    {
     "name": "stderr",
     "output_type": "stream",
     "text": [
      "HTTP Error for GET to https://api.spotify.com/v1/audio-features/?ids=3fOc9x06lKJBhz435mInlH with Params: {} returned 403 due to None\n"
     ]
    },
    {
     "name": "stdout",
     "output_type": "stream",
     "text": [
      "Error testing single ID: http status: 403, code:-1 - https://api.spotify.com/v1/audio-features/?ids=3fOc9x06lKJBhz435mInlH:\n",
      " None, reason: None\n",
      "  HTTP Status: 403\n",
      "  Error Code: -1\n",
      "  Error Message: https://api.spotify.com/v1/audio-features/?ids=3fOc9x06lKJBhz435mInlH:\n",
      " None\n",
      "  Headers: {'content-type': 'application/json; charset=utf-8', 'cache-control': 'private, max-age=0', 'access-control-allow-origin': '*', 'access-control-allow-headers': 'Accept, App-Platform, Authorization, Content-Type, Origin, Retry-After, Spotify-App-Version, X-Cloud-Trace-Context, client-token, content-access-token', 'access-control-allow-methods': 'GET, POST, OPTIONS, PUT, DELETE, PATCH', 'access-control-allow-credentials': 'true', 'access-control-max-age': '604800', 'content-encoding': 'gzip', 'strict-transport-security': 'max-age=31536000', 'x-content-type-options': 'nosniff', 'date': 'Mon, 24 Feb 2025 23:39:46 GMT', 'server': 'envoy', 'Via': 'HTTP/2 edgeproxy, 1.1 google', 'Alt-Svc': 'h3=\":443\"; ma=2592000,h3-29=\":443\"; ma=2592000', 'Transfer-Encoding': 'chunked'}\n"
     ]
    }
   ],
   "source": [
    "import os\n",
    "import spotipy\n",
    "from spotipy.oauth2 import SpotifyOAuth\n",
    "import pandas as pd\n",
    "import time\n",
    "\n",
    "# --- Configuration (Triple-check!) ---\n",
    "os.environ[\"SPOTIPY_CLIENT_ID\"] = \"754cb67c8ae644dda9ed31be5eef1b21\"\n",
    "os.environ[\"SPOTIPY_CLIENT_SECRET\"] = \"7aa68cf2aa924657adb9c316fc8b467a\"\n",
    "os.environ[\"SPOTIPY_REDIRECT_URI\"] = \"http://localhost:8080/callback\"\n",
    "\n",
    "# --- Explicit Cache Path ---\n",
    "CACHE_PATH = \".spotify_cache\"\n",
    "\n",
    "# --- Authentication (SpotifyOAuth) ---\n",
    "scopes = \"user-library-read\"\n",
    "auth_manager = SpotifyOAuth(scope=scopes, cache_path=CACHE_PATH)\n",
    "sp = spotipy.Spotify(auth_manager=auth_manager)\n",
    "\n",
    "# --- Test a Single ID ---\n",
    "try:\n",
    "    test_features = sp.audio_features(\"3fOc9x06lKJBhz435mInlH\")[0]  # Known valid ID\n",
    "    print(\"Test audio features (single ID):\", test_features)\n",
    "except Exception as e:\n",
    "    print(\"Error testing single ID:\", e)\n",
    "    if hasattr(e, 'http_status'):\n",
    "        print(\"  HTTP Status:\", e.http_status)\n",
    "    if hasattr(e, 'code'):\n",
    "        print(\"  Error Code:\", e.code)\n",
    "    if hasattr(e, 'msg'):\n",
    "        print(\"  Error Message:\", e.msg)\n",
    "    if hasattr(e, 'headers'):\n",
    "        print(\"  Headers:\", e.headers)"
   ]
  },
  {
   "cell_type": "code",
   "execution_count": 6,
   "metadata": {},
   "outputs": [],
   "source": [
    "def get_audio_features_for_df(df, spotify_id_column='spotify_id', batch_size=50):\n",
    "    \"\"\"\n",
    "    Obtiene las características de audio de Spotify, procesando en lotes.\n",
    "    Usa un token de usuario (SpotifyOAuth).\n",
    "    \"\"\"\n",
    "    all_audio_features = []\n",
    "    # 1. Filtrar y preparar los IDs\n",
    "    track_ids = df[spotify_id_column].dropna().unique().tolist()\n",
    "    track_ids = [x for x in track_ids if isinstance(x, str)]  # Asegurar que solo sean strings\n",
    "\n",
    "\n",
    "    for i in range(0, len(track_ids), batch_size):\n",
    "        batch = track_ids[i:i + batch_size]\n",
    "\n",
    "        try:\n",
    "            features_list = sp.audio_features(tracks=batch)\n",
    "\n",
    "            for features in features_list:\n",
    "                if features:\n",
    "                    all_audio_features.append(features)\n",
    "                else:  # Si features es None\n",
    "                    all_audio_features.append({\n",
    "                        'acousticness': float('nan'), 'danceability': float('nan'),\n",
    "                        'energy': float('nan'), 'instrumentalness': float('nan'),\n",
    "                        'key': float('nan'), 'liveness': float('nan'),\n",
    "                        'loudness': float('nan'), 'mode': float('nan'),\n",
    "                        'speechiness': float('nan'), 'tempo': float('nan'),\n",
    "                        'time_signature': float('nan'), 'valence': float('nan'),\n",
    "                        'id': None  # No hay un ID asociado si la respuesta es None\n",
    "                    })\n",
    "        except spotipy.SpotifyException as e:\n",
    "            print(f\"Error de Spotify (lote {i}-{i+batch_size}): {e}\")\n",
    "            # Llenar con NaNs para todo el lote, y establecer 'id' a None\n",
    "            for _ in range(len(batch)):\n",
    "                all_audio_features.append({k: float('nan') for k in [\n",
    "                    'acousticness', 'danceability', 'energy', 'instrumentalness',\n",
    "                    'key', 'liveness', 'loudness', 'mode', 'speechiness', 'tempo',\n",
    "                    'time_signature', 'valence', 'id' #Incluir la columna 'id'\n",
    "                ]})\n",
    "                all_audio_features[-1]['id'] = None # Y establecer explicitamente 'id' a None\n",
    "\n",
    "        except Exception as e:\n",
    "            print(f\"Error Inesperado (lote {i}-{i + batch_size}): {e}\")\n",
    "            # Llenar con NaNs para todo el lote, y establecer 'id' a None\n",
    "            for _ in range(len(batch)):\n",
    "                all_audio_features.append({k: float('nan') for k in [\n",
    "                    'acousticness', 'danceability', 'energy', 'instrumentalness',\n",
    "                    'key', 'liveness', 'loudness', 'mode', 'speechiness', 'tempo',\n",
    "                    'time_signature', 'valence', 'id'\n",
    "                ]})\n",
    "                all_audio_features[-1]['id'] = None  # Y establecer explicitamente 'id' a None\n",
    "\n",
    "        time.sleep(1)\n",
    "\n",
    "\n",
    "    audio_features_df = pd.DataFrame(all_audio_features)\n",
    "\n",
    "    # Paso crucial: Eliminar duplicados ANTES del merge, y manejar los None en 'id'\n",
    "    audio_features_df.drop_duplicates(subset=['id'], keep='first', inplace=True)\n",
    "    audio_features_df = audio_features_df[audio_features_df['id'].notna()]  # Excluir filas donde 'id' es None\n",
    "\n",
    "    df_with_features = df.merge(audio_features_df, left_on=spotify_id_column, right_on='id', how='left')\n",
    "    df_with_features.drop(columns=['id_y'], inplace=True, errors='ignore') #  errors='ignore' para el caso en que no exista\n",
    "    df_with_features.rename(columns={'id_x': 'id'}, inplace=True)\n",
    "    return df_with_features"
   ]
  },
  {
   "cell_type": "code",
   "execution_count": 7,
   "metadata": {},
   "outputs": [
    {
     "name": "stderr",
     "output_type": "stream",
     "text": [
      "HTTP Error for GET to https://api.spotify.com/v1/audio-features/?ids=4xkOaSrkexMciUUogZKVTS,3fOc9x06lKJBhz435mInlH,3Y96xd4Ce0J47dcalLrEC8,6tqFC1DIOphJkCwrjVzPmg,5bU4KX47KqtDKKaLM4QCzh,4Q1w4Ryyi8KNxxaFlOQClK,49fT6owWuknekShh9utsjv,6DoXuH326aAYEN8CnlLmhP,104YdibC7VQy78xAVmgRYr,5fU6qjmD38P90BMsuqpiuU,1qxkzHlZBXFv5HfyYqJ8cy,6xK3sBdRm99g9T8Ov0gjdF,62wtttQzoIA9HnNmGVd9Yq,0DxYrFOfiFShTbO2XdFpBX,7EZlzu01NzbR1jWEIDSk5T,1jRzdY7oUBOhrylNtiMtBD,35BOEtOvV1qwzjblSKcPJ1,6D69DWilPEsY2TqayoB7x5,1V6qst2zfwpooDT1lfvDis,0zc4RPw8fXQSVCM5HQnUGU,3DV0DO7GweUc75R38P6mOe,5pzZT3IG4TFxSlmhknYWes,3GiJq4AQK7324mfIQbpiTf,5j7eOw6dm05O98hHTb58IY,7jmIBvIkPcAR6yzbR7YsJH,5o9jJ0aRyn7WswL4giBmMB,6kapmatG5ez3ceZ3dm3DdZ,7n6DnNdKKhjyDa1GlGgLeQ,2H9CKpZiLDF223BbwehpDF,7uo6kqaAnymdnkwub1jxBR,5aInZf4Xe3NSAFdOBfzs8G,1qVRv7ydm4sMj9aX5VYuN4,5x5nJm3ZLs6T1vrFT2IiTE,3bbVPVAL3ulmu3kNGJ9EDF,3sDOdE1zP6Ail3q5wBUoZR,6yU0SkbZRmu8WUKAEFhsRa,6JKkhN4ZnwoinLatQOUHG4,51XrhhPlt1smLatJgcBrUb,5JEFYrZighZ4yqzWfyBRNh,6PiuN9kO8W7W2pv5h67uCF,1XWWlu64sNi9jqktYeKH8O,4DgsvJNNGvV5WPQ40qR3R8,2QecHpp1nzPMwo95fwxZ9h,7upJI4tZAZ9H7k6Egqw0mG,1nrWrZkGdSqz3UaDkv3Z35,2TxYbRGmKGbVnSFRWlp1Qx,78mZbakIUOomWVdIK5xAlc,2lN6G35gsXkA3xzPYqmis5,4XtywUcY2InXkgLL3OfDmp,1VyXtvIHF8eytwxxDLsE3Z with Params: {} returned 403 due to None\n"
     ]
    },
    {
     "name": "stdout",
     "output_type": "stream",
     "text": [
      "Error de Spotify (lote 0-50): http status: 403, code:-1 - https://api.spotify.com/v1/audio-features/?ids=4xkOaSrkexMciUUogZKVTS,3fOc9x06lKJBhz435mInlH,3Y96xd4Ce0J47dcalLrEC8,6tqFC1DIOphJkCwrjVzPmg,5bU4KX47KqtDKKaLM4QCzh,4Q1w4Ryyi8KNxxaFlOQClK,49fT6owWuknekShh9utsjv,6DoXuH326aAYEN8CnlLmhP,104YdibC7VQy78xAVmgRYr,5fU6qjmD38P90BMsuqpiuU,1qxkzHlZBXFv5HfyYqJ8cy,6xK3sBdRm99g9T8Ov0gjdF,62wtttQzoIA9HnNmGVd9Yq,0DxYrFOfiFShTbO2XdFpBX,7EZlzu01NzbR1jWEIDSk5T,1jRzdY7oUBOhrylNtiMtBD,35BOEtOvV1qwzjblSKcPJ1,6D69DWilPEsY2TqayoB7x5,1V6qst2zfwpooDT1lfvDis,0zc4RPw8fXQSVCM5HQnUGU,3DV0DO7GweUc75R38P6mOe,5pzZT3IG4TFxSlmhknYWes,3GiJq4AQK7324mfIQbpiTf,5j7eOw6dm05O98hHTb58IY,7jmIBvIkPcAR6yzbR7YsJH,5o9jJ0aRyn7WswL4giBmMB,6kapmatG5ez3ceZ3dm3DdZ,7n6DnNdKKhjyDa1GlGgLeQ,2H9CKpZiLDF223BbwehpDF,7uo6kqaAnymdnkwub1jxBR,5aInZf4Xe3NSAFdOBfzs8G,1qVRv7ydm4sMj9aX5VYuN4,5x5nJm3ZLs6T1vrFT2IiTE,3bbVPVAL3ulmu3kNGJ9EDF,3sDOdE1zP6Ail3q5wBUoZR,6yU0SkbZRmu8WUKAEFhsRa,6JKkhN4ZnwoinLatQOUHG4,51XrhhPlt1smLatJgcBrUb,5JEFYrZighZ4yqzWfyBRNh,6PiuN9kO8W7W2pv5h67uCF,1XWWlu64sNi9jqktYeKH8O,4DgsvJNNGvV5WPQ40qR3R8,2QecHpp1nzPMwo95fwxZ9h,7upJI4tZAZ9H7k6Egqw0mG,1nrWrZkGdSqz3UaDkv3Z35,2TxYbRGmKGbVnSFRWlp1Qx,78mZbakIUOomWVdIK5xAlc,2lN6G35gsXkA3xzPYqmis5,4XtywUcY2InXkgLL3OfDmp,1VyXtvIHF8eytwxxDLsE3Z:\n",
      " None, reason: None\n"
     ]
    },
    {
     "name": "stderr",
     "output_type": "stream",
     "text": [
      "HTTP Error for GET to https://api.spotify.com/v1/audio-features/?ids=6yE653bOUMCnnAbCOnZS55,52qsLeKxfmSjaxAiHGPMbk,34cbXKoeiguKS93VAhZoDo,0BI9BYPVtp65GqNkVCl6tS,74PzFTj0YKQhtESkU5VrfF,3go4CiwXiXbbnHIdNB0s0X,3Ki7LceZVmcQINetqAbTWD,6Cg1kcaiDNVZQXQ9mylA2I,2fjZ2VetpKfgQVwhEeuecb,6XI33hctgDLUIRKI8wsJS4,6cfvxVx2PZFSFeghhmciy6,0uqzbdh7e7lYumXGMYPpx1,7ghqgPILO1JUpbL4stxmRx,0q83JR5Dv66Jr0fy4uwoIT,6SwSpU5R1r3gNC6vFsizz5,2v8AAFM55qPYv0uzE0Uk84,2Ur2dqDROT9msE41Xmfpzu,1LkYAkYzqq7TbJTGfx3ixY,5WSIVWdeIkCWmvTPUmNq0K,0YHhpW8PnU0WNuAKAVuM70,5In2tiQfcSBTNCU0JxulKi,7jrl8OMqXD6nz5URuPa2o7,2ygejCzmng76ICCqD2iGcq,3d4oqD3MLxGgmYcKwDcnES,4mTIROhUCiv05VMtalwCXF,6KoRdiUQXtx6NLPNXpRjwM,2EeYKi53PKRHvOc5zfMAeS,2k9xLUcUkMSPZ4evrmqE74,0XVh3SwTErn8xI5PcBRMNo,2vtjdPo6BfEFEk9a83mO45,476FkWNYiLN6D2r1HxCJe2,1FHVu3zdemsz0aH93rt1fi,2SZkDkRzG929gZ3ZiEWyvb,7qHMLJAWvJ5AgKObo4upRF,6SOBCABlykuNrO04rmXpLs,50Vuhez61e93beM4HRUuHg,5J1ewKkCC28LleuiL8f9WG,1DP8rdNuuIAvmizNbQxsTX,1fIg8ZWulP4AHTEF938zy9,63pdDeLroRpaT5uT805Q8M,6H9fhoiRCaOZhc7zwAUfWP,0KkzHjuQom81UD06IZ1MDH,510qBf1rqwSyF31kXgTaec,0jWINAtES1tAvm0Kf9nnfb,1iCOvyje16dZLL8vhNiM0X,7KMidus7Ou5JTmGWduzV9Y,3ChKCNB8rSkxu3J4u6Exlj,2FkkcpgZO5vl79M6YmeUJ9,1QjlvffY8IsgMFMD8OEBt5,25xTdrTpBw0haZn6Ke71nr with Params: {} returned 403 due to None\n"
     ]
    },
    {
     "name": "stdout",
     "output_type": "stream",
     "text": [
      "Error de Spotify (lote 50-100): http status: 403, code:-1 - https://api.spotify.com/v1/audio-features/?ids=6yE653bOUMCnnAbCOnZS55,52qsLeKxfmSjaxAiHGPMbk,34cbXKoeiguKS93VAhZoDo,0BI9BYPVtp65GqNkVCl6tS,74PzFTj0YKQhtESkU5VrfF,3go4CiwXiXbbnHIdNB0s0X,3Ki7LceZVmcQINetqAbTWD,6Cg1kcaiDNVZQXQ9mylA2I,2fjZ2VetpKfgQVwhEeuecb,6XI33hctgDLUIRKI8wsJS4,6cfvxVx2PZFSFeghhmciy6,0uqzbdh7e7lYumXGMYPpx1,7ghqgPILO1JUpbL4stxmRx,0q83JR5Dv66Jr0fy4uwoIT,6SwSpU5R1r3gNC6vFsizz5,2v8AAFM55qPYv0uzE0Uk84,2Ur2dqDROT9msE41Xmfpzu,1LkYAkYzqq7TbJTGfx3ixY,5WSIVWdeIkCWmvTPUmNq0K,0YHhpW8PnU0WNuAKAVuM70,5In2tiQfcSBTNCU0JxulKi,7jrl8OMqXD6nz5URuPa2o7,2ygejCzmng76ICCqD2iGcq,3d4oqD3MLxGgmYcKwDcnES,4mTIROhUCiv05VMtalwCXF,6KoRdiUQXtx6NLPNXpRjwM,2EeYKi53PKRHvOc5zfMAeS,2k9xLUcUkMSPZ4evrmqE74,0XVh3SwTErn8xI5PcBRMNo,2vtjdPo6BfEFEk9a83mO45,476FkWNYiLN6D2r1HxCJe2,1FHVu3zdemsz0aH93rt1fi,2SZkDkRzG929gZ3ZiEWyvb,7qHMLJAWvJ5AgKObo4upRF,6SOBCABlykuNrO04rmXpLs,50Vuhez61e93beM4HRUuHg,5J1ewKkCC28LleuiL8f9WG,1DP8rdNuuIAvmizNbQxsTX,1fIg8ZWulP4AHTEF938zy9,63pdDeLroRpaT5uT805Q8M,6H9fhoiRCaOZhc7zwAUfWP,0KkzHjuQom81UD06IZ1MDH,510qBf1rqwSyF31kXgTaec,0jWINAtES1tAvm0Kf9nnfb,1iCOvyje16dZLL8vhNiM0X,7KMidus7Ou5JTmGWduzV9Y,3ChKCNB8rSkxu3J4u6Exlj,2FkkcpgZO5vl79M6YmeUJ9,1QjlvffY8IsgMFMD8OEBt5,25xTdrTpBw0haZn6Ke71nr:\n",
      " None, reason: None\n"
     ]
    },
    {
     "name": "stderr",
     "output_type": "stream",
     "text": [
      "HTTP Error for GET to https://api.spotify.com/v1/audio-features/?ids=6To25q7MayaH48LlqHpc5B,23cfvOBCKe5zbmb1Q6uULw,3GgLCC953aJ5Ch7Sx7l447,1Hn9f0bECJ4FRgm7aTugRt,6J24QBZuxVxhTshU8sf7rz,36N0wCA0Jn5KrlinaChvig,1CXdEVOskhK2MGHBJ9tIXZ,5TIJGEVBlNRgDEVzLXM0sd,6Uffe3IPB7tkCDhyDJ3Pw1,35MYAs5EQtZ9c5NLlZammA,1yCZLoVKku8xK62cv11b4u,7ygrDIOwwM4gtNf8Pz6kxW,3dO8wIpOvPLnek2Dt4SJ3V,0x7sG0x7hibf4o2YP9D7C3,5bf9LZvKNoXLP5H4idNjlt,6LC8T7kclOSebn8j0Ejics,5sbfd5DYBkRxcTLIlzmGGa,1Z4QpJaR0lg1VC2kTvxU3F,65l5KYs1YMFplVybSvFZqZ,6T3bGOpKBWvJ2aHZvZkPsl,3YQvbIUpsiW5FmQEpLeTlX,7LUxLggr0vvXXGS9o8Xq80,2HvFUvDshpsv4955ivC6ag,2lEWD5hJZxkhTKO3p9441l,5JVsMFqGPNBmNw2ddwxtLH,5vw6gK0JrGzRlegimi2NyB,2YrrNuVMvyg6VUZbUccJJe,4p0IFxpmHVZAVElyTy9YH1,28PRXrS8AkRX32FGL6S0DU,0FHJTyeCStUHgx3mLjxldJ,60UXVTYAXpAeRt2RGGjeoo,53Chgqu2TN0wlPw9EeJjSb,5S1lTe2IVfQQ7rJkFb6F9Q,2PePItqHHejpWS1yXi6kxy,7zxViV5EXj1RyEpYFh9LYO,6AaZ9Gqqrvc1gqmrRIThRz,50leMLM8GsQEw9EePq0uqE,5jiz9knVWREmTvgDYXvgy3,1qBx9GJ7h3O1pi7aZINdW5,2cetCvuGgkdd7B3ssKof9b,4i5vTRgxa974Kye7za2UY2,2au1LFRn0Q26f7eG0B9XPb,2tPfvkMgoz7cJt3sOgHU6c,4viHrAXPYTxszVbjMIgWKv,1ruOf1jBah2Rc5mazVy4fs,3LA5kI6ohA91mhyE3E2hyf,0MD82yzNOy3GBTtyRsqqGT,7rgcKBRfyKQXBdx2SjjVne,5vp9XKEvyeNQN8ltqivspY,48xXxVHaSxNiAELpnkJpx3 with Params: {} returned 403 due to None\n"
     ]
    },
    {
     "name": "stdout",
     "output_type": "stream",
     "text": [
      "Error de Spotify (lote 100-150): http status: 403, code:-1 - https://api.spotify.com/v1/audio-features/?ids=6To25q7MayaH48LlqHpc5B,23cfvOBCKe5zbmb1Q6uULw,3GgLCC953aJ5Ch7Sx7l447,1Hn9f0bECJ4FRgm7aTugRt,6J24QBZuxVxhTshU8sf7rz,36N0wCA0Jn5KrlinaChvig,1CXdEVOskhK2MGHBJ9tIXZ,5TIJGEVBlNRgDEVzLXM0sd,6Uffe3IPB7tkCDhyDJ3Pw1,35MYAs5EQtZ9c5NLlZammA,1yCZLoVKku8xK62cv11b4u,7ygrDIOwwM4gtNf8Pz6kxW,3dO8wIpOvPLnek2Dt4SJ3V,0x7sG0x7hibf4o2YP9D7C3,5bf9LZvKNoXLP5H4idNjlt,6LC8T7kclOSebn8j0Ejics,5sbfd5DYBkRxcTLIlzmGGa,1Z4QpJaR0lg1VC2kTvxU3F,65l5KYs1YMFplVybSvFZqZ,6T3bGOpKBWvJ2aHZvZkPsl,3YQvbIUpsiW5FmQEpLeTlX,7LUxLggr0vvXXGS9o8Xq80,2HvFUvDshpsv4955ivC6ag,2lEWD5hJZxkhTKO3p9441l,5JVsMFqGPNBmNw2ddwxtLH,5vw6gK0JrGzRlegimi2NyB,2YrrNuVMvyg6VUZbUccJJe,4p0IFxpmHVZAVElyTy9YH1,28PRXrS8AkRX32FGL6S0DU,0FHJTyeCStUHgx3mLjxldJ,60UXVTYAXpAeRt2RGGjeoo,53Chgqu2TN0wlPw9EeJjSb,5S1lTe2IVfQQ7rJkFb6F9Q,2PePItqHHejpWS1yXi6kxy,7zxViV5EXj1RyEpYFh9LYO,6AaZ9Gqqrvc1gqmrRIThRz,50leMLM8GsQEw9EePq0uqE,5jiz9knVWREmTvgDYXvgy3,1qBx9GJ7h3O1pi7aZINdW5,2cetCvuGgkdd7B3ssKof9b,4i5vTRgxa974Kye7za2UY2,2au1LFRn0Q26f7eG0B9XPb,2tPfvkMgoz7cJt3sOgHU6c,4viHrAXPYTxszVbjMIgWKv,1ruOf1jBah2Rc5mazVy4fs,3LA5kI6ohA91mhyE3E2hyf,0MD82yzNOy3GBTtyRsqqGT,7rgcKBRfyKQXBdx2SjjVne,5vp9XKEvyeNQN8ltqivspY,48xXxVHaSxNiAELpnkJpx3:\n",
      " None, reason: None\n"
     ]
    },
    {
     "name": "stderr",
     "output_type": "stream",
     "text": [
      "HTTP Error for GET to https://api.spotify.com/v1/audio-features/?ids=3pScyovGc4khi7Ss7fQJVQ,1uHm3PSB3qroN3EoK74fv4,0ZonXIVCpISrv3YO3ALHjf,2wKbamR0CPuWM4eu0aq3Bt,0DOIYUnQQ6EhzhUSr3uvSW,1C2KTiVWHNHE94qaJcfifK,5Wh51cbt8fs9BixveSUM36,2xnlCGTDKbnnVe9sf85RXy,5qUrVPh2XRNuDLkkyAEuNQ,6GgRMZPuHb7cPkyWBiSFdf,7lfcap6innWNBNfdDS3WYb,5KuCnbGLByy7MyVbfoRN60,2oPQbToxSn1Fq3jE9QQzp2,2MPIQ8T8laaAtkcieQgPEJ,7E72Xjd9RFgDkBVLx5KlGf,4n0aPaMITQl1quzLF5RGmA,53sSvO4tgcqgLs3ej6c688,3UJyOgofFfi8nfG8lgdiOX,2Z50i8tkAi8EK9i3DdqReI,6bkshQZTB2QGfy7MN3yhGY,4OZLL39ISzW2rgF1SE32SG,7vNiCVFghw336cXSXVqiGG,4Tv4X669iTNi4NkFzjerDT,5I3uzipgkLTYTDkeRtp769,39YjbGD9vvFPh5irbkLN0p,66ShyjRt7dvrbBRhzkx5lf,4D29gfDh72Hti03DB6x4aW,5WXjs8hxuTZriI3lG91EPv,6cHCU4Cc5uRzzydOmmSrNQ,4ezafcOuI5em8LoE2xxnpv,4AZWyXZm5g13fHLhZjFASc,75rN76DJyTN3ycKKLloLEH,4YhA8wCS03e32t61v4D8Ik,0ZdIqN3uaraCU2oi9wlyCI,30hHZsMClnFYGPVz60N5D0,0Ti3Msx3qTNejeRUtByOJF,7HMVzm9KEXpObiJ55QQQl8,3wL6KmDNn31cjJrVUTUaw5,1Pnm8ee0lG6p29twdpMoiV,3heY8STmLnMTyKplRDO8WL,1sgXaFxtoZljiQ38QZPMeW,6cFj6VpKF6ywkMTh03CrVr,2zsgFDyy58asugDYOVpHup,3PfWmbYIB1VZ1UBXU76qzG,1pbGcE2LFAYgaXCX2uXMpP,3OKm9M1Rgmy9ON9QlWMRnX,4xh98RD1TjVR4nHa47iH72,2nYHmYQZ7AKHshwF61x2PW,6DewG5fMCqLhQJVP0pvxWp,4mIb7XJ2EBrBJX6k88X0FE with Params: {} returned 403 due to None\n"
     ]
    },
    {
     "name": "stdout",
     "output_type": "stream",
     "text": [
      "Error de Spotify (lote 150-200): http status: 403, code:-1 - https://api.spotify.com/v1/audio-features/?ids=3pScyovGc4khi7Ss7fQJVQ,1uHm3PSB3qroN3EoK74fv4,0ZonXIVCpISrv3YO3ALHjf,2wKbamR0CPuWM4eu0aq3Bt,0DOIYUnQQ6EhzhUSr3uvSW,1C2KTiVWHNHE94qaJcfifK,5Wh51cbt8fs9BixveSUM36,2xnlCGTDKbnnVe9sf85RXy,5qUrVPh2XRNuDLkkyAEuNQ,6GgRMZPuHb7cPkyWBiSFdf,7lfcap6innWNBNfdDS3WYb,5KuCnbGLByy7MyVbfoRN60,2oPQbToxSn1Fq3jE9QQzp2,2MPIQ8T8laaAtkcieQgPEJ,7E72Xjd9RFgDkBVLx5KlGf,4n0aPaMITQl1quzLF5RGmA,53sSvO4tgcqgLs3ej6c688,3UJyOgofFfi8nfG8lgdiOX,2Z50i8tkAi8EK9i3DdqReI,6bkshQZTB2QGfy7MN3yhGY,4OZLL39ISzW2rgF1SE32SG,7vNiCVFghw336cXSXVqiGG,4Tv4X669iTNi4NkFzjerDT,5I3uzipgkLTYTDkeRtp769,39YjbGD9vvFPh5irbkLN0p,66ShyjRt7dvrbBRhzkx5lf,4D29gfDh72Hti03DB6x4aW,5WXjs8hxuTZriI3lG91EPv,6cHCU4Cc5uRzzydOmmSrNQ,4ezafcOuI5em8LoE2xxnpv,4AZWyXZm5g13fHLhZjFASc,75rN76DJyTN3ycKKLloLEH,4YhA8wCS03e32t61v4D8Ik,0ZdIqN3uaraCU2oi9wlyCI,30hHZsMClnFYGPVz60N5D0,0Ti3Msx3qTNejeRUtByOJF,7HMVzm9KEXpObiJ55QQQl8,3wL6KmDNn31cjJrVUTUaw5,1Pnm8ee0lG6p29twdpMoiV,3heY8STmLnMTyKplRDO8WL,1sgXaFxtoZljiQ38QZPMeW,6cFj6VpKF6ywkMTh03CrVr,2zsgFDyy58asugDYOVpHup,3PfWmbYIB1VZ1UBXU76qzG,1pbGcE2LFAYgaXCX2uXMpP,3OKm9M1Rgmy9ON9QlWMRnX,4xh98RD1TjVR4nHa47iH72,2nYHmYQZ7AKHshwF61x2PW,6DewG5fMCqLhQJVP0pvxWp,4mIb7XJ2EBrBJX6k88X0FE:\n",
      " None, reason: None\n"
     ]
    },
    {
     "name": "stderr",
     "output_type": "stream",
     "text": [
      "HTTP Error for GET to https://api.spotify.com/v1/audio-features/?ids=0i3d4Zx5BnGi2ZJklG6629,3LUwnXXaJuYOuwN1b3TdOn,71sC9gVXaFRwAMHJyQO8al,5ka9tzfUYOsFAz6cSUvFX6,7pJ4v3zipOfoysbnr7418Q,35Hs1eFnyVsxYbpaqrzGf4,0GFg4tWcxELrTX1NdMYcnx,1Ml2oBTj7oleflO9IdSMQr,1o56p3HbCLIVdeDTXva50s,5nW5TSFBuZCNnYZ1GxuATZ,1ieobqC1Vqe7GCs860ZL9A,2yGWS4pH3PWG3Z1BSESmBs,7FvcJRNLjIPEmJCoGknOfD,7u1aG3uF1fcgFptYZehzDv,7LqU8ombqyEM6eiPQd5unk,0alihbu8GXEB10sCxFxjR8,6tGtBvK6DezcjbtUxXGyxe,3GkclSNFTsqpTZJhzK9FCy,5v3CrsCbuK16ShUnBES5sb,0YROspOW9MlHe7b0jbnlva,6ZesTtqqoWL0DjsnsgaXSP,5MrvbvTkcpH9MdoE4ZMJRo,3YsxFbSzqiPVkyiinQImSw,3aKhLm5mONfAtS1NZXG8f4,2BrozLWEthSUJn3Mhi2SL6,4YvDviJWcOokkv38g2ICHi,2SPx20zLcydVe85iEgLuIG,7gQTQVb663gvXR0ocZxmxL,3FiSRW18p55yyydn1S2Gci,2R489slg9mFmr1qGG29evY,5gyrSOW1OadnBJuFvPoObk,5cKXWmo9a8AaP8sQ3bum4o,6LekqjDi5giTOBQ32aO1NE,4Qe4LjGNsiyoZmyKgWWfRw,6QvSq5kJtQWTFCVmbiju8U,6HUw0CNEyP0zHFuu7pQr96,2q7CtN4Oif2NDfjPp4inob,5dGWOVgzDPNLAdGL7Zd3rg,2rFiYbVGfSEe0g5dL3fmvW,5C8DlfRsAzGsikUazUc9nj,4CUCX3WSFzZENygS5rEHlB,5yXXIXFNxeZDC65x4AK8Sc,5iB0AiR3QXH5rf9omWAMiH,75hAIxfdRUOyW5E4WZp583,3Jp39FKcqPJPeq1SWTdLpc,6cVGRxeFyIcVKBzKKoB5Hm,3csxW0zKGYtUkt8MJseEe3,54vEWOuxZEaUbZBaELEjm9,6X0ZwNCsikJasgIsawCVSh,3JQW9oq8S76V5MPkOXtMDd with Params: {} returned 403 due to None\n"
     ]
    },
    {
     "name": "stdout",
     "output_type": "stream",
     "text": [
      "Error de Spotify (lote 200-250): http status: 403, code:-1 - https://api.spotify.com/v1/audio-features/?ids=0i3d4Zx5BnGi2ZJklG6629,3LUwnXXaJuYOuwN1b3TdOn,71sC9gVXaFRwAMHJyQO8al,5ka9tzfUYOsFAz6cSUvFX6,7pJ4v3zipOfoysbnr7418Q,35Hs1eFnyVsxYbpaqrzGf4,0GFg4tWcxELrTX1NdMYcnx,1Ml2oBTj7oleflO9IdSMQr,1o56p3HbCLIVdeDTXva50s,5nW5TSFBuZCNnYZ1GxuATZ,1ieobqC1Vqe7GCs860ZL9A,2yGWS4pH3PWG3Z1BSESmBs,7FvcJRNLjIPEmJCoGknOfD,7u1aG3uF1fcgFptYZehzDv,7LqU8ombqyEM6eiPQd5unk,0alihbu8GXEB10sCxFxjR8,6tGtBvK6DezcjbtUxXGyxe,3GkclSNFTsqpTZJhzK9FCy,5v3CrsCbuK16ShUnBES5sb,0YROspOW9MlHe7b0jbnlva,6ZesTtqqoWL0DjsnsgaXSP,5MrvbvTkcpH9MdoE4ZMJRo,3YsxFbSzqiPVkyiinQImSw,3aKhLm5mONfAtS1NZXG8f4,2BrozLWEthSUJn3Mhi2SL6,4YvDviJWcOokkv38g2ICHi,2SPx20zLcydVe85iEgLuIG,7gQTQVb663gvXR0ocZxmxL,3FiSRW18p55yyydn1S2Gci,2R489slg9mFmr1qGG29evY,5gyrSOW1OadnBJuFvPoObk,5cKXWmo9a8AaP8sQ3bum4o,6LekqjDi5giTOBQ32aO1NE,4Qe4LjGNsiyoZmyKgWWfRw,6QvSq5kJtQWTFCVmbiju8U,6HUw0CNEyP0zHFuu7pQr96,2q7CtN4Oif2NDfjPp4inob,5dGWOVgzDPNLAdGL7Zd3rg,2rFiYbVGfSEe0g5dL3fmvW,5C8DlfRsAzGsikUazUc9nj,4CUCX3WSFzZENygS5rEHlB,5yXXIXFNxeZDC65x4AK8Sc,5iB0AiR3QXH5rf9omWAMiH,75hAIxfdRUOyW5E4WZp583,3Jp39FKcqPJPeq1SWTdLpc,6cVGRxeFyIcVKBzKKoB5Hm,3csxW0zKGYtUkt8MJseEe3,54vEWOuxZEaUbZBaELEjm9,6X0ZwNCsikJasgIsawCVSh,3JQW9oq8S76V5MPkOXtMDd:\n",
      " None, reason: None\n"
     ]
    },
    {
     "name": "stderr",
     "output_type": "stream",
     "text": [
      "HTTP Error for GET to https://api.spotify.com/v1/audio-features/?ids=45wri7qZJIPzAap9QabZqp,6iMkucHKeoIT5AWWMMZVy2,5RvyQElacC4ed9Mjc1AcDa,69zOquKFQfKEpLR6miA1dG,5L8zpWOodgSi71tn6Ra9DO,2mF5uoAhhOOu35IaX9hvtE,7xkGnCByJTjjETccGORTME,3jlmH5iTFjOfqqajFzFjUE,1xH5U5wSDLWTujP4B4ncWR,3QUGPBLKQeifDuymfWcUgm,63CxtvIwhaiLyyxFF2eIRq,1LLNIAXw5LlMmDD7shQpgD,6HHNuRoNdPNsfT45yrhLcC,6xlM3jNwSqJzXxvdBrlZhY,680nwPXBUolEhg6IuulKUM,7k4tdQkDjGNAVlBrq1WKou,0PfC26OqXoy8JPmLgExD1Z,5TM1udpiIAQGLFdypi4NB8,260eHV0hZ5hWAL0LC6NJaW,6SEWg79MIOSWXaMIOGWdwm,5LpSFZBh0mybt9IBArpsLl,4VPMHiv92EMJ9iXytDtsAg,3I7YEtIMdHSklIAF2Csjdi,4ssPot5q9oN8yqm26boUGB,1olbGq7525Ee8vZNKIwOmJ,64rqZUfE1KIBxvojczY4a9,5PDilRUlBZZ7S475wTz2F9,0kAsRUT4jKceWpt2Sptxmv,3MiwWugW5vGTGF97rkjYOy,6asqgy73TjSdX2XRBCmcv4,6JeUGJ1lPQriEAwbW1KTuL,0N7bfoo047YcWv84g286p5,5LHPuu9SlkeSD4YjjbESD3,4rmLywZhPHxva2E0UwvrQS,26KLiQaxNDvqi74gPBPmHn,2GPlEILJTsH86Z7PWrs4Vl,6c46bcHy20gkW7mRCLHjZZ,5XEjM3lUZkIazDPGsNOYb0,64ivWdKX8o2jy0u4q5OKMA,1vLmaVpvq3szvHfBaHuXvH,5WOEVXzNmMeaY8YE4YHevE,3MJ8VWTSPV0CXhonZYXViV,04WZyIzlsydclChuUmMnhI,5WAAG4iwnq8O4QrGA8DOS1,6hD4kl14mNd4WRibNyotJr,4HCBDtlRZiCTdxMABSXrw6,0jCdEBviZSTk3yMg02hpCx,1V8OMVIperjSUg5UNNhsyj,4B1f1Gh5ivSZJTA6lwLnae,1rnuSgEXG1Wmrtnu5K1aAc with Params: {} returned 403 due to None\n"
     ]
    },
    {
     "name": "stdout",
     "output_type": "stream",
     "text": [
      "Error de Spotify (lote 250-300): http status: 403, code:-1 - https://api.spotify.com/v1/audio-features/?ids=45wri7qZJIPzAap9QabZqp,6iMkucHKeoIT5AWWMMZVy2,5RvyQElacC4ed9Mjc1AcDa,69zOquKFQfKEpLR6miA1dG,5L8zpWOodgSi71tn6Ra9DO,2mF5uoAhhOOu35IaX9hvtE,7xkGnCByJTjjETccGORTME,3jlmH5iTFjOfqqajFzFjUE,1xH5U5wSDLWTujP4B4ncWR,3QUGPBLKQeifDuymfWcUgm,63CxtvIwhaiLyyxFF2eIRq,1LLNIAXw5LlMmDD7shQpgD,6HHNuRoNdPNsfT45yrhLcC,6xlM3jNwSqJzXxvdBrlZhY,680nwPXBUolEhg6IuulKUM,7k4tdQkDjGNAVlBrq1WKou,0PfC26OqXoy8JPmLgExD1Z,5TM1udpiIAQGLFdypi4NB8,260eHV0hZ5hWAL0LC6NJaW,6SEWg79MIOSWXaMIOGWdwm,5LpSFZBh0mybt9IBArpsLl,4VPMHiv92EMJ9iXytDtsAg,3I7YEtIMdHSklIAF2Csjdi,4ssPot5q9oN8yqm26boUGB,1olbGq7525Ee8vZNKIwOmJ,64rqZUfE1KIBxvojczY4a9,5PDilRUlBZZ7S475wTz2F9,0kAsRUT4jKceWpt2Sptxmv,3MiwWugW5vGTGF97rkjYOy,6asqgy73TjSdX2XRBCmcv4,6JeUGJ1lPQriEAwbW1KTuL,0N7bfoo047YcWv84g286p5,5LHPuu9SlkeSD4YjjbESD3,4rmLywZhPHxva2E0UwvrQS,26KLiQaxNDvqi74gPBPmHn,2GPlEILJTsH86Z7PWrs4Vl,6c46bcHy20gkW7mRCLHjZZ,5XEjM3lUZkIazDPGsNOYb0,64ivWdKX8o2jy0u4q5OKMA,1vLmaVpvq3szvHfBaHuXvH,5WOEVXzNmMeaY8YE4YHevE,3MJ8VWTSPV0CXhonZYXViV,04WZyIzlsydclChuUmMnhI,5WAAG4iwnq8O4QrGA8DOS1,6hD4kl14mNd4WRibNyotJr,4HCBDtlRZiCTdxMABSXrw6,0jCdEBviZSTk3yMg02hpCx,1V8OMVIperjSUg5UNNhsyj,4B1f1Gh5ivSZJTA6lwLnae,1rnuSgEXG1Wmrtnu5K1aAc:\n",
      " None, reason: None\n"
     ]
    },
    {
     "name": "stderr",
     "output_type": "stream",
     "text": [
      "HTTP Error for GET to https://api.spotify.com/v1/audio-features/?ids=1zmxI6h1zb5BFr4D7iLdDo,5PcnLE9PMWLsJKKmFrGH74,07UjvOy6A5PBQS6DEDWXe6,0bQxm427snu7K2CDGJPJIm,7bJqnD3FA13soXXjH9PCxn,5Xhdn3J3gXPzBerzpiZpMZ,055rN9hoKvcLOlbD63pktT,5uR5KDC6YPhLrSyQofA3Eh,4V5lC5KIkHOD4jg8bmMAZY,5iITtL9NSy7P1NCK0v6jKn,4j0uTX53Lr0I2bHj88c22h,1GwIeEA3VmOJdB0O8WOeAw,5IU0XAvlxH3xxVxeWMNERQ,6Ob5IfshjGCSgOqbcm1Fl8,3QrF1UngPWPjh3IlNRcHow,0QxAAxJKgsV8AH6T1L7vtc,7o8SksWtkdHaI1hLniokXZ,5qufALP8qQxFuWLgUgVnYg,6645ZKQu8Z7IkBQIwtDGVf,1T3xg3yBbtCv4lc1AA08Nm,2ODmzOPIt0dfl2TKK6O4Q1,17GdAx0kHOFNXZiCj8HuOW,1yfg5d1PPqtYmhZ7K2HQnG,1ZBfwsbLOssOUT2bjoMz9t,23dmwaDpsNSYvJ8I6NNNDM,1MxPUqixjpvY4epdQH7hQP,149SUvVIFzKFjuYz4D9HkE,4CvSGtHvfYaJlTaKnhNMru,5wDwRWRJmRkVbg0d7vH4Lx,13Fkj3C8qOSqKaTZknGCBy,7zacyKvVMUsjbtvMiJPWlw,6RaLkGz7VkGeBKTprWysAS,0V0SfnXAr6dLh3kaGNkOcN,30yYdfQSNHZrAjyo8e7wnM,0OEeF9fThDiLsXOCKvJ11m,3NR7p7DsyXUn43aUR9tiRk,0LbpbmT7C33G54BVRRiDxp,28T3zCQz5i7f1vaxVu1VP6,5huSgTVqBdIJTFhpShJfcg,6kEq9Vk2Q7cSjlqL6weGIY,41LyuPdT4z9GoeSY3eYEHA,0qbzjDlkKO3upenopyegk8,0xNSJOBAjhE7EiuH0n4CWw,1rrybhjLvLkt6OEBHpmObY,55Ki1ugidm4ykrnk4DMctm,6OQrmEIK8KOOVcSoSaEo40,3YT2R7AKTRrg5HH8l5x0eY,7jiG8VpTsaGkSzbT2eK5cc,2qCT8lA4Fer5fdZ6kQb5fW,3JKQxAcBF54PJh373Mhs23 with Params: {} returned 403 due to None\n"
     ]
    },
    {
     "name": "stdout",
     "output_type": "stream",
     "text": [
      "Error de Spotify (lote 300-350): http status: 403, code:-1 - https://api.spotify.com/v1/audio-features/?ids=1zmxI6h1zb5BFr4D7iLdDo,5PcnLE9PMWLsJKKmFrGH74,07UjvOy6A5PBQS6DEDWXe6,0bQxm427snu7K2CDGJPJIm,7bJqnD3FA13soXXjH9PCxn,5Xhdn3J3gXPzBerzpiZpMZ,055rN9hoKvcLOlbD63pktT,5uR5KDC6YPhLrSyQofA3Eh,4V5lC5KIkHOD4jg8bmMAZY,5iITtL9NSy7P1NCK0v6jKn,4j0uTX53Lr0I2bHj88c22h,1GwIeEA3VmOJdB0O8WOeAw,5IU0XAvlxH3xxVxeWMNERQ,6Ob5IfshjGCSgOqbcm1Fl8,3QrF1UngPWPjh3IlNRcHow,0QxAAxJKgsV8AH6T1L7vtc,7o8SksWtkdHaI1hLniokXZ,5qufALP8qQxFuWLgUgVnYg,6645ZKQu8Z7IkBQIwtDGVf,1T3xg3yBbtCv4lc1AA08Nm,2ODmzOPIt0dfl2TKK6O4Q1,17GdAx0kHOFNXZiCj8HuOW,1yfg5d1PPqtYmhZ7K2HQnG,1ZBfwsbLOssOUT2bjoMz9t,23dmwaDpsNSYvJ8I6NNNDM,1MxPUqixjpvY4epdQH7hQP,149SUvVIFzKFjuYz4D9HkE,4CvSGtHvfYaJlTaKnhNMru,5wDwRWRJmRkVbg0d7vH4Lx,13Fkj3C8qOSqKaTZknGCBy,7zacyKvVMUsjbtvMiJPWlw,6RaLkGz7VkGeBKTprWysAS,0V0SfnXAr6dLh3kaGNkOcN,30yYdfQSNHZrAjyo8e7wnM,0OEeF9fThDiLsXOCKvJ11m,3NR7p7DsyXUn43aUR9tiRk,0LbpbmT7C33G54BVRRiDxp,28T3zCQz5i7f1vaxVu1VP6,5huSgTVqBdIJTFhpShJfcg,6kEq9Vk2Q7cSjlqL6weGIY,41LyuPdT4z9GoeSY3eYEHA,0qbzjDlkKO3upenopyegk8,0xNSJOBAjhE7EiuH0n4CWw,1rrybhjLvLkt6OEBHpmObY,55Ki1ugidm4ykrnk4DMctm,6OQrmEIK8KOOVcSoSaEo40,3YT2R7AKTRrg5HH8l5x0eY,7jiG8VpTsaGkSzbT2eK5cc,2qCT8lA4Fer5fdZ6kQb5fW,3JKQxAcBF54PJh373Mhs23:\n",
      " None, reason: None\n"
     ]
    },
    {
     "name": "stderr",
     "output_type": "stream",
     "text": [
      "HTTP Error for GET to https://api.spotify.com/v1/audio-features/?ids=2bH4EwQ9MKYendnBjddJXX,3183VDfH1ihmCTzcMEyO4f,65dfXsnlWaaCSikAk5hwcE,3Hiz0BttM3fIMfJeTw8utZ,0fN65FwO4sNc07YBFFNDxt,4t1otCNMdzJNx2XTdPC0bL,0KQXK9fzKKnR7gvl9QY9a8,3lqgFUE8viG7JIdvl8jB5I,1suL3huzAGeUnkd6FbDedK,0owHKjfdpcubXTTxShVvZQ,3QN1JvJphjUeTliAxhWolV,1r3i8UYZNKJ8lqNYALLH3X,61jdCy6s9H0k8o6HQxeHad,6tAgnBiXmVfjXgqj4Vo4kC,6P2R6MtpKYQzvvLGYHo2Ye,5bLEEpJjjpikb9r80wx3t0,1vTU5i076IJfrdCOA9Z1Be,1bvV7NeVmOlARAxBtp3b2D,61XdkVRsHeoavJgkqqpk5X,0WHHaDOZtASBwBaliNHvFU,4UFRNTDzjNxH0zxvhNOVQY,3grssP4RnWbZgIf2eYew3s,0wJvkz0v2pScp0PyIrs1BU,3nMxEJZA6o0rNqlOMekhlJ,3y2q4UKKXTu2KEkDfRsZFB,35k1n4ub02fCyapu4ETClC,5jchyJ5MquFoIzHbtNaqoW,4YdwIBjx0LbNTyz8IBFFq2,28jhBeA4D1geerc233wU6m,10yMA9fxAD9r3cCDgDhkOT,2tORbAJixx0zfOybTRl97H,0O4Ypua38VxWOyWVfXekFj,2pd88Mwl8u2Xku2PIzpeh5,5ZYqMxFWDC1x5iIEooA8YK,7u0ixJEZ9K44cTqgYcLiZQ,0f66cqlk299ZhlYuIgY4ba,1PHKSxXvoHniClE3aUzx34,0k4hYXZd0aep2vlwXoMU07,378q7y8XE5gXPnN77pYIwT,4RWggKYeVZfpeIM1htRNW8,0yT42mxXOGTZIc8fSWz74c,2jEQ1W3VLn3lj9pHhBURJ0,59jllYkYGHC4Ibjff8HMzM,1coXjEDuAQugyKqUKRqceG,5LU6YxD8uB9VBa2X3YQbtO,1mbzKbY0HFSpQcHgGPOgt9,3anmL67VZIvXMmpJSCKd06,0Jxewf8GCsvPZxjqiKNiNb,6C7KNoe822bbXT3C2R5oL7,7KaTqadS7yeeFJZo2f0VKK with Params: {} returned 403 due to None\n"
     ]
    },
    {
     "name": "stdout",
     "output_type": "stream",
     "text": [
      "Error de Spotify (lote 350-400): http status: 403, code:-1 - https://api.spotify.com/v1/audio-features/?ids=2bH4EwQ9MKYendnBjddJXX,3183VDfH1ihmCTzcMEyO4f,65dfXsnlWaaCSikAk5hwcE,3Hiz0BttM3fIMfJeTw8utZ,0fN65FwO4sNc07YBFFNDxt,4t1otCNMdzJNx2XTdPC0bL,0KQXK9fzKKnR7gvl9QY9a8,3lqgFUE8viG7JIdvl8jB5I,1suL3huzAGeUnkd6FbDedK,0owHKjfdpcubXTTxShVvZQ,3QN1JvJphjUeTliAxhWolV,1r3i8UYZNKJ8lqNYALLH3X,61jdCy6s9H0k8o6HQxeHad,6tAgnBiXmVfjXgqj4Vo4kC,6P2R6MtpKYQzvvLGYHo2Ye,5bLEEpJjjpikb9r80wx3t0,1vTU5i076IJfrdCOA9Z1Be,1bvV7NeVmOlARAxBtp3b2D,61XdkVRsHeoavJgkqqpk5X,0WHHaDOZtASBwBaliNHvFU,4UFRNTDzjNxH0zxvhNOVQY,3grssP4RnWbZgIf2eYew3s,0wJvkz0v2pScp0PyIrs1BU,3nMxEJZA6o0rNqlOMekhlJ,3y2q4UKKXTu2KEkDfRsZFB,35k1n4ub02fCyapu4ETClC,5jchyJ5MquFoIzHbtNaqoW,4YdwIBjx0LbNTyz8IBFFq2,28jhBeA4D1geerc233wU6m,10yMA9fxAD9r3cCDgDhkOT,2tORbAJixx0zfOybTRl97H,0O4Ypua38VxWOyWVfXekFj,2pd88Mwl8u2Xku2PIzpeh5,5ZYqMxFWDC1x5iIEooA8YK,7u0ixJEZ9K44cTqgYcLiZQ,0f66cqlk299ZhlYuIgY4ba,1PHKSxXvoHniClE3aUzx34,0k4hYXZd0aep2vlwXoMU07,378q7y8XE5gXPnN77pYIwT,4RWggKYeVZfpeIM1htRNW8,0yT42mxXOGTZIc8fSWz74c,2jEQ1W3VLn3lj9pHhBURJ0,59jllYkYGHC4Ibjff8HMzM,1coXjEDuAQugyKqUKRqceG,5LU6YxD8uB9VBa2X3YQbtO,1mbzKbY0HFSpQcHgGPOgt9,3anmL67VZIvXMmpJSCKd06,0Jxewf8GCsvPZxjqiKNiNb,6C7KNoe822bbXT3C2R5oL7,7KaTqadS7yeeFJZo2f0VKK:\n",
      " None, reason: None\n"
     ]
    },
    {
     "name": "stderr",
     "output_type": "stream",
     "text": [
      "HTTP Error for GET to https://api.spotify.com/v1/audio-features/?ids=4TxfgthAonB0hODpf9UhCi,7g3KNCuitXq1p6qRezUm0Z,6kcQFBUVaGOY1LVUcym9IV,5QmUPpmbZ8ScYU0LPMwbhx,6VnY04hMLmhTU1YRS9qZBW,39ri1KRCaawIqleeMBfMR8,48CiwTXmz37SwXs8eIfX2q,4HheguzMvKnZGd9y55Xvbt,3tsWjkaVNWtAwOQUS8hboh,38BsqgMNbuwmgmlgUTb34O,5v14fgLkysYnKZUEmkQXHW,2hQ1qTAvzgjpepylrMHbju,06Y7AUjIEyHU9af4C6r8sM,4c6VdqWuoju188H1MLHQbr,6Kt4j3XVqNIMGSP8kvlCnW,4I9QwcGbspUzV5nt5WFUFL,2CICa54TRqbZ1fke3sC1hk,70Z4ZfRHpkB2aWwhxqaa1R,4P3lMGhQrOzqF5fRPYQ4yC,6lW1zQWto5RpT4kauBaQBs,6VZG3pPzmwdxoxD3J1AUST,1WWgMk8nD79p8VeKFGYrOw,23wfXwnsPZYe5A1xXRHb3J,27msmgcdSRniJHfocEf6EH,1x8sna2LV8WQ38NEtN5X46,3S4G4SL15Cp4CvAfmye8um,6CHENx8iqzMwavTIz8s0gm,18ohWhzbMCynq5QJ68ifkW,5Ty1B6gHqh0joQx6ChbxiH,07Bw7ACBw1xzhKpXrraskA,7lUjs7bf1fjKI8HKhbNp6z,48lIoKOJ9KOedV2PKgIfUT,4V0he7zYfJLEjfCDfojToB,4w7hIjpuEfvMPiyEgdqlf6,4zlGdsGD7D6qECEUOKByjF,5tz69p7tJuGPeMGwNTxYuV,7K4agN9Ul3LX0jbC2UxcYs,20oenBXlmwIfK0F3fQIjhM,5RxKqRKJva5ZcVa0ltdxuX,24CeaRaJHiMKFAVZTCu8Y0,1Ra0py3DxQ2dcWHXhd9wq6,1UWRqfZoYYONXB1Azj9OKv,32yottFNSCL9Nho9biIKzY,2yQkUV0EEDMfHQ3BqkcrOa,3IaAYtmN8T0YIYVqnxNnVz,34ebeHWIGQrAt99L1R2Kyn,0aHWzIvtnkG3FVcBoFQ6BG,3Zo6R22retEhAnQBbam5As,5exHP9IYyaFSeQ5Y4OtbKb,0vyoxWYsDYduwnYuiEHOZg with Params: {} returned 403 due to None\n"
     ]
    },
    {
     "name": "stdout",
     "output_type": "stream",
     "text": [
      "Error de Spotify (lote 400-450): http status: 403, code:-1 - https://api.spotify.com/v1/audio-features/?ids=4TxfgthAonB0hODpf9UhCi,7g3KNCuitXq1p6qRezUm0Z,6kcQFBUVaGOY1LVUcym9IV,5QmUPpmbZ8ScYU0LPMwbhx,6VnY04hMLmhTU1YRS9qZBW,39ri1KRCaawIqleeMBfMR8,48CiwTXmz37SwXs8eIfX2q,4HheguzMvKnZGd9y55Xvbt,3tsWjkaVNWtAwOQUS8hboh,38BsqgMNbuwmgmlgUTb34O,5v14fgLkysYnKZUEmkQXHW,2hQ1qTAvzgjpepylrMHbju,06Y7AUjIEyHU9af4C6r8sM,4c6VdqWuoju188H1MLHQbr,6Kt4j3XVqNIMGSP8kvlCnW,4I9QwcGbspUzV5nt5WFUFL,2CICa54TRqbZ1fke3sC1hk,70Z4ZfRHpkB2aWwhxqaa1R,4P3lMGhQrOzqF5fRPYQ4yC,6lW1zQWto5RpT4kauBaQBs,6VZG3pPzmwdxoxD3J1AUST,1WWgMk8nD79p8VeKFGYrOw,23wfXwnsPZYe5A1xXRHb3J,27msmgcdSRniJHfocEf6EH,1x8sna2LV8WQ38NEtN5X46,3S4G4SL15Cp4CvAfmye8um,6CHENx8iqzMwavTIz8s0gm,18ohWhzbMCynq5QJ68ifkW,5Ty1B6gHqh0joQx6ChbxiH,07Bw7ACBw1xzhKpXrraskA,7lUjs7bf1fjKI8HKhbNp6z,48lIoKOJ9KOedV2PKgIfUT,4V0he7zYfJLEjfCDfojToB,4w7hIjpuEfvMPiyEgdqlf6,4zlGdsGD7D6qECEUOKByjF,5tz69p7tJuGPeMGwNTxYuV,7K4agN9Ul3LX0jbC2UxcYs,20oenBXlmwIfK0F3fQIjhM,5RxKqRKJva5ZcVa0ltdxuX,24CeaRaJHiMKFAVZTCu8Y0,1Ra0py3DxQ2dcWHXhd9wq6,1UWRqfZoYYONXB1Azj9OKv,32yottFNSCL9Nho9biIKzY,2yQkUV0EEDMfHQ3BqkcrOa,3IaAYtmN8T0YIYVqnxNnVz,34ebeHWIGQrAt99L1R2Kyn,0aHWzIvtnkG3FVcBoFQ6BG,3Zo6R22retEhAnQBbam5As,5exHP9IYyaFSeQ5Y4OtbKb,0vyoxWYsDYduwnYuiEHOZg:\n",
      " None, reason: None\n"
     ]
    },
    {
     "name": "stderr",
     "output_type": "stream",
     "text": [
      "HTTP Error for GET to https://api.spotify.com/v1/audio-features/?ids=31LqHjk6Ya9sH4jJPBrTgu,6PGUgfU3ZB7BpRxUOtdiuu,7uNV9LjVf5R3eVoRao44UK,36YJWsgSCEMFsv9Y2jxI4U,4AtmALMF0y7ttIykE7Z1B0,0SqgZ5KpfX24W8ZeGzOle2,04IgJXw7Wq1lDLefyMAUAC,2P5OwB19yivBQE1tHGGiv8,2p4UgJyKiJ3ghPriYJi5Cw,5PlYCPa9eV21gJcK5cQiZi,5HICwAHgma4z0SxPxusZ16,4GfhaqyXVJVRvwfC4NKlHB,2UVPkh6lrARjYDK42jC6kD,0zLcFLRTPMwwo2dULiV2k0,3yvsHpMQf3C6xZGq7bu9c6,0hBUJnl3R6Fhr8jVqqA01c,3g8K7XowSG6BXbGXDk24ho,1NYiFG8cdKEVDO0ZowYi3j,7eK3fdGXCmhGfE8dKtETQU,6jXrlEipTpnPbvbRi56iJV,5T2hX4dfBoJCG3hal07zmC,1XvAsK3kDB6dHpcQaexprf,6m3kJ6d7Ypd1eoBoGP2qZN,6Z3pIqEp5n5faSopwto0tB,1yGdDVCH0xg9Zp80Cc4Bsk,1sxOACEZ2xAMRB0TLaCwIl,4ahPtPyoi6Ft9r0Hf1xS9v,5itoQvc6CnZAFGMe5mgG29,3znoF3XEVQgg1ej2jV0QXw,7a2Y8ocNl3hFk0LTnfhN7M,6PyawKQl2tQGqmitbvB4ov,5RYCXmaVi9QEgWefZtL7bX,2cgiT9hPlk8Fx6qNAO0xD3,0yKLTbW4G4oF5y3Cd3x9bu,6zhnqFMuQ8Q2GCY9X89KXb,6gw7wvsEqHAihATnECGJBN,1KFVD1lN5AiCBHxudRmVQy,2HRYa6iG1M5DRefO8pK2I3,0QaqxKrWjRRW7ldY6m04wp,5xzp7D911za4ynbTiJ4pWB,36jHzg3f6e3WZdSfAlpKPP,2E8AVQcuYSlXm12g112Kef,7J9tkRgN26YmIHXl4fnVlp,6WGaVdhY8uMWMgxiKpdLVy,6XmUNM3uu4R437USxAyaI3,4ZY1MKm7pbC2v19Lj02SSR,4DSAxhyfL8uZYTbRNsSHMU,2jNEBp0veljqF3QfNRIhIa,0heYKfxOFRpHHwTZvpsCOF,5XzpED4DauHRbeU9wIX2Px with Params: {} returned 403 due to None\n"
     ]
    },
    {
     "name": "stdout",
     "output_type": "stream",
     "text": [
      "Error de Spotify (lote 450-500): http status: 403, code:-1 - https://api.spotify.com/v1/audio-features/?ids=31LqHjk6Ya9sH4jJPBrTgu,6PGUgfU3ZB7BpRxUOtdiuu,7uNV9LjVf5R3eVoRao44UK,36YJWsgSCEMFsv9Y2jxI4U,4AtmALMF0y7ttIykE7Z1B0,0SqgZ5KpfX24W8ZeGzOle2,04IgJXw7Wq1lDLefyMAUAC,2P5OwB19yivBQE1tHGGiv8,2p4UgJyKiJ3ghPriYJi5Cw,5PlYCPa9eV21gJcK5cQiZi,5HICwAHgma4z0SxPxusZ16,4GfhaqyXVJVRvwfC4NKlHB,2UVPkh6lrARjYDK42jC6kD,0zLcFLRTPMwwo2dULiV2k0,3yvsHpMQf3C6xZGq7bu9c6,0hBUJnl3R6Fhr8jVqqA01c,3g8K7XowSG6BXbGXDk24ho,1NYiFG8cdKEVDO0ZowYi3j,7eK3fdGXCmhGfE8dKtETQU,6jXrlEipTpnPbvbRi56iJV,5T2hX4dfBoJCG3hal07zmC,1XvAsK3kDB6dHpcQaexprf,6m3kJ6d7Ypd1eoBoGP2qZN,6Z3pIqEp5n5faSopwto0tB,1yGdDVCH0xg9Zp80Cc4Bsk,1sxOACEZ2xAMRB0TLaCwIl,4ahPtPyoi6Ft9r0Hf1xS9v,5itoQvc6CnZAFGMe5mgG29,3znoF3XEVQgg1ej2jV0QXw,7a2Y8ocNl3hFk0LTnfhN7M,6PyawKQl2tQGqmitbvB4ov,5RYCXmaVi9QEgWefZtL7bX,2cgiT9hPlk8Fx6qNAO0xD3,0yKLTbW4G4oF5y3Cd3x9bu,6zhnqFMuQ8Q2GCY9X89KXb,6gw7wvsEqHAihATnECGJBN,1KFVD1lN5AiCBHxudRmVQy,2HRYa6iG1M5DRefO8pK2I3,0QaqxKrWjRRW7ldY6m04wp,5xzp7D911za4ynbTiJ4pWB,36jHzg3f6e3WZdSfAlpKPP,2E8AVQcuYSlXm12g112Kef,7J9tkRgN26YmIHXl4fnVlp,6WGaVdhY8uMWMgxiKpdLVy,6XmUNM3uu4R437USxAyaI3,4ZY1MKm7pbC2v19Lj02SSR,4DSAxhyfL8uZYTbRNsSHMU,2jNEBp0veljqF3QfNRIhIa,0heYKfxOFRpHHwTZvpsCOF,5XzpED4DauHRbeU9wIX2Px:\n",
      " None, reason: None\n"
     ]
    },
    {
     "name": "stderr",
     "output_type": "stream",
     "text": [
      "HTTP Error for GET to https://api.spotify.com/v1/audio-features/?ids=1ey9ub4AISvEmjM7tkoBh0,3yJk2ERDKdFHOXlpsR17o4,0XFYe43c3nkd8yPQ4hDGFs,4WZb6UurjjVs2W6ClgwirI,6SXmPZBeILQOR5zdQbkm47,3TZrBEUWCkRzFQs5FJME4b,7oUCnXgsxD2jyW4LTg3mNI,5QDhEhYNuJlmSkc1zm5X0y,0bE5gJJno8d6jBLgqHmx7k,1pkb7eplZ7xGrijYN0FyUh,7LjFcq4C2NGlXrSadUma79,5mQ6F8LKkOPvzfDukU8Sh0,4osAGX0bAz9H4cIuImnA8L,3uD6ZQB58O7pT0GI8VmK0Z,7dJZjbVExc2xjdhJAqgkbv,0lbcZq4CItnajRmqwnCq16,7EMaslxt5uFetZAI94TvSu,2kKtO2tLWLc5Twza40TUff,5y6WoLQ8rd1u3cDvndFGlX,6tM8cMX9S4AyRd5sDDrzhN,15ajHgwqNYTPFlD0ijNqoS,0sWGnySFvSRZPr5Swr6nLx,6Pc87N1oVOfSgrVEunfe0J,7g516Dn1Xrp8OdtLntHVmr,0HLrgX6j6ubJ4wh0kzVVwA,62EnbSrZNKr4gDc2cfHRgx,0KrHGddsTgJvfdpdLc0vWO,5YsEglADppBRUYCIIvnglm,60usyT7p4x6HJnbqzsUyEM,5hVH7xFCLAEEicRanOyBnu,5PONCrsJnRyMsHBsnUS6I9,44go3ZmDNtKdfCc15IseAx,3UkYhZrL4RrjQbxxth6uQ0,4LI8G8V0gsfbi5wBJETAWW,1CFRJ8223pGmAL82T1oZvi,7xW0HBZi5iFrwuKQ5pmP5C,3OJVrGpVbq0KD6j0NMOrlA,3fmDLAPVx4GiDtnPyDcqxO,0owm8bC565CWVhe4Ph0yNX,36DRRyVWwc0aypv0vaS9AL,5sEmIMKfc3Y75rDHc6dnOb,3JPb5kcCPNB9h0cn9POaGX,4DmbZ96tQFGJKyDfAYe6cQ,5QluxyMLe9F8P4VsdB7Jbh,6P2E4QNe99SlxjQDqZrtHW,4ri8PQB9dbxVtwyFVNb29j,4PMxQszpkTQeOyEtfkg5Ow,1iO8y8VhSpT27nCLwyoGuE,0yjiVLQ6qJmbeaaklBFh0V,5lWxhOZyvgTrCxAbcnCAeB with Params: {} returned 403 due to None\n"
     ]
    },
    {
     "name": "stdout",
     "output_type": "stream",
     "text": [
      "Error de Spotify (lote 500-550): http status: 403, code:-1 - https://api.spotify.com/v1/audio-features/?ids=1ey9ub4AISvEmjM7tkoBh0,3yJk2ERDKdFHOXlpsR17o4,0XFYe43c3nkd8yPQ4hDGFs,4WZb6UurjjVs2W6ClgwirI,6SXmPZBeILQOR5zdQbkm47,3TZrBEUWCkRzFQs5FJME4b,7oUCnXgsxD2jyW4LTg3mNI,5QDhEhYNuJlmSkc1zm5X0y,0bE5gJJno8d6jBLgqHmx7k,1pkb7eplZ7xGrijYN0FyUh,7LjFcq4C2NGlXrSadUma79,5mQ6F8LKkOPvzfDukU8Sh0,4osAGX0bAz9H4cIuImnA8L,3uD6ZQB58O7pT0GI8VmK0Z,7dJZjbVExc2xjdhJAqgkbv,0lbcZq4CItnajRmqwnCq16,7EMaslxt5uFetZAI94TvSu,2kKtO2tLWLc5Twza40TUff,5y6WoLQ8rd1u3cDvndFGlX,6tM8cMX9S4AyRd5sDDrzhN,15ajHgwqNYTPFlD0ijNqoS,0sWGnySFvSRZPr5Swr6nLx,6Pc87N1oVOfSgrVEunfe0J,7g516Dn1Xrp8OdtLntHVmr,0HLrgX6j6ubJ4wh0kzVVwA,62EnbSrZNKr4gDc2cfHRgx,0KrHGddsTgJvfdpdLc0vWO,5YsEglADppBRUYCIIvnglm,60usyT7p4x6HJnbqzsUyEM,5hVH7xFCLAEEicRanOyBnu,5PONCrsJnRyMsHBsnUS6I9,44go3ZmDNtKdfCc15IseAx,3UkYhZrL4RrjQbxxth6uQ0,4LI8G8V0gsfbi5wBJETAWW,1CFRJ8223pGmAL82T1oZvi,7xW0HBZi5iFrwuKQ5pmP5C,3OJVrGpVbq0KD6j0NMOrlA,3fmDLAPVx4GiDtnPyDcqxO,0owm8bC565CWVhe4Ph0yNX,36DRRyVWwc0aypv0vaS9AL,5sEmIMKfc3Y75rDHc6dnOb,3JPb5kcCPNB9h0cn9POaGX,4DmbZ96tQFGJKyDfAYe6cQ,5QluxyMLe9F8P4VsdB7Jbh,6P2E4QNe99SlxjQDqZrtHW,4ri8PQB9dbxVtwyFVNb29j,4PMxQszpkTQeOyEtfkg5Ow,1iO8y8VhSpT27nCLwyoGuE,0yjiVLQ6qJmbeaaklBFh0V,5lWxhOZyvgTrCxAbcnCAeB:\n",
      " None, reason: None\n"
     ]
    },
    {
     "name": "stderr",
     "output_type": "stream",
     "text": [
      "HTTP Error for GET to https://api.spotify.com/v1/audio-features/?ids=0yK37PGtYHYxB2GVOYgJR2,2apsFfsxR5nkYkHaDMOs74,4wWQfo5vHRiwDsAVVEPPVn,1hKHFbVgr2UnnwpzkbRrZB,0LMQpAwXJ2qMRYoHNHQCip,0UwrQ4tgKCsLQoNUK9Dvrl,7LZN1TG85lyhHCGeXk3NC8,2eCisU4QtPRHUaFj7ZcB98,2EaWpwanyHqH1nQBB0eNUi,2VZXxOYZy6nstzcUOlzBkK,2fpzSINgTCbf4sS7LH39G5,1EvebP6vQuJ3V1K6hLRx6V,2WJqLZ2EOysq6m7qpmLzo7,2MFlSqZ2n3653wPPRsOaa4,4WaIIrIh6EzomvsAp8n1iP,4ygmfgdQxZHj3Ty7jccYId,5IJbTPhcj0IjdzUaYqwe2I,4bQ7jyBTnx33v44yaLtDIC,3KrjJgriB8BcBWOwNNB69F,2eRmjYHL0FGtzUBW3S5l6x,0bluBeWPM2Hm38MHsim1jW,5ptYOK56DFsTJ7Nazk4BRv,6SAGRjOycPfSX1p17CLajU,1wB58qm9o3rP5sJIIQ1qk7,4x4y0HzbJXbrSw3LrZ3Klj,40FnB2KXdYUw4NoJFz2oid,0gDVmCDWH8vq4RbMzrF94k,2w06Ie39BRTOUw5PM5QQIK,7sR4iqkvRC7h3eJvcXamSU,11fTxaVRKNOppoUae4ZrTN,27CUkcy7xGXHqWN3W7ZYZz,1KmFDz4mysLC5wRCGyQ8yg,2qP71o94haLnaDuaMDPkLY,1Bpbt1KLBTKdkJ2bpYHOcn,4EXZHrUpgZE0EoNz76aVpP,6hTAmpqePL1Fwmr4XkRukL,6opCVgNpah7ICJyarV6Q5a,30eRM2WyNiIoOh3TBh7UoJ,6rVUFjCgGQGNvIYkNuyOCw,3oZa0iSvL2ALpN77GJxYus,44BNe4pWaKNMJBkRVyJ5tA,0NXD1ulRi5QHpQr0dXNw4T,6MzXoRWWnOlAULvjiI1lW7,5UijRa3l7QSDalBsZWI275,5IpzmgwHjH6MQwRf1FptRk,086rn8Zx72CsPpIOzIfkuM,03clzUiJrTQDkckYgEznfO,4FyJRguXuZQyubcQIc4JFT,3nJvdMhOmRW4cRLw0NN7qC,6JoIOSqc999EcCUtTGSi3Y with Params: {} returned 403 due to None\n"
     ]
    },
    {
     "name": "stdout",
     "output_type": "stream",
     "text": [
      "Error de Spotify (lote 550-600): http status: 403, code:-1 - https://api.spotify.com/v1/audio-features/?ids=0yK37PGtYHYxB2GVOYgJR2,2apsFfsxR5nkYkHaDMOs74,4wWQfo5vHRiwDsAVVEPPVn,1hKHFbVgr2UnnwpzkbRrZB,0LMQpAwXJ2qMRYoHNHQCip,0UwrQ4tgKCsLQoNUK9Dvrl,7LZN1TG85lyhHCGeXk3NC8,2eCisU4QtPRHUaFj7ZcB98,2EaWpwanyHqH1nQBB0eNUi,2VZXxOYZy6nstzcUOlzBkK,2fpzSINgTCbf4sS7LH39G5,1EvebP6vQuJ3V1K6hLRx6V,2WJqLZ2EOysq6m7qpmLzo7,2MFlSqZ2n3653wPPRsOaa4,4WaIIrIh6EzomvsAp8n1iP,4ygmfgdQxZHj3Ty7jccYId,5IJbTPhcj0IjdzUaYqwe2I,4bQ7jyBTnx33v44yaLtDIC,3KrjJgriB8BcBWOwNNB69F,2eRmjYHL0FGtzUBW3S5l6x,0bluBeWPM2Hm38MHsim1jW,5ptYOK56DFsTJ7Nazk4BRv,6SAGRjOycPfSX1p17CLajU,1wB58qm9o3rP5sJIIQ1qk7,4x4y0HzbJXbrSw3LrZ3Klj,40FnB2KXdYUw4NoJFz2oid,0gDVmCDWH8vq4RbMzrF94k,2w06Ie39BRTOUw5PM5QQIK,7sR4iqkvRC7h3eJvcXamSU,11fTxaVRKNOppoUae4ZrTN,27CUkcy7xGXHqWN3W7ZYZz,1KmFDz4mysLC5wRCGyQ8yg,2qP71o94haLnaDuaMDPkLY,1Bpbt1KLBTKdkJ2bpYHOcn,4EXZHrUpgZE0EoNz76aVpP,6hTAmpqePL1Fwmr4XkRukL,6opCVgNpah7ICJyarV6Q5a,30eRM2WyNiIoOh3TBh7UoJ,6rVUFjCgGQGNvIYkNuyOCw,3oZa0iSvL2ALpN77GJxYus,44BNe4pWaKNMJBkRVyJ5tA,0NXD1ulRi5QHpQr0dXNw4T,6MzXoRWWnOlAULvjiI1lW7,5UijRa3l7QSDalBsZWI275,5IpzmgwHjH6MQwRf1FptRk,086rn8Zx72CsPpIOzIfkuM,03clzUiJrTQDkckYgEznfO,4FyJRguXuZQyubcQIc4JFT,3nJvdMhOmRW4cRLw0NN7qC,6JoIOSqc999EcCUtTGSi3Y:\n",
      " None, reason: None\n"
     ]
    },
    {
     "name": "stderr",
     "output_type": "stream",
     "text": [
      "HTTP Error for GET to https://api.spotify.com/v1/audio-features/?ids=3AjoQsgZ1xvr6lviGLezD3,6ZKkqjye6RywIdIefsIGyy,4CiyYK63TAx2FFTTdKHuX9,7GGKzm1iue4ely1y4uWqrZ,749jDXUKrXAYtU6iXzx7Fu,37mcskMYPUoi0ZlqAPBByr,2QXBh408EhthzKXKO8Lbqk,08EI81e55Lcqg2ZelJOXcG,7nJJa0qfRnbn2XQKxVgLrV,71H5hNlXGRDKULebdcR1sQ,12lYYiaqt66Y2LwQD13xg3,08vUXSpAPabSsP2dVZrcKg,10AveWzlmt1Dkh9mhsV2KZ,6e8HoZ0br0NyJAh49dptc6,04i7SRj5cwVED2dGy6GDzn,0znx9goRuMC0t9SD8uSKvE,3ArOscdkqchgxhopfuT7Kd,5yw2wTEE2LG5WNbKtbYueV,2V5SEUzNiKjqxK73uISfaE,7fBbXkujJb0EjxipjDShKC,406huHGjSj2bz0cnoeGI8j,5asoLbAoTbvVjyN4uq7ftR,4PLld5k4rnlDya1Sw0fhG9,0BOHrlOxCq6g7WkshTGDNe,4EIRorwqo7C2P4EcYL0p11,3bvXwsvRllbsNXLbyfW2xM,60uesDF4UyLUs61FgiDkdp,6jbKW9hYt7oJNTaceWBzrW,3mIwLIEXyYcY1XWuS9wSKI,4D2sBmJBSdAtSLMK2d2xN7,1dGfx2S88t7iCp7f3pfNTU,7BfXcS41LwIWAC4F0hHXLT,0YJ90x9KVh2zZ8kjYS3UnQ,12u0fHo4ze06KffYvaBzgP,7fmqcx9BXCagTqbXFbHeqR,39zZuaCUSLw0RRymHOxiQj,6jLUbPzIx5qmckXXR4R2Qx,3j9E6sgX6CPD7g59DYnJq8,4LtGoNMKmZiwsMvNZDRYpW,574lHjF7nBEBJ6ngEPbXEh,5HHZUDKV4gJeBkRVlTOLgJ,6rVujfYLm9YmdyjV5xTgsS,5evDxMPRnkMJgDtXTdcKV4,286zP4VA76TL0f8lTiwBqI,7sHBKcI7gK4kLT1IqrWgnh,49WCVy2Wv4TSfbYaxyE9H5,0hi6pwTBD3aThdeRwCqMPI,0QTI0nk1dydwQscugAQhb8,1AnK4Vuc645j7pbWo2mw3V,1qpo7EPyUl0WL9oKAK2hYm with Params: {} returned 403 due to None\n"
     ]
    },
    {
     "name": "stdout",
     "output_type": "stream",
     "text": [
      "Error de Spotify (lote 600-650): http status: 403, code:-1 - https://api.spotify.com/v1/audio-features/?ids=3AjoQsgZ1xvr6lviGLezD3,6ZKkqjye6RywIdIefsIGyy,4CiyYK63TAx2FFTTdKHuX9,7GGKzm1iue4ely1y4uWqrZ,749jDXUKrXAYtU6iXzx7Fu,37mcskMYPUoi0ZlqAPBByr,2QXBh408EhthzKXKO8Lbqk,08EI81e55Lcqg2ZelJOXcG,7nJJa0qfRnbn2XQKxVgLrV,71H5hNlXGRDKULebdcR1sQ,12lYYiaqt66Y2LwQD13xg3,08vUXSpAPabSsP2dVZrcKg,10AveWzlmt1Dkh9mhsV2KZ,6e8HoZ0br0NyJAh49dptc6,04i7SRj5cwVED2dGy6GDzn,0znx9goRuMC0t9SD8uSKvE,3ArOscdkqchgxhopfuT7Kd,5yw2wTEE2LG5WNbKtbYueV,2V5SEUzNiKjqxK73uISfaE,7fBbXkujJb0EjxipjDShKC,406huHGjSj2bz0cnoeGI8j,5asoLbAoTbvVjyN4uq7ftR,4PLld5k4rnlDya1Sw0fhG9,0BOHrlOxCq6g7WkshTGDNe,4EIRorwqo7C2P4EcYL0p11,3bvXwsvRllbsNXLbyfW2xM,60uesDF4UyLUs61FgiDkdp,6jbKW9hYt7oJNTaceWBzrW,3mIwLIEXyYcY1XWuS9wSKI,4D2sBmJBSdAtSLMK2d2xN7,1dGfx2S88t7iCp7f3pfNTU,7BfXcS41LwIWAC4F0hHXLT,0YJ90x9KVh2zZ8kjYS3UnQ,12u0fHo4ze06KffYvaBzgP,7fmqcx9BXCagTqbXFbHeqR,39zZuaCUSLw0RRymHOxiQj,6jLUbPzIx5qmckXXR4R2Qx,3j9E6sgX6CPD7g59DYnJq8,4LtGoNMKmZiwsMvNZDRYpW,574lHjF7nBEBJ6ngEPbXEh,5HHZUDKV4gJeBkRVlTOLgJ,6rVujfYLm9YmdyjV5xTgsS,5evDxMPRnkMJgDtXTdcKV4,286zP4VA76TL0f8lTiwBqI,7sHBKcI7gK4kLT1IqrWgnh,49WCVy2Wv4TSfbYaxyE9H5,0hi6pwTBD3aThdeRwCqMPI,0QTI0nk1dydwQscugAQhb8,1AnK4Vuc645j7pbWo2mw3V,1qpo7EPyUl0WL9oKAK2hYm:\n",
      " None, reason: None\n"
     ]
    },
    {
     "name": "stderr",
     "output_type": "stream",
     "text": [
      "HTTP Error for GET to https://api.spotify.com/v1/audio-features/?ids=6QbQrarQMX3Qdk0iGrzjcL,2z5LG9pXrouLrzhdhqrVwl,6Ad7FyAxc42mYQImkX5QgI,02seNjkfQxP1fJojMX74hX,1TCxBq17sCGddvfkPnO4QO,314QHlHTw7zBoe6MDAnjpR,1BCfGFKWF7ZK9xqeKkoPad,7a2OZvLfmTe3zTZOoLjomg,4eAPuH0cmXSVbXJfX5qIaE,36qUV9nj1rJgAugp5FJ8Kt,4uKyBI1fZAp6G9dyEROQZO,4Q0KkmMD0UXq06X0wmHDwz,7nJFGV6fHcgcvfCSmW8fzU,3mZec4wrXBPiX6dSKzDQ12,7nepqBHXhDCNPh4pAhUWL0,68fOpTQLgDJGMaolZHgne3,1JVm1wVJjNJpS9mYfl567G,3blqqBw92LJkVWMOPkE2rG,36YSMRcddGQIFBuYnvZOMv,5dfr9a69KRguVD1eBZCNOL,0iQkeXwp7V8Y6wWYSsn6RY,2N8K6CsluWPw7pb0D6sYzO,2h0owkcab1drOKOf0kXrXR,6qxpzKPmnYEetfTV7upw1V,5Xld7pbKffE9J4b9O0Xjtp,2Nbi7YfgzJXOGFJifwR1X3,0MT298VrmI1Kb7GFbxw43C,2YRdh76MXKKo6xMLKuocYz,65jwtnBytda6pB8uUGDM2X,5s44vQBcE1dK8VxRk3VMqr,4emAQQ9EPVSbO9afft5fKb,3clj22mW4k1FADb751JYWc,5KTunRwahqz91ErLDc9luS,2cMW6KjnjFrYcYdIsk0ER5,1K5OMBGaASIVTmr018TbvD,2mWbL8cvZHLaMlwgDcPmwH,1kUvgaQP1mBjifqRitiYah,0V1G8AcD0H5UJMFYrCYZTM,70UIZJ6paQvEyZ1HoM7VSQ,14agPvPTNXhdq91Oj39M3z,0d2u18OBTBorKPzHrYxXan,2UJWvowPiFtN4hOmURg8Kk,60edG2R4ANrOsdwgDJhZjn,4Zz1xHgoU0Z41HBOsm1cFd,22pGUXnkdIOCXtb0kIclnq,2kf0xwmhcPMHEWsfV8KXfj,15xyhKr2giQ6wS93eA7GMF,0vMxlxKJzARdF2UawAIzKI,17EjphFfgYP7kz3otD2luo,00QrHgrVlYOsleK3Vb62OJ with Params: {} returned 403 due to None\n"
     ]
    },
    {
     "name": "stdout",
     "output_type": "stream",
     "text": [
      "Error de Spotify (lote 650-700): http status: 403, code:-1 - https://api.spotify.com/v1/audio-features/?ids=6QbQrarQMX3Qdk0iGrzjcL,2z5LG9pXrouLrzhdhqrVwl,6Ad7FyAxc42mYQImkX5QgI,02seNjkfQxP1fJojMX74hX,1TCxBq17sCGddvfkPnO4QO,314QHlHTw7zBoe6MDAnjpR,1BCfGFKWF7ZK9xqeKkoPad,7a2OZvLfmTe3zTZOoLjomg,4eAPuH0cmXSVbXJfX5qIaE,36qUV9nj1rJgAugp5FJ8Kt,4uKyBI1fZAp6G9dyEROQZO,4Q0KkmMD0UXq06X0wmHDwz,7nJFGV6fHcgcvfCSmW8fzU,3mZec4wrXBPiX6dSKzDQ12,7nepqBHXhDCNPh4pAhUWL0,68fOpTQLgDJGMaolZHgne3,1JVm1wVJjNJpS9mYfl567G,3blqqBw92LJkVWMOPkE2rG,36YSMRcddGQIFBuYnvZOMv,5dfr9a69KRguVD1eBZCNOL,0iQkeXwp7V8Y6wWYSsn6RY,2N8K6CsluWPw7pb0D6sYzO,2h0owkcab1drOKOf0kXrXR,6qxpzKPmnYEetfTV7upw1V,5Xld7pbKffE9J4b9O0Xjtp,2Nbi7YfgzJXOGFJifwR1X3,0MT298VrmI1Kb7GFbxw43C,2YRdh76MXKKo6xMLKuocYz,65jwtnBytda6pB8uUGDM2X,5s44vQBcE1dK8VxRk3VMqr,4emAQQ9EPVSbO9afft5fKb,3clj22mW4k1FADb751JYWc,5KTunRwahqz91ErLDc9luS,2cMW6KjnjFrYcYdIsk0ER5,1K5OMBGaASIVTmr018TbvD,2mWbL8cvZHLaMlwgDcPmwH,1kUvgaQP1mBjifqRitiYah,0V1G8AcD0H5UJMFYrCYZTM,70UIZJ6paQvEyZ1HoM7VSQ,14agPvPTNXhdq91Oj39M3z,0d2u18OBTBorKPzHrYxXan,2UJWvowPiFtN4hOmURg8Kk,60edG2R4ANrOsdwgDJhZjn,4Zz1xHgoU0Z41HBOsm1cFd,22pGUXnkdIOCXtb0kIclnq,2kf0xwmhcPMHEWsfV8KXfj,15xyhKr2giQ6wS93eA7GMF,0vMxlxKJzARdF2UawAIzKI,17EjphFfgYP7kz3otD2luo,00QrHgrVlYOsleK3Vb62OJ:\n",
      " None, reason: None\n"
     ]
    },
    {
     "name": "stderr",
     "output_type": "stream",
     "text": [
      "HTTP Error for GET to https://api.spotify.com/v1/audio-features/?ids=3XfYE5GwAp4C8ZODeAxWuu,6MHKIYfdbth3tJvWzJgocr,12x2GN5iIBd1DuOszyWn4W,1zBkDaFq1xqFHkJIGdyS3z,3OGkdIjwrnn1TDIGiMHjA4,1UfJMy6T5L3Aqvp4PA9csj,5Z7lQadijtC6gDSGCgZb4K,0GKcZQz0vsUEg5hyIzaOWq,5t3KWr8w3yGrAUEqCfizlD,00v17Ah1ttx9Q44YOInhW6,0tbPhcwWcQ5UbAu0jPrxiQ,4yamflOmID6gxhkoBaLAbR,4pST9eofJZXO1JaVAt2CMV,6nxsfXTEqIb9NBpB3YAnyL,6WxhJtumLci7WkgiaEtuEx,246n8uAxaC2te1ZkOR3Ayo,0aq3J5qnT4gxyx7YVOjb36,5oS9uGQHcdKn5tGuffor76,30ylKExGCE5jCWSGVc34YN,7APZDX9M4xdlM6CCwfVrvs,36nf8kDajZkAqagyP5f2iG,7FzoBZKu2rOrds3NfEcq48,5gzz1fT2A7iOBvsUkD0knC,0ZjStErq7oOO3GI1zi6YQf,4m7Sj7Gqk4A64kQNR3hFTY,3MMohjanv4daEuxvHSWiKm,4ZtsMhrBydIK278IW3TWAS,09TJRgoaSj2x3jFlGEyh2H,7ibezdTCBAdBFh7OhP8DWG,5FfZsBYDi8utqnqBeJr7P0,0H2jfzzREOr9MF95HB7ry6,50Z5BvGwtxAuLWbqweZfv4,7zCIWVaLOmbKNhfrDhffty,4etjjJ73gklBgy2zyx4ObZ,2zxqDxWN2tWXWDi6aJOAWr,3zydaUIDU4C7pBU86vrFNU,2cP3VzykBSN33P2d3XKGzJ,6pcckgBzWt9zUkyzxv4egL,4JPPfHe20HhVS092H4NJYp,2XN182GUCaGAUvK42DoGMB,57fiDl480cr5zOAgrHkGqC,1P5jUwQSgfIWlh0TLnHOTa,1esSZ4HsnUhvEn7Qv9ZIRo,5oXA4UyrDwYSwAIYf5Uzw0,19mG989UMRSO457IjWwnpv,1oMHfIvmel8qvyshUWXaMT,3002VmPcTmXbfzk4OoJuYZ,3AFxgQ48P7YX0x8PtYTnVy,15F2RHxcNK0n6UFiFg0Cot,2uaoE3g1d0zmQtkGzg6MHu with Params: {} returned 403 due to None\n"
     ]
    },
    {
     "name": "stdout",
     "output_type": "stream",
     "text": [
      "Error de Spotify (lote 700-750): http status: 403, code:-1 - https://api.spotify.com/v1/audio-features/?ids=3XfYE5GwAp4C8ZODeAxWuu,6MHKIYfdbth3tJvWzJgocr,12x2GN5iIBd1DuOszyWn4W,1zBkDaFq1xqFHkJIGdyS3z,3OGkdIjwrnn1TDIGiMHjA4,1UfJMy6T5L3Aqvp4PA9csj,5Z7lQadijtC6gDSGCgZb4K,0GKcZQz0vsUEg5hyIzaOWq,5t3KWr8w3yGrAUEqCfizlD,00v17Ah1ttx9Q44YOInhW6,0tbPhcwWcQ5UbAu0jPrxiQ,4yamflOmID6gxhkoBaLAbR,4pST9eofJZXO1JaVAt2CMV,6nxsfXTEqIb9NBpB3YAnyL,6WxhJtumLci7WkgiaEtuEx,246n8uAxaC2te1ZkOR3Ayo,0aq3J5qnT4gxyx7YVOjb36,5oS9uGQHcdKn5tGuffor76,30ylKExGCE5jCWSGVc34YN,7APZDX9M4xdlM6CCwfVrvs,36nf8kDajZkAqagyP5f2iG,7FzoBZKu2rOrds3NfEcq48,5gzz1fT2A7iOBvsUkD0knC,0ZjStErq7oOO3GI1zi6YQf,4m7Sj7Gqk4A64kQNR3hFTY,3MMohjanv4daEuxvHSWiKm,4ZtsMhrBydIK278IW3TWAS,09TJRgoaSj2x3jFlGEyh2H,7ibezdTCBAdBFh7OhP8DWG,5FfZsBYDi8utqnqBeJr7P0,0H2jfzzREOr9MF95HB7ry6,50Z5BvGwtxAuLWbqweZfv4,7zCIWVaLOmbKNhfrDhffty,4etjjJ73gklBgy2zyx4ObZ,2zxqDxWN2tWXWDi6aJOAWr,3zydaUIDU4C7pBU86vrFNU,2cP3VzykBSN33P2d3XKGzJ,6pcckgBzWt9zUkyzxv4egL,4JPPfHe20HhVS092H4NJYp,2XN182GUCaGAUvK42DoGMB,57fiDl480cr5zOAgrHkGqC,1P5jUwQSgfIWlh0TLnHOTa,1esSZ4HsnUhvEn7Qv9ZIRo,5oXA4UyrDwYSwAIYf5Uzw0,19mG989UMRSO457IjWwnpv,1oMHfIvmel8qvyshUWXaMT,3002VmPcTmXbfzk4OoJuYZ,3AFxgQ48P7YX0x8PtYTnVy,15F2RHxcNK0n6UFiFg0Cot,2uaoE3g1d0zmQtkGzg6MHu:\n",
      " None, reason: None\n"
     ]
    },
    {
     "name": "stderr",
     "output_type": "stream",
     "text": [
      "HTTP Error for GET to https://api.spotify.com/v1/audio-features/?ids=3NjAWnf4SIPA1imAQFNjw8,65d84vVP3v7vYK28NRh7Rs,6NQtXRddCNVglZO17CeYu3,5GPZlCU95xgD0w8WQunJWc,1lTNswp9MzADZi8DB2uK9O,4rerj81rIsfASQYH7rtLcB,7HGgpWxFUgiYPFVoi774EF,5XffnDtxzeKWeDHswVgyTE,2qFrZGnLaSz3cLZKnX7Cb0,5IbxCFid5U4Dba0kLR4dtz,7gR69R9Jgw2XlIynOt1STX,1weTclnl9POq4nnZ8tNQs2,3kj0CNtffRkd2Pq4hdLLb7,7vzT6q4cK8adoEiPwHHomD,7FE2aBaznrnBEuBQUaNtuU,10PIn5YTSnHm6AZA6CmdkO,7dJc1hjztOTAwFmuSDrYMC,52wuwHxKNtwbihdS9iUJLE,3Bts5MFHG5QQaOJMJOJqSv,6qzrABvo4DnUiDlg3nuJsf,7dhRpaMRhvpCICJOqHVsDP,3PRVwEDVVK5ITqwu0Hy84V,7ygnnIP16QYsqErfosSruw,6r0ZDACdOeq6pw7upHBbYd,08IrdOXby79dgNabjrpkNo,6ibZXiySkDoL078ZgLx3Kr,3313TxBJfQgGzM7qdqhoQV,7tVkdnkZBy1krbNPWHoYcQ,5HJ0g1GdEBqKbQcjQSxKRu,5WNQ6vZPHnk8x4IfJZu612,0fZyKrp6W15mgM80aow43D,7tpPZqADxrWhogPTLRfJbL,0hKN7S0YOuyR0mRKrYPvb3,6s2U9VxYYF7EhLJVTS68jc,6qsB8beCsUDGSr1BgswWec,3wXnREhgAd5uzOj5HmHJxK,7gJoW5p4QLNCJ330ff7C2M,4e9AOHzSxYFsxgn5cH7rA9,2D7BlaBEA7pNpqEsEwGCx8,1OFDvjJmTYtvLk2jX9Ltc7,3ziqzakpb1X8NL7GasrZSx,59DzUA6IYoYq637BzHpDXb,2IHsYQSJGjhna2xZ83ui2j,5MP8qdgRS0LfKlFgV6PM65,0AkmNg3BN8xBuECm5xllwR,6Hb6tubu2yeixkJEHS0the,3DNHOIw3fw8JlWQONDzQcA,4hadBSAONgoIjStnSttuLN,1ZWvTo8XSMzTWK9f5jqQYE,25befrTx4W31Ysim1iUp0I with Params: {} returned 403 due to None\n"
     ]
    },
    {
     "name": "stdout",
     "output_type": "stream",
     "text": [
      "Error de Spotify (lote 750-800): http status: 403, code:-1 - https://api.spotify.com/v1/audio-features/?ids=3NjAWnf4SIPA1imAQFNjw8,65d84vVP3v7vYK28NRh7Rs,6NQtXRddCNVglZO17CeYu3,5GPZlCU95xgD0w8WQunJWc,1lTNswp9MzADZi8DB2uK9O,4rerj81rIsfASQYH7rtLcB,7HGgpWxFUgiYPFVoi774EF,5XffnDtxzeKWeDHswVgyTE,2qFrZGnLaSz3cLZKnX7Cb0,5IbxCFid5U4Dba0kLR4dtz,7gR69R9Jgw2XlIynOt1STX,1weTclnl9POq4nnZ8tNQs2,3kj0CNtffRkd2Pq4hdLLb7,7vzT6q4cK8adoEiPwHHomD,7FE2aBaznrnBEuBQUaNtuU,10PIn5YTSnHm6AZA6CmdkO,7dJc1hjztOTAwFmuSDrYMC,52wuwHxKNtwbihdS9iUJLE,3Bts5MFHG5QQaOJMJOJqSv,6qzrABvo4DnUiDlg3nuJsf,7dhRpaMRhvpCICJOqHVsDP,3PRVwEDVVK5ITqwu0Hy84V,7ygnnIP16QYsqErfosSruw,6r0ZDACdOeq6pw7upHBbYd,08IrdOXby79dgNabjrpkNo,6ibZXiySkDoL078ZgLx3Kr,3313TxBJfQgGzM7qdqhoQV,7tVkdnkZBy1krbNPWHoYcQ,5HJ0g1GdEBqKbQcjQSxKRu,5WNQ6vZPHnk8x4IfJZu612,0fZyKrp6W15mgM80aow43D,7tpPZqADxrWhogPTLRfJbL,0hKN7S0YOuyR0mRKrYPvb3,6s2U9VxYYF7EhLJVTS68jc,6qsB8beCsUDGSr1BgswWec,3wXnREhgAd5uzOj5HmHJxK,7gJoW5p4QLNCJ330ff7C2M,4e9AOHzSxYFsxgn5cH7rA9,2D7BlaBEA7pNpqEsEwGCx8,1OFDvjJmTYtvLk2jX9Ltc7,3ziqzakpb1X8NL7GasrZSx,59DzUA6IYoYq637BzHpDXb,2IHsYQSJGjhna2xZ83ui2j,5MP8qdgRS0LfKlFgV6PM65,0AkmNg3BN8xBuECm5xllwR,6Hb6tubu2yeixkJEHS0the,3DNHOIw3fw8JlWQONDzQcA,4hadBSAONgoIjStnSttuLN,1ZWvTo8XSMzTWK9f5jqQYE,25befrTx4W31Ysim1iUp0I:\n",
      " None, reason: None\n"
     ]
    },
    {
     "name": "stderr",
     "output_type": "stream",
     "text": [
      "HTTP Error for GET to https://api.spotify.com/v1/audio-features/?ids=0pLfv0qTmH5AG2aUQQdkBt,2S9R8UI2sblanLdCllZQUO,3QozS5ilm3x4JLBT3iZrPa,465AB1IcmdILkI3KIx6M3K,17GSWBqVCdPrF88lckCu9Q,2mI4a89s5XvZDfmEVDdv8i,00qg7B6HIDhIqtmJbXz25c,6mZpR3756gnPNWGjvthGCZ,7mieiMtb0mAdzNu74gHrvz,2m7EAVUZ3VYwn22DoOXsbx,0N9LQXtUL7TLtIoa7gpJfX,1WBpjnIoiSinAWjNnVzZH4,6c9AT9d0pMNqTsOXUFZAV9,39kXSNeX4g5wENfe3Vr2dX,71p5HLyVIzJS8V0MnQaBhQ,4OmjBoAYcQ5I4FBNqi6RC8,3FXDVUALipaatG5LIRiPcm,7JQKj4FveKAYgk1UzW8Vo3,1FRDNGAVgReAhhEdTukCp2,2fgsTIpGlD5odlua0y7gIQ,0hGHRp2G7zEnPfWfAY8eUs,0H9T6kLU7ofoejKdaKlv3v,3yLia20ACNsUTQtqdvdbZ2,3jrECf2k7VNObPprbUNYZM,24UAL0V1e5DrGOlnbpUzWF,3aSoj25WENW3MGsu8C24zH,7clPxdFA0dqouUYzCqR6fi,2CDnjjOWh18YG3LXsgvSLG,5ZoqoLH4aCpfGSObQGFFSe,4PRi9OcWsZ3sijfYAGjNlJ,2j8bSVTgNKL7e5pSt4GFfO,3b4yFBbdML3GrNccSc6Uz9,30wLkKpz7pCueRHzwQ1n8V,6iq70Lrz4ihEEAs4s9mVq1,4uAcTDOyAy9T0T5Yw2Z3CC,3fVVqSuOqIu8UV4Vvt3Yph,5jNgXdowXVRUHZ5rmvmlUP,4h2ivHk1DOadWS1rBpeQAy,59qZs7Eh3jBxtGywgm6IPU,5JQUfQZy7VqqHyyH9A1XB9,0vYMzSGzGvWzSW6sejiIce,2YTSlMNyRA4iggfEUbqgOu,4kNNSioQb1ajGYOxhckXAW,641RIKXFxub9xkUE013iSR,046Hr47An9KmP5X0gDDc0Z,72oNcATSqlr048J92N9BP1,2LtWVUL46IVLhY8oI6eV7G,0kl9Jbplh4hZCaj5YdjptI,7jCVnLRESQNYv3sRbdDtBY,1IrAeVefaL8E1GfCXbTuv0 with Params: {} returned 403 due to None\n"
     ]
    },
    {
     "name": "stdout",
     "output_type": "stream",
     "text": [
      "Error de Spotify (lote 800-850): http status: 403, code:-1 - https://api.spotify.com/v1/audio-features/?ids=0pLfv0qTmH5AG2aUQQdkBt,2S9R8UI2sblanLdCllZQUO,3QozS5ilm3x4JLBT3iZrPa,465AB1IcmdILkI3KIx6M3K,17GSWBqVCdPrF88lckCu9Q,2mI4a89s5XvZDfmEVDdv8i,00qg7B6HIDhIqtmJbXz25c,6mZpR3756gnPNWGjvthGCZ,7mieiMtb0mAdzNu74gHrvz,2m7EAVUZ3VYwn22DoOXsbx,0N9LQXtUL7TLtIoa7gpJfX,1WBpjnIoiSinAWjNnVzZH4,6c9AT9d0pMNqTsOXUFZAV9,39kXSNeX4g5wENfe3Vr2dX,71p5HLyVIzJS8V0MnQaBhQ,4OmjBoAYcQ5I4FBNqi6RC8,3FXDVUALipaatG5LIRiPcm,7JQKj4FveKAYgk1UzW8Vo3,1FRDNGAVgReAhhEdTukCp2,2fgsTIpGlD5odlua0y7gIQ,0hGHRp2G7zEnPfWfAY8eUs,0H9T6kLU7ofoejKdaKlv3v,3yLia20ACNsUTQtqdvdbZ2,3jrECf2k7VNObPprbUNYZM,24UAL0V1e5DrGOlnbpUzWF,3aSoj25WENW3MGsu8C24zH,7clPxdFA0dqouUYzCqR6fi,2CDnjjOWh18YG3LXsgvSLG,5ZoqoLH4aCpfGSObQGFFSe,4PRi9OcWsZ3sijfYAGjNlJ,2j8bSVTgNKL7e5pSt4GFfO,3b4yFBbdML3GrNccSc6Uz9,30wLkKpz7pCueRHzwQ1n8V,6iq70Lrz4ihEEAs4s9mVq1,4uAcTDOyAy9T0T5Yw2Z3CC,3fVVqSuOqIu8UV4Vvt3Yph,5jNgXdowXVRUHZ5rmvmlUP,4h2ivHk1DOadWS1rBpeQAy,59qZs7Eh3jBxtGywgm6IPU,5JQUfQZy7VqqHyyH9A1XB9,0vYMzSGzGvWzSW6sejiIce,2YTSlMNyRA4iggfEUbqgOu,4kNNSioQb1ajGYOxhckXAW,641RIKXFxub9xkUE013iSR,046Hr47An9KmP5X0gDDc0Z,72oNcATSqlr048J92N9BP1,2LtWVUL46IVLhY8oI6eV7G,0kl9Jbplh4hZCaj5YdjptI,7jCVnLRESQNYv3sRbdDtBY,1IrAeVefaL8E1GfCXbTuv0:\n",
      " None, reason: None\n"
     ]
    },
    {
     "name": "stderr",
     "output_type": "stream",
     "text": [
      "HTTP Error for GET to https://api.spotify.com/v1/audio-features/?ids=6iXob6JUuUW4HOP9jpMZOW,6OIhcpRlqHxfSlsaf75SJg,14OTH0zEQkFMcso5wuTqCQ,4IqaOOkX6571RjQpCeK65k,6icgmtt5Jc9B34DotG4B9k,4VyKpSDBsUmkxLXHEgX8W1,4vaxvNDaLSoD36iZX515ug,4f3owYynBAy2g3bvs4GPYw,1TRjW07bXHUyrDWLKNQElh,3k3oXnzhoz0VFbI0jYkCsL,1TzfQ8Ap85Uh6F9jclOxR5,5F0HCvhtUxM39ijkAcxWP6,6EOMC65wGgAw3FbFAK1OPG,1M9LnSZjeyLKn0GwT1Xg27,7CWQbJgH8GLCx8oDeHtHGK,3adLWdUYT0ECeJHhfKJGX2,3Wx6DM5SqTdPu7EapdA1QL,17gSeaqZ3AaxjsCOdeuQ6M,6WVPhTp8i9imWfHK407a0w,72EhIdeHsiIqHxptP5N6mi,3cTxANomnpYLQgMn78Nd89,6T83v2UntNmKZ0YaL4fVIw,5yIYfGl4kV0ZN6r2B29oo1,1cnfOQNIPCyFhO5hZQ6H9W,1baz90wWXGaYDJsBtkT1LX,0KK9SgELA5KVKDW4riwIU7,2QjTO6uaeyyJr76FKHRDWa,2WfpHKnOfuoUKKW6vZsoBl,4BhtKctdfmzWdo27xK02YS,11w9RSIhYHIPXu0eZ92HiI,1ps7ON9EPkyxRjDqzgigEH,0wAjY7NEozBf6neY7XmFI4,773ji1GUOFHP8ziVLntpQw,6hweVAWp2Y7SxD1DJdAIDI,4gbc2tU0UVqOtpXhpi9GAt,55kPi4L8eAnoEo8Nd9NNNq,5HHTgjhDJ31oGRpA8E3ztU,1w3nrGqgYoYgDo3WOD7lZX,6043y7S25UQclemCfGry6p,2lOReXj4aEMjbzm5fit82l,1ZmDkk4UjyDtsEQtinXrum,2Zo1xAr25EHpEHBzx3IHBP,3rBBLXAI1RXjNKiCE5lcOI,7FsdMp4R98vtYkFW360duv,3VdASfdTErUfDSYiLvkPv7,2l70EXsqwIZO4pVIqxMoIx,5guZzZLvZqRLgKsBoPMPMa,2DOgmNsXV3at3fMkzsqz3C,3s0kRpripv9Ro6iv0yKj2M,55ZLvOpZxN23scg12T8SH1 with Params: {} returned 403 due to None\n"
     ]
    },
    {
     "name": "stdout",
     "output_type": "stream",
     "text": [
      "Error de Spotify (lote 850-900): http status: 403, code:-1 - https://api.spotify.com/v1/audio-features/?ids=6iXob6JUuUW4HOP9jpMZOW,6OIhcpRlqHxfSlsaf75SJg,14OTH0zEQkFMcso5wuTqCQ,4IqaOOkX6571RjQpCeK65k,6icgmtt5Jc9B34DotG4B9k,4VyKpSDBsUmkxLXHEgX8W1,4vaxvNDaLSoD36iZX515ug,4f3owYynBAy2g3bvs4GPYw,1TRjW07bXHUyrDWLKNQElh,3k3oXnzhoz0VFbI0jYkCsL,1TzfQ8Ap85Uh6F9jclOxR5,5F0HCvhtUxM39ijkAcxWP6,6EOMC65wGgAw3FbFAK1OPG,1M9LnSZjeyLKn0GwT1Xg27,7CWQbJgH8GLCx8oDeHtHGK,3adLWdUYT0ECeJHhfKJGX2,3Wx6DM5SqTdPu7EapdA1QL,17gSeaqZ3AaxjsCOdeuQ6M,6WVPhTp8i9imWfHK407a0w,72EhIdeHsiIqHxptP5N6mi,3cTxANomnpYLQgMn78Nd89,6T83v2UntNmKZ0YaL4fVIw,5yIYfGl4kV0ZN6r2B29oo1,1cnfOQNIPCyFhO5hZQ6H9W,1baz90wWXGaYDJsBtkT1LX,0KK9SgELA5KVKDW4riwIU7,2QjTO6uaeyyJr76FKHRDWa,2WfpHKnOfuoUKKW6vZsoBl,4BhtKctdfmzWdo27xK02YS,11w9RSIhYHIPXu0eZ92HiI,1ps7ON9EPkyxRjDqzgigEH,0wAjY7NEozBf6neY7XmFI4,773ji1GUOFHP8ziVLntpQw,6hweVAWp2Y7SxD1DJdAIDI,4gbc2tU0UVqOtpXhpi9GAt,55kPi4L8eAnoEo8Nd9NNNq,5HHTgjhDJ31oGRpA8E3ztU,1w3nrGqgYoYgDo3WOD7lZX,6043y7S25UQclemCfGry6p,2lOReXj4aEMjbzm5fit82l,1ZmDkk4UjyDtsEQtinXrum,2Zo1xAr25EHpEHBzx3IHBP,3rBBLXAI1RXjNKiCE5lcOI,7FsdMp4R98vtYkFW360duv,3VdASfdTErUfDSYiLvkPv7,2l70EXsqwIZO4pVIqxMoIx,5guZzZLvZqRLgKsBoPMPMa,2DOgmNsXV3at3fMkzsqz3C,3s0kRpripv9Ro6iv0yKj2M,55ZLvOpZxN23scg12T8SH1:\n",
      " None, reason: None\n"
     ]
    },
    {
     "name": "stderr",
     "output_type": "stream",
     "text": [
      "HTTP Error for GET to https://api.spotify.com/v1/audio-features/?ids=57cjHXb0fHqn5UnCHJea0y,5DRH0tMnDfN3939qQHaquY,4h4q2KpmNk9Nz4I5BJ56Xl,6EQF75F2vtjm24P9eSe06l,4JObUKZlSNgQ8XJu2K9PSv,4tQvatTTvbAAkhhpwtP4lZ,0pTfftXp4uvQbvlL6hqy1G,2zBpYATyOnBFcbsQdWBOcd,0CRcrWVpcwzPfmQIq5s0OB,6V5cuRl346nxz1BtsAQu6J,7BuDwlfcW0NZvudh0Ycnyh,1twTCOvMESt73aBrZlRjC3,1Kp5eObB4wRodJqVpM3Hzm,64q7pIR9ZlnIIvL5xRd7bh,54gC2VruVFpjjlg3mLyCQL,5bZJm37qL4RTXkVWZH7jxT,5IuRkcGuUYGpgQ4uRmdTQ4,3xzIUacZEPzQU3v1RDtSeB,3c5mLG2Pd4FDMveQSrWZnZ,5GbP1onZ9D2Q1NNqCxzqMg,5Aoiu2TAMlT2zllwRCLmWT,0pe1PTdtP19PENzeRujrjk,6TDbbPvn7v5oYymCpsrGSX,1b5wonDMCbpjuojLmgtZVc,5kmd2YG1tITiR0SkfSA6i3,3P6KNAhrnIQUvhUGfIyrlq,42apdJFDH65Ew9RVuldbrb,1kLabJeksYuRoKCKtkAI8k,57exAQm4yIJdtlTe09cd2s,6posFURDYChXigHjOZtCnu,3EbKe2xtihMgeo3w61Uuu0,6qdGKP6ndrNejt1EEkctIK,0NzPtlKcavWXpgkM3NITbN,0OgcEpe3ovLwMcntilodi4,6dxSCObbtImAsiNjjfdvZF,30C4OfJ1rnXog1yXiLxgeC,3qDtHScaBwzsSMtLdm16ef,2E4KptsniNp1p6yqVTXxP5,7gidMuXEii15WfbZQSwnNu,0KH6N6dHZDqrjuxcoXsdBF,4kczS3oTbxPSZ7a8vkhae9,1g1QBNesKI5mBQoBdxKwMJ,6zv9DFwXX2DcgUbOy75YAT,0Vw3EIFXDYetREHbgYAhML,6BTqFBL8I2NPOZfa2qhmP0,1iFuwsvn1WBRbxFKJgs9C4,09NO4PjwySOc3eZAEhS7pb,5fhvnFCo7XHCNbpsNSFZXm,7JJaRatHw632JOmdouPcwp,1g6YfTLbs2x6QAG2UZI8MQ with Params: {} returned 403 due to None\n"
     ]
    },
    {
     "name": "stdout",
     "output_type": "stream",
     "text": [
      "Error de Spotify (lote 900-950): http status: 403, code:-1 - https://api.spotify.com/v1/audio-features/?ids=57cjHXb0fHqn5UnCHJea0y,5DRH0tMnDfN3939qQHaquY,4h4q2KpmNk9Nz4I5BJ56Xl,6EQF75F2vtjm24P9eSe06l,4JObUKZlSNgQ8XJu2K9PSv,4tQvatTTvbAAkhhpwtP4lZ,0pTfftXp4uvQbvlL6hqy1G,2zBpYATyOnBFcbsQdWBOcd,0CRcrWVpcwzPfmQIq5s0OB,6V5cuRl346nxz1BtsAQu6J,7BuDwlfcW0NZvudh0Ycnyh,1twTCOvMESt73aBrZlRjC3,1Kp5eObB4wRodJqVpM3Hzm,64q7pIR9ZlnIIvL5xRd7bh,54gC2VruVFpjjlg3mLyCQL,5bZJm37qL4RTXkVWZH7jxT,5IuRkcGuUYGpgQ4uRmdTQ4,3xzIUacZEPzQU3v1RDtSeB,3c5mLG2Pd4FDMveQSrWZnZ,5GbP1onZ9D2Q1NNqCxzqMg,5Aoiu2TAMlT2zllwRCLmWT,0pe1PTdtP19PENzeRujrjk,6TDbbPvn7v5oYymCpsrGSX,1b5wonDMCbpjuojLmgtZVc,5kmd2YG1tITiR0SkfSA6i3,3P6KNAhrnIQUvhUGfIyrlq,42apdJFDH65Ew9RVuldbrb,1kLabJeksYuRoKCKtkAI8k,57exAQm4yIJdtlTe09cd2s,6posFURDYChXigHjOZtCnu,3EbKe2xtihMgeo3w61Uuu0,6qdGKP6ndrNejt1EEkctIK,0NzPtlKcavWXpgkM3NITbN,0OgcEpe3ovLwMcntilodi4,6dxSCObbtImAsiNjjfdvZF,30C4OfJ1rnXog1yXiLxgeC,3qDtHScaBwzsSMtLdm16ef,2E4KptsniNp1p6yqVTXxP5,7gidMuXEii15WfbZQSwnNu,0KH6N6dHZDqrjuxcoXsdBF,4kczS3oTbxPSZ7a8vkhae9,1g1QBNesKI5mBQoBdxKwMJ,6zv9DFwXX2DcgUbOy75YAT,0Vw3EIFXDYetREHbgYAhML,6BTqFBL8I2NPOZfa2qhmP0,1iFuwsvn1WBRbxFKJgs9C4,09NO4PjwySOc3eZAEhS7pb,5fhvnFCo7XHCNbpsNSFZXm,7JJaRatHw632JOmdouPcwp,1g6YfTLbs2x6QAG2UZI8MQ:\n",
      " None, reason: None\n"
     ]
    },
    {
     "name": "stderr",
     "output_type": "stream",
     "text": [
      "HTTP Error for GET to https://api.spotify.com/v1/audio-features/?ids=7AKVlxrfmCWW2W4yx1IFfE,1bpzH7S8yYIz7VQxQRKoZU,2DqvEkyL8V4rwFSL5biRAF,5Ami7VLu20SF9fsA7VKuKN,61Fz6wJmt1gum6yO36vl7d,18WksM53w6XsOhLEg7YUx4,6qaSuppm6BNMBQMsbneoH2,5vhNT50IyTLLKA4wuRS8Eg,6B2xSrg56JCwF7drCI3Bdc,3pte3bSLRJhDNq5FV3pK6F,5bwJVTyYzj66jfvXoU9L3C,45LE8BnedevGHRBdTxWITQ,3BqzhxvqinFB3jaQ9xdrlE,3wyuSo7EDbX9NYUZhc1579,1Y2XGFr9Vn5xXS8di1NZ8r,2k4cyy2n2nY2xP2D3OXXZw,08IJU1EghoYiACwFwkzBWy,1Qv3NiBtqJCDB0bVeHNutY,5jsAgcaMbS5W3LNmYe7WYH,2Y6p9szpbg8HYRWhPwe90C,2zT6ahvNZgrXu2MWi0h5LG,6m79nn0jm0R4py9ju8nuSS,1tqhPUHRK5cdDpvoOoG8PV,0dnY3pSXWWHaLwxC2rjnO2,4YPBhaKIgezSdJg2UQAyyX,4GhPwlO7xf6WjdtdRS7hTO,6iV69bO5RJn73Z664qXDxW,09KuK1pnkG1O0ErjHZlZnE,4pcl5FMiVEi3w14ooOsr1O,3U6tpeSOYz6230imPIQHhk,6veSfK7Z7mw77UGERDmCTd,6LQH5KG4xRWLirMreJUhq2,1yo46tAgpXZlnezqYY4iu7,28cIcqEWzQtuXioxP3TMFg,6J8THD5mtcMckXwLDFSXt9,711LiySkQwTZxTAhz9qbpN,624z8inUNEfxWekoKw0OFg,4EFIkiF0FyB4KPwMo0I8em,4nsxTK5WpbwLRkuRJmR6mJ,6S9YLzfWSP3l4jNSrl11qx,3gbyT3YswmaHAj4owEQvGj,1lovNibE6WsrWvXYmVyeEA,3i9L89ie2lbAgGMsbej5py,0XWsEyF8KAnjbHS2e8Z6uw,4nyWOSIL2dedTVQz5o4Jwn,3rsAEZrCD3kTZDUZEL1UPx,4zGHwUyEKBa7IU5CV1getc,06L2ytpPhSJwIGQdFiZiH7,1q4YsHlbiQCWBknq5Pzv8R,2ZHF3ZwX1EgzK0wMQjfGof with Params: {} returned 403 due to None\n"
     ]
    },
    {
     "name": "stdout",
     "output_type": "stream",
     "text": [
      "Error de Spotify (lote 950-1000): http status: 403, code:-1 - https://api.spotify.com/v1/audio-features/?ids=7AKVlxrfmCWW2W4yx1IFfE,1bpzH7S8yYIz7VQxQRKoZU,2DqvEkyL8V4rwFSL5biRAF,5Ami7VLu20SF9fsA7VKuKN,61Fz6wJmt1gum6yO36vl7d,18WksM53w6XsOhLEg7YUx4,6qaSuppm6BNMBQMsbneoH2,5vhNT50IyTLLKA4wuRS8Eg,6B2xSrg56JCwF7drCI3Bdc,3pte3bSLRJhDNq5FV3pK6F,5bwJVTyYzj66jfvXoU9L3C,45LE8BnedevGHRBdTxWITQ,3BqzhxvqinFB3jaQ9xdrlE,3wyuSo7EDbX9NYUZhc1579,1Y2XGFr9Vn5xXS8di1NZ8r,2k4cyy2n2nY2xP2D3OXXZw,08IJU1EghoYiACwFwkzBWy,1Qv3NiBtqJCDB0bVeHNutY,5jsAgcaMbS5W3LNmYe7WYH,2Y6p9szpbg8HYRWhPwe90C,2zT6ahvNZgrXu2MWi0h5LG,6m79nn0jm0R4py9ju8nuSS,1tqhPUHRK5cdDpvoOoG8PV,0dnY3pSXWWHaLwxC2rjnO2,4YPBhaKIgezSdJg2UQAyyX,4GhPwlO7xf6WjdtdRS7hTO,6iV69bO5RJn73Z664qXDxW,09KuK1pnkG1O0ErjHZlZnE,4pcl5FMiVEi3w14ooOsr1O,3U6tpeSOYz6230imPIQHhk,6veSfK7Z7mw77UGERDmCTd,6LQH5KG4xRWLirMreJUhq2,1yo46tAgpXZlnezqYY4iu7,28cIcqEWzQtuXioxP3TMFg,6J8THD5mtcMckXwLDFSXt9,711LiySkQwTZxTAhz9qbpN,624z8inUNEfxWekoKw0OFg,4EFIkiF0FyB4KPwMo0I8em,4nsxTK5WpbwLRkuRJmR6mJ,6S9YLzfWSP3l4jNSrl11qx,3gbyT3YswmaHAj4owEQvGj,1lovNibE6WsrWvXYmVyeEA,3i9L89ie2lbAgGMsbej5py,0XWsEyF8KAnjbHS2e8Z6uw,4nyWOSIL2dedTVQz5o4Jwn,3rsAEZrCD3kTZDUZEL1UPx,4zGHwUyEKBa7IU5CV1getc,06L2ytpPhSJwIGQdFiZiH7,1q4YsHlbiQCWBknq5Pzv8R,2ZHF3ZwX1EgzK0wMQjfGof:\n",
      " None, reason: None\n"
     ]
    },
    {
     "name": "stderr",
     "output_type": "stream",
     "text": [
      "HTTP Error for GET to https://api.spotify.com/v1/audio-features/?ids=5lc4wEy9tZfK5DVIyQWSfi,3NtO2NsdEpqLbEkwgB5Z1R,0nwWA76HfZWwhkATFLDldE,4mo3epHBP71VwP5rWOm8zb,6IowqSmJJJD7GhmFOflAke,4YOUMtJMIavqHeXXRd6sFF,0ejjFJBIYlUsz3n4CfK3TM,22kCzKN50L8w0gkhSwsqMg,0hTBvviPFbYHTDxOIvn5wK,3yOzH9ptmak6r2ra9McmbL,2xr1ysLJ75OFUM46PHpVzU,4cS2HQ6jK80vqdY9ofpztx,5Ssv6DaKrW0HczVqx6zXdl,3tJ4y2Zqx6gM9xOAuFfsSF,3FESsHW8mAuiIsYpK6aJ6u,3RaqIAipLoQLVVNm41IMnJ,0jCGo9MLTR98iPUQCT0p5r,44aN5xKL3kGHvQ5bXVk6B8,3YJkAQNEhmCZGLdmPsu6Ye,0BmT0BVnYYggf7V4NCtx2B,1fPCGREltHJuV3axEPydLp,4zy1s9GnxWsNzZp1688euA,0nzGWlaLAHRLhKba8TE5vn,3TY1PFZXmYeiLcXygB74My,7Apo6o7oxgFyXaSmdx6NHN,4qwT6ISA0clmfsFSTjd9Hb,7q0cNfgXvVkYAraqqnzITD,7jxHeJLVpnP7S08JFF4GBi,3ToWC9JYSmDIa9yJs0k6PO,59DuHgV4Va0Drxx8FQg8Me,0ZB5g4RVky6RYFYgSz2Gg0,6mLxZx4FJpxWufufxpp9uG,4EDfdYJ7mqXRoWAqzF1PVO,2f3tjFRhnE2rJfnLwWfxCe,0fWiBdVFTGjTQHa5nAlwqi,4HJ8PUKMGrqApp1U6IIaZF,5z2BEa0LHhiOlqEWitESMn,1DJxR9NMQ14fv1WK0pHodt,4EUyYRMOyIWEd6tesaiYU6,6QAr8cDN1WdkfMm07b5lnf,4LT5UhJwTShLfYzY98bcSt,44c50vIVwEBxQOcGs2np6b,4suenIuyqxZYV0VIjsbYrG,4NirETfurhjh8U9Y1l5U1S,0DCDnpLt1uSN8urFMUOpXl,3nQQLpNAc9uKV0yFJ3irsg,7hQ59XLK9fqzppbTrKHlTG,2ZLkmFeraZyt2ccuwnupny,3U9Vj3RzlJioIP2KfUIII1,0RTtWFIcKYOlT9Ad7bm1kR with Params: {} returned 403 due to None\n"
     ]
    },
    {
     "name": "stdout",
     "output_type": "stream",
     "text": [
      "Error de Spotify (lote 1000-1050): http status: 403, code:-1 - https://api.spotify.com/v1/audio-features/?ids=5lc4wEy9tZfK5DVIyQWSfi,3NtO2NsdEpqLbEkwgB5Z1R,0nwWA76HfZWwhkATFLDldE,4mo3epHBP71VwP5rWOm8zb,6IowqSmJJJD7GhmFOflAke,4YOUMtJMIavqHeXXRd6sFF,0ejjFJBIYlUsz3n4CfK3TM,22kCzKN50L8w0gkhSwsqMg,0hTBvviPFbYHTDxOIvn5wK,3yOzH9ptmak6r2ra9McmbL,2xr1ysLJ75OFUM46PHpVzU,4cS2HQ6jK80vqdY9ofpztx,5Ssv6DaKrW0HczVqx6zXdl,3tJ4y2Zqx6gM9xOAuFfsSF,3FESsHW8mAuiIsYpK6aJ6u,3RaqIAipLoQLVVNm41IMnJ,0jCGo9MLTR98iPUQCT0p5r,44aN5xKL3kGHvQ5bXVk6B8,3YJkAQNEhmCZGLdmPsu6Ye,0BmT0BVnYYggf7V4NCtx2B,1fPCGREltHJuV3axEPydLp,4zy1s9GnxWsNzZp1688euA,0nzGWlaLAHRLhKba8TE5vn,3TY1PFZXmYeiLcXygB74My,7Apo6o7oxgFyXaSmdx6NHN,4qwT6ISA0clmfsFSTjd9Hb,7q0cNfgXvVkYAraqqnzITD,7jxHeJLVpnP7S08JFF4GBi,3ToWC9JYSmDIa9yJs0k6PO,59DuHgV4Va0Drxx8FQg8Me,0ZB5g4RVky6RYFYgSz2Gg0,6mLxZx4FJpxWufufxpp9uG,4EDfdYJ7mqXRoWAqzF1PVO,2f3tjFRhnE2rJfnLwWfxCe,0fWiBdVFTGjTQHa5nAlwqi,4HJ8PUKMGrqApp1U6IIaZF,5z2BEa0LHhiOlqEWitESMn,1DJxR9NMQ14fv1WK0pHodt,4EUyYRMOyIWEd6tesaiYU6,6QAr8cDN1WdkfMm07b5lnf,4LT5UhJwTShLfYzY98bcSt,44c50vIVwEBxQOcGs2np6b,4suenIuyqxZYV0VIjsbYrG,4NirETfurhjh8U9Y1l5U1S,0DCDnpLt1uSN8urFMUOpXl,3nQQLpNAc9uKV0yFJ3irsg,7hQ59XLK9fqzppbTrKHlTG,2ZLkmFeraZyt2ccuwnupny,3U9Vj3RzlJioIP2KfUIII1,0RTtWFIcKYOlT9Ad7bm1kR:\n",
      " None, reason: None\n"
     ]
    },
    {
     "name": "stderr",
     "output_type": "stream",
     "text": [
      "HTTP Error for GET to https://api.spotify.com/v1/audio-features/?ids=5wWwT3R9NKJUo22nlyCjsk,0O8cjpT4jO3ngCdkxf9726,1vBeIXlzbAieGoDqInav5j,4EzZQl2zJaKEnVg7J5TaJS,6Bat8YJaSEVzWwYFHqgqep,4q4iT3zXglsNjzFsArxBUv,45MpoG2B3CEHoZa8OhrAw2,7cGr5XY2pfj9b4UngCktG0,7ikBuouzgk31Z03FQBD5TN,4g5ucHrtIEM4LrIbrLo8Oz,0RoXTnhkLvbUR4dSsY3O0f,5sQi44U78b4HJT4KgyT1Ub,1WxgulZc7eYvvF3nle94mQ,1QqaaKVZxu9ExhYjKGgI4N,0zy8cgilWfDHQkDGm8g7AU,6YMPu36VGIknb8Ey1ohW3j,1fLDyLc4zw1TqyWJdvSFf2,4RSYgNxty83tnXcexSdgVA,5mqbIuIagl2q2HZqTiLSfS,42k1KeBehAd83lrGt1okiC,0g8pRR7OcNonUgQnbpUs5B,1nE2F3IhoFPNvAi22yhtJD,0me858TgKS205jGwq1Pjrg,58haa2vmqz7tCG7FFDrLWZ,5NjcvFJsahRqqSvNvTVJX4,2GcAqQbqBhBh2SwsOq3REu,6ja9N12lzBD1TRuQfZb18z,2SZI4t2AgJYquRPZ60QeXL,3J93BR2ihQjDQ9n9AfYTqu,3zJXrggTd6cB7GyxFnb4CL,635E9wWOTH59RcjdrmgTF7,3GyHbAEdy1Hf7t8jRmufpI,7D1No6dobdV7rYnF3ggn0i,51BmeblTvUydK3gX9v0vWh,5gKimuP9D6n69OE4C3RcHY,2q9aC39U5yGWK5bZ2WyfBP,4O1xKPHOH7iXlzMNUDuxHS,3pMwo7Y6vWquLxWXOBJQd0,6liVe4QuupDwqkVhO7ZFcS,5XbKAW0xWbg8I3vZwImas3,2s42bLtj1KAAqFXqPHKr8t,31NNxg7WYqs1bgRSFXgCf8,7rHDNQoJE5onAGfzKEJiNH,6tciQYmD0nQCdDE4IQCrdy,1M3mi59uvJjnMt19dqm6Lz,0FTorOO7JvU1W22AfQGUPr,21NwqiDCuH5JqV4Bb1lUyC,4GJ374ym9Bo8I5RZ1ovQrf,2R4KCSHfWuYiCMSu9f0nuc,3VPha4oaxgI792glswbhgF with Params: {} returned 403 due to None\n"
     ]
    },
    {
     "name": "stdout",
     "output_type": "stream",
     "text": [
      "Error de Spotify (lote 1050-1100): http status: 403, code:-1 - https://api.spotify.com/v1/audio-features/?ids=5wWwT3R9NKJUo22nlyCjsk,0O8cjpT4jO3ngCdkxf9726,1vBeIXlzbAieGoDqInav5j,4EzZQl2zJaKEnVg7J5TaJS,6Bat8YJaSEVzWwYFHqgqep,4q4iT3zXglsNjzFsArxBUv,45MpoG2B3CEHoZa8OhrAw2,7cGr5XY2pfj9b4UngCktG0,7ikBuouzgk31Z03FQBD5TN,4g5ucHrtIEM4LrIbrLo8Oz,0RoXTnhkLvbUR4dSsY3O0f,5sQi44U78b4HJT4KgyT1Ub,1WxgulZc7eYvvF3nle94mQ,1QqaaKVZxu9ExhYjKGgI4N,0zy8cgilWfDHQkDGm8g7AU,6YMPu36VGIknb8Ey1ohW3j,1fLDyLc4zw1TqyWJdvSFf2,4RSYgNxty83tnXcexSdgVA,5mqbIuIagl2q2HZqTiLSfS,42k1KeBehAd83lrGt1okiC,0g8pRR7OcNonUgQnbpUs5B,1nE2F3IhoFPNvAi22yhtJD,0me858TgKS205jGwq1Pjrg,58haa2vmqz7tCG7FFDrLWZ,5NjcvFJsahRqqSvNvTVJX4,2GcAqQbqBhBh2SwsOq3REu,6ja9N12lzBD1TRuQfZb18z,2SZI4t2AgJYquRPZ60QeXL,3J93BR2ihQjDQ9n9AfYTqu,3zJXrggTd6cB7GyxFnb4CL,635E9wWOTH59RcjdrmgTF7,3GyHbAEdy1Hf7t8jRmufpI,7D1No6dobdV7rYnF3ggn0i,51BmeblTvUydK3gX9v0vWh,5gKimuP9D6n69OE4C3RcHY,2q9aC39U5yGWK5bZ2WyfBP,4O1xKPHOH7iXlzMNUDuxHS,3pMwo7Y6vWquLxWXOBJQd0,6liVe4QuupDwqkVhO7ZFcS,5XbKAW0xWbg8I3vZwImas3,2s42bLtj1KAAqFXqPHKr8t,31NNxg7WYqs1bgRSFXgCf8,7rHDNQoJE5onAGfzKEJiNH,6tciQYmD0nQCdDE4IQCrdy,1M3mi59uvJjnMt19dqm6Lz,0FTorOO7JvU1W22AfQGUPr,21NwqiDCuH5JqV4Bb1lUyC,4GJ374ym9Bo8I5RZ1ovQrf,2R4KCSHfWuYiCMSu9f0nuc,3VPha4oaxgI792glswbhgF:\n",
      " None, reason: None\n"
     ]
    },
    {
     "name": "stderr",
     "output_type": "stream",
     "text": [
      "HTTP Error for GET to https://api.spotify.com/v1/audio-features/?ids=1ZEsUSRSOuessvFDC1Kpk1,5076rB7ftd19k0jFNhWr7f,5MSCPRym2jxwTv41eY37u4,0iVxgd7ppCu5sFGGMAWjz4,7vEBfuIwYhOc5gzcMqGMiC,3bFxumQRhWqt1BiXLeVrKa,23SMoQ8XK5BwOXOLKsX5MN,7wEKsPwXQABXr8udz6m9uD,39MjDKoXcN1MyZBMFWV57e,4aht1BIHJ7zkb3AFrROann,7uDjOQtIiy7wk2UQdHj97u,2yfiQQWHiW1X1NUgwxxUoj,3zfQjt55nlkNXCQVbGhWic,1CBebZYQXEi6X4om6YPYzq,7iEd3rt5xEKUWCZlB6xFM4,6qRvnXftofjYJm1Mg98UWL,1K0h7ocITL98fzNYRyAvKx,5n8U5A1repzNzDaaAZM03K,2aumHW3ptOrlyytsCQyu7Q,4Mt2QziS4oZCP1r0pVSAnJ,5Jefp64hQW3tnyKt6UJwap,5P6UFYrUOzYsfT02z3O5br,4U7IDLFJ6zTlNep0OvLzpQ,5bfwBtRcnbsmnYxdR3VZ0B,4QAcAstgKClbmPiTrFdAcv,2aot1UTCDPAkFBi2flrbDf,5QjgWCdwgjuKb7rJsVuRDj,6BuYbqrL7MnQaScqxNjVEd,32adcd0L2XLJS0I8D7pzcx,7HPGIQSrDN3BTRmxXlDvHL,4mIpdgUByLaKWSMuPMpryl,3nz4Z0g6f4H33UZ1Je5mhw,4Ic12B1rTHOi4JmAF2qMGG,7qTEy8Av9IX0MsQzw9m3iY,5krL1ynWvqLI2T5guMIw1h,2O6IuZ4d5723pn2yxI3SEn,0SVwvPjEd8uGAUvrV4TyWp,2yky9e802LlFdjO8gUUOBz,2jZ3CMQyzmbJgQImZs6uOW,5O5JPkbDW4DYcOdD4Ck8hf,5ZGOK1fz4IkX1r0s2gyUF1,3ABhLlDzPSEXWOAUnb0HfA,12cjLCL67yZG5Hz0WypcF9,3vo5xwIINlqRuu9rEnes86,0nrcBf21XEcXy8QesYxPfT,3VCtGJko9WrDV5KwGNXJVN,2hJlL0NCwnn79rAEDK3bxD,5ZdELX4OgcUDaybpoQhTfs,2Xh7dyCHCErCv3PmdVEGw4,0LbmPTymuyH3lrgbmU0EdA with Params: {} returned 403 due to None\n"
     ]
    },
    {
     "name": "stdout",
     "output_type": "stream",
     "text": [
      "Error de Spotify (lote 1100-1150): http status: 403, code:-1 - https://api.spotify.com/v1/audio-features/?ids=1ZEsUSRSOuessvFDC1Kpk1,5076rB7ftd19k0jFNhWr7f,5MSCPRym2jxwTv41eY37u4,0iVxgd7ppCu5sFGGMAWjz4,7vEBfuIwYhOc5gzcMqGMiC,3bFxumQRhWqt1BiXLeVrKa,23SMoQ8XK5BwOXOLKsX5MN,7wEKsPwXQABXr8udz6m9uD,39MjDKoXcN1MyZBMFWV57e,4aht1BIHJ7zkb3AFrROann,7uDjOQtIiy7wk2UQdHj97u,2yfiQQWHiW1X1NUgwxxUoj,3zfQjt55nlkNXCQVbGhWic,1CBebZYQXEi6X4om6YPYzq,7iEd3rt5xEKUWCZlB6xFM4,6qRvnXftofjYJm1Mg98UWL,1K0h7ocITL98fzNYRyAvKx,5n8U5A1repzNzDaaAZM03K,2aumHW3ptOrlyytsCQyu7Q,4Mt2QziS4oZCP1r0pVSAnJ,5Jefp64hQW3tnyKt6UJwap,5P6UFYrUOzYsfT02z3O5br,4U7IDLFJ6zTlNep0OvLzpQ,5bfwBtRcnbsmnYxdR3VZ0B,4QAcAstgKClbmPiTrFdAcv,2aot1UTCDPAkFBi2flrbDf,5QjgWCdwgjuKb7rJsVuRDj,6BuYbqrL7MnQaScqxNjVEd,32adcd0L2XLJS0I8D7pzcx,7HPGIQSrDN3BTRmxXlDvHL,4mIpdgUByLaKWSMuPMpryl,3nz4Z0g6f4H33UZ1Je5mhw,4Ic12B1rTHOi4JmAF2qMGG,7qTEy8Av9IX0MsQzw9m3iY,5krL1ynWvqLI2T5guMIw1h,2O6IuZ4d5723pn2yxI3SEn,0SVwvPjEd8uGAUvrV4TyWp,2yky9e802LlFdjO8gUUOBz,2jZ3CMQyzmbJgQImZs6uOW,5O5JPkbDW4DYcOdD4Ck8hf,5ZGOK1fz4IkX1r0s2gyUF1,3ABhLlDzPSEXWOAUnb0HfA,12cjLCL67yZG5Hz0WypcF9,3vo5xwIINlqRuu9rEnes86,0nrcBf21XEcXy8QesYxPfT,3VCtGJko9WrDV5KwGNXJVN,2hJlL0NCwnn79rAEDK3bxD,5ZdELX4OgcUDaybpoQhTfs,2Xh7dyCHCErCv3PmdVEGw4,0LbmPTymuyH3lrgbmU0EdA:\n",
      " None, reason: None\n"
     ]
    },
    {
     "name": "stderr",
     "output_type": "stream",
     "text": [
      "HTTP Error for GET to https://api.spotify.com/v1/audio-features/?ids=01wmlVlW1qQpQ9TbCTdPTZ,1NLH2qPBoM8t5MUwu5RRNW,5CoI3ZYDvJ5N3Aqc9owq4w,0y3p5OZaMSOej3j0HbNdY1,5E0CVypwF5IcEeVWN4irxB,65RL9iHo2nw6BdQXavkXEI,732vHRwWGvQpNv5PUSSirG,2kmCnKdj42i4NVjs8MjnVM,0Czb9qRWQ5nopT7qwE66Ke,5V0H4iVIlVLqKDGJbW4jK8,28zaRfdizHTtqqUXJWZjtb,4CcLr2kiMdFXPuDimleKoI,5VcSCItOla8P0lXOOZS5KS,153EejT5BPgiyvRtx60vSa,7Ju03u6P3LembkGPOJ1RZa,0Ysh2lfOLknjiCGqvPD2w2,5eOY8xMdIV65L1pYQCxkWe,1cGYqDn7Oa3Qny17fhOXMX,6SjjGlkcD11Q7NQYKOdnn3,7if9atdQjCh6meZ8okkygK,6TSkNqnbrV4t6SgQVNPk5p,12TACGNkXf6zf2yqJJsWwL,4IBDlCDZfTmjT2eFwxKroY,3bWdcrCfyTOgkI4TJPo5km,0kG7fQsl4OIOmKdhBg58wR,5fa2FO3UQ0X8rkNpxZOi46,32GLPPE5MVMrufK7N8dxMh,0wZqRC5qKX4JKSHjowoLT5,4ftFGcxtMwNCT4ABr7UCcr,4WecfUxT1NmBko6ktGiKVP,4PP70zUYxAkv8fkuOyn9VE,17gYZsdNpiDhYmnqaELimP,4b2EcRcCEr1ZinHyzztZ12,2d2HODbYaz1A3qJbqxkPc2,0OEoo7iXmpSQXgoYUS08gY,7kby7CX324VUKkv6QmxeVJ,5fOkXCHkSsZTKM5DIkr4SM,2B7TaxAabDrOCRSQ0I0WRw,50l42UUnkFI5Jna0jkE1Ff,1O6mvHs94JBPAVofSDPhBO,2oDbVcOupYNm7jCOgEnpqK,1KgfYrNin1XIdbUEpr9B3D,447BN0m0VcVaJMXQTwTKBP,2yJhexmCk7z1kkgbXFsufE,3pVzMndOJpKfQEJkzXi43a,02odzOt0JhfBxR0vZcNN9k,4Bpe8OLGkdajz35aVtkY17,2BIn2gW7gS9Kg2CMRYlTSD,2VGUOqkO6Ea7NbggWcDmZV,6yFdtCPtNi98alimQtQ33h with Params: {} returned 403 due to None\n"
     ]
    },
    {
     "name": "stdout",
     "output_type": "stream",
     "text": [
      "Error de Spotify (lote 1150-1200): http status: 403, code:-1 - https://api.spotify.com/v1/audio-features/?ids=01wmlVlW1qQpQ9TbCTdPTZ,1NLH2qPBoM8t5MUwu5RRNW,5CoI3ZYDvJ5N3Aqc9owq4w,0y3p5OZaMSOej3j0HbNdY1,5E0CVypwF5IcEeVWN4irxB,65RL9iHo2nw6BdQXavkXEI,732vHRwWGvQpNv5PUSSirG,2kmCnKdj42i4NVjs8MjnVM,0Czb9qRWQ5nopT7qwE66Ke,5V0H4iVIlVLqKDGJbW4jK8,28zaRfdizHTtqqUXJWZjtb,4CcLr2kiMdFXPuDimleKoI,5VcSCItOla8P0lXOOZS5KS,153EejT5BPgiyvRtx60vSa,7Ju03u6P3LembkGPOJ1RZa,0Ysh2lfOLknjiCGqvPD2w2,5eOY8xMdIV65L1pYQCxkWe,1cGYqDn7Oa3Qny17fhOXMX,6SjjGlkcD11Q7NQYKOdnn3,7if9atdQjCh6meZ8okkygK,6TSkNqnbrV4t6SgQVNPk5p,12TACGNkXf6zf2yqJJsWwL,4IBDlCDZfTmjT2eFwxKroY,3bWdcrCfyTOgkI4TJPo5km,0kG7fQsl4OIOmKdhBg58wR,5fa2FO3UQ0X8rkNpxZOi46,32GLPPE5MVMrufK7N8dxMh,0wZqRC5qKX4JKSHjowoLT5,4ftFGcxtMwNCT4ABr7UCcr,4WecfUxT1NmBko6ktGiKVP,4PP70zUYxAkv8fkuOyn9VE,17gYZsdNpiDhYmnqaELimP,4b2EcRcCEr1ZinHyzztZ12,2d2HODbYaz1A3qJbqxkPc2,0OEoo7iXmpSQXgoYUS08gY,7kby7CX324VUKkv6QmxeVJ,5fOkXCHkSsZTKM5DIkr4SM,2B7TaxAabDrOCRSQ0I0WRw,50l42UUnkFI5Jna0jkE1Ff,1O6mvHs94JBPAVofSDPhBO,2oDbVcOupYNm7jCOgEnpqK,1KgfYrNin1XIdbUEpr9B3D,447BN0m0VcVaJMXQTwTKBP,2yJhexmCk7z1kkgbXFsufE,3pVzMndOJpKfQEJkzXi43a,02odzOt0JhfBxR0vZcNN9k,4Bpe8OLGkdajz35aVtkY17,2BIn2gW7gS9Kg2CMRYlTSD,2VGUOqkO6Ea7NbggWcDmZV,6yFdtCPtNi98alimQtQ33h:\n",
      " None, reason: None\n"
     ]
    },
    {
     "name": "stderr",
     "output_type": "stream",
     "text": [
      "HTTP Error for GET to https://api.spotify.com/v1/audio-features/?ids=3Ugxe304hF0PmlpQBBWKuR,4nkRjSKzDF8Ln3u4YtvYFQ,12HvAWZWHbzxtHx0EeQgG1,3rZ0HFphq9XTvZbUmgVbbe,5dyJoBwbfESEQtJumrbtEg,2H4aNEfqFlPkFtthTEm6Pq,5UnulFDS9m7X3XUOKi3bQb,4ghV2F8raxHDlDj8N1jjWp,2k3Ejn0Qy6BAjPn4e5Cb6N,3QqTr5gX3zcEPtud17xVyf,1PJhXOsC28ZJ5lxhClzaal,2MGKNEjtJipa8hVquBEh6L,42CzrFlhQoEvApVuniHPZw,7CxRYrBFPMDA4LLLeWEk50,6UX9xKBCjPpPhzpM9dhlbe,5U2GKMt0ftgmQDkmXxxx0x,0wezj06eX7bet9kevzEBkp,6dxoekk578Dn6KMg4aKp6m,35Uc9XuKLy66WGPGL5lYVZ,5ADLUsJSV5UqjmTXpJJzRx,1WXSLXGFS4Qe77epNJAXDA,2PHkeym7yjc6NyM4x6GyoQ,4sGG7VeGUUsBMdBtjeYY5M,4qmntKyvNT98ZQEg46wmVK,4Iy0m0Xw0gml1bG24W91YG,4AhmSCwR8d1EXwmiUz47Lp,1cvbxeniqZNNlILJdnb7HD,4vGIzn6pBYhBIGUhgqwdzz,6wwuyhb8hlsqZEgtYliQRN,2t5pRh3CTJ7KoafZM4Nmu0,2BIYwLgYCDyWBmvuyodNzh,0CEU6Bk1Fg3FDDizOO9ZxC,05FkQWadWOddfx0hOO3vdV,7hZ51TGKyYBRsSlm6n0n03,3cnrByIxYeJ7GfmbMtdUl7,3mZ5tHmIgoABDl7f8f6m3e,1MZ0E5w9UCGoMXTrHZO53M,72EFCGH04xXS7kJKbFLMsx,3tNtn9CLQjA4QHZPhdxphi,7mG6iKv0N7zx9nxlzXavlO,33LLMc7LEuf4tc8h0NzhvC,3hYSBOhB4JQfN5dtWPUTih,7uxGlqH5ZDNnVoMpnQ7rid,57VHSrtLez5u8brTZZ4EG9,5Vyek5CEkjXEKHPgkH97Gv,3jlVoTW1y4zCLNG2OK49T8,2DwcLacVHPAlGFaWsK2H37,3QLNoXJjLW0aoBnGeChFpF,0gAu6mBU7udA9NrfAzAAw2,1YcZLXo0hOPAniFPE3SKYZ with Params: {} returned 403 due to None\n"
     ]
    },
    {
     "name": "stdout",
     "output_type": "stream",
     "text": [
      "Error de Spotify (lote 1200-1250): http status: 403, code:-1 - https://api.spotify.com/v1/audio-features/?ids=3Ugxe304hF0PmlpQBBWKuR,4nkRjSKzDF8Ln3u4YtvYFQ,12HvAWZWHbzxtHx0EeQgG1,3rZ0HFphq9XTvZbUmgVbbe,5dyJoBwbfESEQtJumrbtEg,2H4aNEfqFlPkFtthTEm6Pq,5UnulFDS9m7X3XUOKi3bQb,4ghV2F8raxHDlDj8N1jjWp,2k3Ejn0Qy6BAjPn4e5Cb6N,3QqTr5gX3zcEPtud17xVyf,1PJhXOsC28ZJ5lxhClzaal,2MGKNEjtJipa8hVquBEh6L,42CzrFlhQoEvApVuniHPZw,7CxRYrBFPMDA4LLLeWEk50,6UX9xKBCjPpPhzpM9dhlbe,5U2GKMt0ftgmQDkmXxxx0x,0wezj06eX7bet9kevzEBkp,6dxoekk578Dn6KMg4aKp6m,35Uc9XuKLy66WGPGL5lYVZ,5ADLUsJSV5UqjmTXpJJzRx,1WXSLXGFS4Qe77epNJAXDA,2PHkeym7yjc6NyM4x6GyoQ,4sGG7VeGUUsBMdBtjeYY5M,4qmntKyvNT98ZQEg46wmVK,4Iy0m0Xw0gml1bG24W91YG,4AhmSCwR8d1EXwmiUz47Lp,1cvbxeniqZNNlILJdnb7HD,4vGIzn6pBYhBIGUhgqwdzz,6wwuyhb8hlsqZEgtYliQRN,2t5pRh3CTJ7KoafZM4Nmu0,2BIYwLgYCDyWBmvuyodNzh,0CEU6Bk1Fg3FDDizOO9ZxC,05FkQWadWOddfx0hOO3vdV,7hZ51TGKyYBRsSlm6n0n03,3cnrByIxYeJ7GfmbMtdUl7,3mZ5tHmIgoABDl7f8f6m3e,1MZ0E5w9UCGoMXTrHZO53M,72EFCGH04xXS7kJKbFLMsx,3tNtn9CLQjA4QHZPhdxphi,7mG6iKv0N7zx9nxlzXavlO,33LLMc7LEuf4tc8h0NzhvC,3hYSBOhB4JQfN5dtWPUTih,7uxGlqH5ZDNnVoMpnQ7rid,57VHSrtLez5u8brTZZ4EG9,5Vyek5CEkjXEKHPgkH97Gv,3jlVoTW1y4zCLNG2OK49T8,2DwcLacVHPAlGFaWsK2H37,3QLNoXJjLW0aoBnGeChFpF,0gAu6mBU7udA9NrfAzAAw2,1YcZLXo0hOPAniFPE3SKYZ:\n",
      " None, reason: None\n"
     ]
    },
    {
     "name": "stderr",
     "output_type": "stream",
     "text": [
      "HTTP Error for GET to https://api.spotify.com/v1/audio-features/?ids=0LlN35znyLpeIV0pa8xYEZ,1rIKgCH4H52lrvDcz50hS8,7kJlTKjNZVT26iwiDUVhRm,7i2DJ88J7jQ8K7zqFX2fW8,5eTNdkstwKaNahHf41fJ9u,7y9iMe8SOB6z3NoHE2OfXl,1gLbXTDyaDkBkX7MnA6kxW,1M01SjOKy08cLIJPvtoZU9,1fw7XQl4AGxM8ppPAR6y2i,2sykTnZrVIUTr4mX6pI9zP,5MCoBjHbmqfBZEAjmJ3hfZ,52cVffUfBn6HnYWnzsD4lz,0m7tGTVG0iV6CrsBMCMKg6,5YajHujttgqCL5EHFPW2ym,6dDxCakWdoYRScFPAPfnRu,1r6rThy6abxi4hKyMvTQoq,6DKKLnfCVo1GrMs4NvQU6Q,1Zy4xIl7TJMHeVf39Ubt6e,5xXm5vwzXKIOdHt8fYXiBt,3fcHLWjHx1B99guTbQ1x6e,2NoiRFoAgoP2GkTErvtIv9,7b0msqGSN4cgMY7DLOwAmT,7DJi7TWr5E9e9X0U7EK7t0,16SakWPkPHbeG6aQeAl46W,7aBKY2liaf4IsFrNhmeUrB,2g1ReYhBDDmUPvUeGYJlI0,2h3VgxeIjYPy6mo38Q4CpE,7AROsVP7A0Q8uzKei2z2td,28HWd1FGrDvxnI5xVlZ6bh,3q7NxWrslVnaUcc2LozOqA,3laZmjeYFmg4VstAfQOA4U,1Q3Q28mh9DmYPEowXGh8sc,7IwAnkGpT538oQOwyf5dQS,3ZoFt63OKjTvFr6Yyhg0Xu,2PGX1p44wWBFKPkjrFVQvd,1iY4MjvQmhnEU9k55ZFZS9,2VW8WcrCb6aPsg24RUlsvV,5QwKiziLZ77vRVA0MRDeGu,2OB2g9jiW8Ei7lbeMe1KLt,7pkNfihnK4mrV9MXQRJdPZ,034UbmCLLy34F3pzN3Wnf7,1nfU8TLjr5eX23BGjdPgRw,5cS88QEaAdL2EoxE9KszIq,7FltPBq6rRcww02GUbLRCy,5RM18V9mdH5t3Da3UCkaiv,1EuxnSqVfWcIc1JavKNZSS,0884vX6ZVfiObarOwxTG8F,5tOnTbjOvpcXXPZezlF1rM,1lBz4wAzV87JyYP0vvP1zt,6dqqPesxwPIVeixPtW30RS with Params: {} returned 403 due to None\n"
     ]
    },
    {
     "name": "stdout",
     "output_type": "stream",
     "text": [
      "Error de Spotify (lote 1250-1300): http status: 403, code:-1 - https://api.spotify.com/v1/audio-features/?ids=0LlN35znyLpeIV0pa8xYEZ,1rIKgCH4H52lrvDcz50hS8,7kJlTKjNZVT26iwiDUVhRm,7i2DJ88J7jQ8K7zqFX2fW8,5eTNdkstwKaNahHf41fJ9u,7y9iMe8SOB6z3NoHE2OfXl,1gLbXTDyaDkBkX7MnA6kxW,1M01SjOKy08cLIJPvtoZU9,1fw7XQl4AGxM8ppPAR6y2i,2sykTnZrVIUTr4mX6pI9zP,5MCoBjHbmqfBZEAjmJ3hfZ,52cVffUfBn6HnYWnzsD4lz,0m7tGTVG0iV6CrsBMCMKg6,5YajHujttgqCL5EHFPW2ym,6dDxCakWdoYRScFPAPfnRu,1r6rThy6abxi4hKyMvTQoq,6DKKLnfCVo1GrMs4NvQU6Q,1Zy4xIl7TJMHeVf39Ubt6e,5xXm5vwzXKIOdHt8fYXiBt,3fcHLWjHx1B99guTbQ1x6e,2NoiRFoAgoP2GkTErvtIv9,7b0msqGSN4cgMY7DLOwAmT,7DJi7TWr5E9e9X0U7EK7t0,16SakWPkPHbeG6aQeAl46W,7aBKY2liaf4IsFrNhmeUrB,2g1ReYhBDDmUPvUeGYJlI0,2h3VgxeIjYPy6mo38Q4CpE,7AROsVP7A0Q8uzKei2z2td,28HWd1FGrDvxnI5xVlZ6bh,3q7NxWrslVnaUcc2LozOqA,3laZmjeYFmg4VstAfQOA4U,1Q3Q28mh9DmYPEowXGh8sc,7IwAnkGpT538oQOwyf5dQS,3ZoFt63OKjTvFr6Yyhg0Xu,2PGX1p44wWBFKPkjrFVQvd,1iY4MjvQmhnEU9k55ZFZS9,2VW8WcrCb6aPsg24RUlsvV,5QwKiziLZ77vRVA0MRDeGu,2OB2g9jiW8Ei7lbeMe1KLt,7pkNfihnK4mrV9MXQRJdPZ,034UbmCLLy34F3pzN3Wnf7,1nfU8TLjr5eX23BGjdPgRw,5cS88QEaAdL2EoxE9KszIq,7FltPBq6rRcww02GUbLRCy,5RM18V9mdH5t3Da3UCkaiv,1EuxnSqVfWcIc1JavKNZSS,0884vX6ZVfiObarOwxTG8F,5tOnTbjOvpcXXPZezlF1rM,1lBz4wAzV87JyYP0vvP1zt,6dqqPesxwPIVeixPtW30RS:\n",
      " None, reason: None\n"
     ]
    },
    {
     "ename": "KeyboardInterrupt",
     "evalue": "",
     "output_type": "error",
     "traceback": [
      "\u001b[1;31m---------------------------------------------------------------------------\u001b[0m",
      "\u001b[1;31mKeyboardInterrupt\u001b[0m                         Traceback (most recent call last)",
      "Cell \u001b[1;32mIn[7], line 1\u001b[0m\n\u001b[1;32m----> 1\u001b[0m df_result \u001b[38;5;241m=\u001b[39m \u001b[43mget_audio_features_for_df\u001b[49m\u001b[43m(\u001b[49m\u001b[43mdf\u001b[49m\u001b[38;5;241;43m.\u001b[39;49m\u001b[43mcopy\u001b[49m\u001b[43m(\u001b[49m\u001b[43m)\u001b[49m\u001b[43m,\u001b[49m\u001b[43m \u001b[49m\u001b[43mspotify_id_column\u001b[49m\u001b[38;5;241;43m=\u001b[39;49m\u001b[38;5;124;43m'\u001b[39;49m\u001b[38;5;124;43mspotify_id\u001b[39;49m\u001b[38;5;124;43m'\u001b[39;49m\u001b[43m)\u001b[49m  \n\u001b[0;32m      2\u001b[0m \u001b[38;5;28mprint\u001b[39m(df_result\u001b[38;5;241m.\u001b[39mhead())\n\u001b[0;32m      3\u001b[0m df_result\u001b[38;5;241m.\u001b[39mto_csv(\u001b[38;5;124m\"\u001b[39m\u001b[38;5;124mmi_dataframe_con_features.csv\u001b[39m\u001b[38;5;124m\"\u001b[39m, index\u001b[38;5;241m=\u001b[39m\u001b[38;5;28;01mFalse\u001b[39;00m)\n",
      "Cell \u001b[1;32mIn[6], line 53\u001b[0m, in \u001b[0;36mget_audio_features_for_df\u001b[1;34m(df, spotify_id_column, batch_size)\u001b[0m\n\u001b[0;32m     46\u001b[0m             all_audio_features\u001b[38;5;241m.\u001b[39mappend({k: \u001b[38;5;28mfloat\u001b[39m(\u001b[38;5;124m'\u001b[39m\u001b[38;5;124mnan\u001b[39m\u001b[38;5;124m'\u001b[39m) \u001b[38;5;28;01mfor\u001b[39;00m k \u001b[38;5;129;01min\u001b[39;00m [\n\u001b[0;32m     47\u001b[0m                 \u001b[38;5;124m'\u001b[39m\u001b[38;5;124macousticness\u001b[39m\u001b[38;5;124m'\u001b[39m, \u001b[38;5;124m'\u001b[39m\u001b[38;5;124mdanceability\u001b[39m\u001b[38;5;124m'\u001b[39m, \u001b[38;5;124m'\u001b[39m\u001b[38;5;124menergy\u001b[39m\u001b[38;5;124m'\u001b[39m, \u001b[38;5;124m'\u001b[39m\u001b[38;5;124minstrumentalness\u001b[39m\u001b[38;5;124m'\u001b[39m,\n\u001b[0;32m     48\u001b[0m                 \u001b[38;5;124m'\u001b[39m\u001b[38;5;124mkey\u001b[39m\u001b[38;5;124m'\u001b[39m, \u001b[38;5;124m'\u001b[39m\u001b[38;5;124mliveness\u001b[39m\u001b[38;5;124m'\u001b[39m, \u001b[38;5;124m'\u001b[39m\u001b[38;5;124mloudness\u001b[39m\u001b[38;5;124m'\u001b[39m, \u001b[38;5;124m'\u001b[39m\u001b[38;5;124mmode\u001b[39m\u001b[38;5;124m'\u001b[39m, \u001b[38;5;124m'\u001b[39m\u001b[38;5;124mspeechiness\u001b[39m\u001b[38;5;124m'\u001b[39m, \u001b[38;5;124m'\u001b[39m\u001b[38;5;124mtempo\u001b[39m\u001b[38;5;124m'\u001b[39m,\n\u001b[0;32m     49\u001b[0m                 \u001b[38;5;124m'\u001b[39m\u001b[38;5;124mtime_signature\u001b[39m\u001b[38;5;124m'\u001b[39m, \u001b[38;5;124m'\u001b[39m\u001b[38;5;124mvalence\u001b[39m\u001b[38;5;124m'\u001b[39m, \u001b[38;5;124m'\u001b[39m\u001b[38;5;124mid\u001b[39m\u001b[38;5;124m'\u001b[39m\n\u001b[0;32m     50\u001b[0m             ]})\n\u001b[0;32m     51\u001b[0m             all_audio_features[\u001b[38;5;241m-\u001b[39m\u001b[38;5;241m1\u001b[39m][\u001b[38;5;124m'\u001b[39m\u001b[38;5;124mid\u001b[39m\u001b[38;5;124m'\u001b[39m] \u001b[38;5;241m=\u001b[39m \u001b[38;5;28;01mNone\u001b[39;00m  \u001b[38;5;66;03m# Y establecer explicitamente 'id' a None\u001b[39;00m\n\u001b[1;32m---> 53\u001b[0m     \u001b[43mtime\u001b[49m\u001b[38;5;241;43m.\u001b[39;49m\u001b[43msleep\u001b[49m\u001b[43m(\u001b[49m\u001b[38;5;241;43m1\u001b[39;49m\u001b[43m)\u001b[49m\n\u001b[0;32m     56\u001b[0m audio_features_df \u001b[38;5;241m=\u001b[39m pd\u001b[38;5;241m.\u001b[39mDataFrame(all_audio_features)\n\u001b[0;32m     58\u001b[0m \u001b[38;5;66;03m# Paso crucial: Eliminar duplicados ANTES del merge, y manejar los None en 'id'\u001b[39;00m\n",
      "\u001b[1;31mKeyboardInterrupt\u001b[0m: "
     ]
    }
   ],
   "source": [
    "df_result = get_audio_features_for_df(df.copy(), spotify_id_column='spotify_id')  \n",
    "print(df_result.head())\n",
    "df_result.to_csv(\"mi_dataframe_con_features.csv\", index=False)"
   ]
  }
 ],
 "metadata": {
  "kernelspec": {
   "display_name": "pycaret_env",
   "language": "python",
   "name": "python3"
  },
  "language_info": {
   "codemirror_mode": {
    "name": "ipython",
    "version": 3
   },
   "file_extension": ".py",
   "mimetype": "text/x-python",
   "name": "python",
   "nbconvert_exporter": "python",
   "pygments_lexer": "ipython3",
   "version": "3.8.20"
  }
 },
 "nbformat": 4,
 "nbformat_minor": 2
}
